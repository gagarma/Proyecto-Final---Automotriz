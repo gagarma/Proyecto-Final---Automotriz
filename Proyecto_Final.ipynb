{
  "nbformat": 4,
  "nbformat_minor": 0,
  "metadata": {
    "colab": {
      "provenance": [],
      "authorship_tag": "ABX9TyM9dBsK7vBg1/r02qf1T03v",
      "include_colab_link": true
    },
    "kernelspec": {
      "name": "python3",
      "display_name": "Python 3"
    },
    "language_info": {
      "name": "python"
    }
  },
  "cells": [
    {
      "cell_type": "markdown",
      "metadata": {
        "id": "view-in-github",
        "colab_type": "text"
      },
      "source": [
        "<a href=\"https://colab.research.google.com/github/gagarma/Proyecto-Final---Automotriz/blob/main/Proyecto_Final.ipynb\" target=\"_parent\"><img src=\"https://colab.research.google.com/assets/colab-badge.svg\" alt=\"Open In Colab\"/></a>"
      ]
    },
    {
      "cell_type": "markdown",
      "source": [
        "### Proyecto Final: Predicción del precio de venta de autos en USA\n",
        "\n",
        "Gustavo Garma"
      ],
      "metadata": {
        "id": "YfbzYq9zC8wy"
      }
    },
    {
      "cell_type": "markdown",
      "source": [
        "**Para este proyecto seleccione una base de ventas de vehiculos de segunda mano en USA.**"
      ],
      "metadata": {
        "id": "r7ejTecoDOIA"
      }
    },
    {
      "cell_type": "markdown",
      "source": [
        "## Pre - operativo"
      ],
      "metadata": {
        "id": "YQOhrvcTDaYt"
      }
    },
    {
      "cell_type": "code",
      "execution_count": 1,
      "metadata": {
        "colab": {
          "base_uri": "https://localhost:8080/"
        },
        "id": "rQGjqlpwarMr",
        "outputId": "c5e6319a-d6d7-433f-f84a-1a95212f702f"
      },
      "outputs": [
        {
          "output_type": "stream",
          "name": "stdout",
          "text": [
            "Mounted at /content/drive\n"
          ]
        }
      ],
      "source": [
        "from google.colab import drive\n",
        "drive.mount(\"/content/drive\")"
      ]
    },
    {
      "cell_type": "code",
      "source": [
        "import pandas as pd\n",
        "from matplotlib import pyplot as plt\n",
        "import seaborn as sns\n",
        "import plotly.express as px"
      ],
      "metadata": {
        "id": "8d7HEb_Caur8"
      },
      "execution_count": 2,
      "outputs": []
    },
    {
      "cell_type": "code",
      "source": [
        "archivo = \"/content/drive/MyDrive/car_prices.csv\"\n",
        "df = pd.read_csv(archivo)\n",
        "df.head(10)"
      ],
      "metadata": {
        "colab": {
          "base_uri": "https://localhost:8080/",
          "height": 537
        },
        "id": "2MhDU1uWa3Zi",
        "outputId": "91a43d6d-d64f-4c01-c7a0-457cbcc57c92"
      },
      "execution_count": 3,
      "outputs": [
        {
          "output_type": "execute_result",
          "data": {
            "text/plain": [
              "   year       make                model                       trim  \\\n",
              "0  2015        Kia              Sorento                         LX   \n",
              "1  2015        Kia              Sorento                         LX   \n",
              "2  2014        BMW             3 Series                 328i SULEV   \n",
              "3  2015      Volvo                  S60                         T5   \n",
              "4  2014        BMW  6 Series Gran Coupe                       650i   \n",
              "5  2015     Nissan               Altima                      2.5 S   \n",
              "6  2014        BMW                   M5                       Base   \n",
              "7  2014  Chevrolet                Cruze                        1LT   \n",
              "8  2014       Audi                   A4  2.0T Premium Plus quattro   \n",
              "9  2014  Chevrolet               Camaro                         LT   \n",
              "\n",
              "          body transmission                vin state  condition  odometer  \\\n",
              "0          SUV    automatic  5xyktca69fg566472    ca        5.0   16639.0   \n",
              "1          SUV    automatic  5xyktca69fg561319    ca        5.0    9393.0   \n",
              "2        Sedan    automatic  wba3c1c51ek116351    ca       45.0    1331.0   \n",
              "3        Sedan    automatic  yv1612tb4f1310987    ca       41.0   14282.0   \n",
              "4        Sedan    automatic  wba6b2c57ed129731    ca       43.0    2641.0   \n",
              "5        Sedan    automatic  1n4al3ap1fn326013    ca        1.0    5554.0   \n",
              "6        Sedan    automatic  wbsfv9c51ed593089    ca       34.0   14943.0   \n",
              "7        Sedan    automatic  1g1pc5sb2e7128460    ca        2.0   28617.0   \n",
              "8        Sedan    automatic  wauffafl3en030343    ca       42.0    9557.0   \n",
              "9  Convertible    automatic  2g1fb3d37e9218789    ca        3.0    4809.0   \n",
              "\n",
              "   color interior                                             seller      mmr  \\\n",
              "0  white    black                            kia motors america  inc  20500.0   \n",
              "1  white    beige                            kia motors america  inc  20800.0   \n",
              "2   gray    black             financial services remarketing (lease)  31900.0   \n",
              "3  white    black                            volvo na rep/world omni  27500.0   \n",
              "4   gray    black             financial services remarketing (lease)  66000.0   \n",
              "5   gray    black  enterprise vehicle exchange / tra / rental / t...  15350.0   \n",
              "6  black    black                              the hertz corporation  69000.0   \n",
              "7  black    black  enterprise vehicle exchange / tra / rental / t...  11900.0   \n",
              "8  white    black                                 audi mission viejo  32100.0   \n",
              "9    red    black                                 d/m auto sales inc  26300.0   \n",
              "\n",
              "   sellingprice                                 saledate  \n",
              "0       21500.0  Tue Dec 16 2014 12:30:00 GMT-0800 (PST)  \n",
              "1       21500.0  Tue Dec 16 2014 12:30:00 GMT-0800 (PST)  \n",
              "2       30000.0  Thu Jan 15 2015 04:30:00 GMT-0800 (PST)  \n",
              "3       27750.0  Thu Jan 29 2015 04:30:00 GMT-0800 (PST)  \n",
              "4       67000.0  Thu Dec 18 2014 12:30:00 GMT-0800 (PST)  \n",
              "5       10900.0  Tue Dec 30 2014 12:00:00 GMT-0800 (PST)  \n",
              "6       65000.0  Wed Dec 17 2014 12:30:00 GMT-0800 (PST)  \n",
              "7        9800.0  Tue Dec 16 2014 13:00:00 GMT-0800 (PST)  \n",
              "8       32250.0  Thu Dec 18 2014 12:00:00 GMT-0800 (PST)  \n",
              "9       17500.0  Tue Jan 20 2015 04:00:00 GMT-0800 (PST)  "
            ],
            "text/html": [
              "\n",
              "  <div id=\"df-b808a5b5-3731-4dfd-a6e7-1b96212f1ed7\" class=\"colab-df-container\">\n",
              "    <div>\n",
              "<style scoped>\n",
              "    .dataframe tbody tr th:only-of-type {\n",
              "        vertical-align: middle;\n",
              "    }\n",
              "\n",
              "    .dataframe tbody tr th {\n",
              "        vertical-align: top;\n",
              "    }\n",
              "\n",
              "    .dataframe thead th {\n",
              "        text-align: right;\n",
              "    }\n",
              "</style>\n",
              "<table border=\"1\" class=\"dataframe\">\n",
              "  <thead>\n",
              "    <tr style=\"text-align: right;\">\n",
              "      <th></th>\n",
              "      <th>year</th>\n",
              "      <th>make</th>\n",
              "      <th>model</th>\n",
              "      <th>trim</th>\n",
              "      <th>body</th>\n",
              "      <th>transmission</th>\n",
              "      <th>vin</th>\n",
              "      <th>state</th>\n",
              "      <th>condition</th>\n",
              "      <th>odometer</th>\n",
              "      <th>color</th>\n",
              "      <th>interior</th>\n",
              "      <th>seller</th>\n",
              "      <th>mmr</th>\n",
              "      <th>sellingprice</th>\n",
              "      <th>saledate</th>\n",
              "    </tr>\n",
              "  </thead>\n",
              "  <tbody>\n",
              "    <tr>\n",
              "      <th>0</th>\n",
              "      <td>2015</td>\n",
              "      <td>Kia</td>\n",
              "      <td>Sorento</td>\n",
              "      <td>LX</td>\n",
              "      <td>SUV</td>\n",
              "      <td>automatic</td>\n",
              "      <td>5xyktca69fg566472</td>\n",
              "      <td>ca</td>\n",
              "      <td>5.0</td>\n",
              "      <td>16639.0</td>\n",
              "      <td>white</td>\n",
              "      <td>black</td>\n",
              "      <td>kia motors america  inc</td>\n",
              "      <td>20500.0</td>\n",
              "      <td>21500.0</td>\n",
              "      <td>Tue Dec 16 2014 12:30:00 GMT-0800 (PST)</td>\n",
              "    </tr>\n",
              "    <tr>\n",
              "      <th>1</th>\n",
              "      <td>2015</td>\n",
              "      <td>Kia</td>\n",
              "      <td>Sorento</td>\n",
              "      <td>LX</td>\n",
              "      <td>SUV</td>\n",
              "      <td>automatic</td>\n",
              "      <td>5xyktca69fg561319</td>\n",
              "      <td>ca</td>\n",
              "      <td>5.0</td>\n",
              "      <td>9393.0</td>\n",
              "      <td>white</td>\n",
              "      <td>beige</td>\n",
              "      <td>kia motors america  inc</td>\n",
              "      <td>20800.0</td>\n",
              "      <td>21500.0</td>\n",
              "      <td>Tue Dec 16 2014 12:30:00 GMT-0800 (PST)</td>\n",
              "    </tr>\n",
              "    <tr>\n",
              "      <th>2</th>\n",
              "      <td>2014</td>\n",
              "      <td>BMW</td>\n",
              "      <td>3 Series</td>\n",
              "      <td>328i SULEV</td>\n",
              "      <td>Sedan</td>\n",
              "      <td>automatic</td>\n",
              "      <td>wba3c1c51ek116351</td>\n",
              "      <td>ca</td>\n",
              "      <td>45.0</td>\n",
              "      <td>1331.0</td>\n",
              "      <td>gray</td>\n",
              "      <td>black</td>\n",
              "      <td>financial services remarketing (lease)</td>\n",
              "      <td>31900.0</td>\n",
              "      <td>30000.0</td>\n",
              "      <td>Thu Jan 15 2015 04:30:00 GMT-0800 (PST)</td>\n",
              "    </tr>\n",
              "    <tr>\n",
              "      <th>3</th>\n",
              "      <td>2015</td>\n",
              "      <td>Volvo</td>\n",
              "      <td>S60</td>\n",
              "      <td>T5</td>\n",
              "      <td>Sedan</td>\n",
              "      <td>automatic</td>\n",
              "      <td>yv1612tb4f1310987</td>\n",
              "      <td>ca</td>\n",
              "      <td>41.0</td>\n",
              "      <td>14282.0</td>\n",
              "      <td>white</td>\n",
              "      <td>black</td>\n",
              "      <td>volvo na rep/world omni</td>\n",
              "      <td>27500.0</td>\n",
              "      <td>27750.0</td>\n",
              "      <td>Thu Jan 29 2015 04:30:00 GMT-0800 (PST)</td>\n",
              "    </tr>\n",
              "    <tr>\n",
              "      <th>4</th>\n",
              "      <td>2014</td>\n",
              "      <td>BMW</td>\n",
              "      <td>6 Series Gran Coupe</td>\n",
              "      <td>650i</td>\n",
              "      <td>Sedan</td>\n",
              "      <td>automatic</td>\n",
              "      <td>wba6b2c57ed129731</td>\n",
              "      <td>ca</td>\n",
              "      <td>43.0</td>\n",
              "      <td>2641.0</td>\n",
              "      <td>gray</td>\n",
              "      <td>black</td>\n",
              "      <td>financial services remarketing (lease)</td>\n",
              "      <td>66000.0</td>\n",
              "      <td>67000.0</td>\n",
              "      <td>Thu Dec 18 2014 12:30:00 GMT-0800 (PST)</td>\n",
              "    </tr>\n",
              "    <tr>\n",
              "      <th>5</th>\n",
              "      <td>2015</td>\n",
              "      <td>Nissan</td>\n",
              "      <td>Altima</td>\n",
              "      <td>2.5 S</td>\n",
              "      <td>Sedan</td>\n",
              "      <td>automatic</td>\n",
              "      <td>1n4al3ap1fn326013</td>\n",
              "      <td>ca</td>\n",
              "      <td>1.0</td>\n",
              "      <td>5554.0</td>\n",
              "      <td>gray</td>\n",
              "      <td>black</td>\n",
              "      <td>enterprise vehicle exchange / tra / rental / t...</td>\n",
              "      <td>15350.0</td>\n",
              "      <td>10900.0</td>\n",
              "      <td>Tue Dec 30 2014 12:00:00 GMT-0800 (PST)</td>\n",
              "    </tr>\n",
              "    <tr>\n",
              "      <th>6</th>\n",
              "      <td>2014</td>\n",
              "      <td>BMW</td>\n",
              "      <td>M5</td>\n",
              "      <td>Base</td>\n",
              "      <td>Sedan</td>\n",
              "      <td>automatic</td>\n",
              "      <td>wbsfv9c51ed593089</td>\n",
              "      <td>ca</td>\n",
              "      <td>34.0</td>\n",
              "      <td>14943.0</td>\n",
              "      <td>black</td>\n",
              "      <td>black</td>\n",
              "      <td>the hertz corporation</td>\n",
              "      <td>69000.0</td>\n",
              "      <td>65000.0</td>\n",
              "      <td>Wed Dec 17 2014 12:30:00 GMT-0800 (PST)</td>\n",
              "    </tr>\n",
              "    <tr>\n",
              "      <th>7</th>\n",
              "      <td>2014</td>\n",
              "      <td>Chevrolet</td>\n",
              "      <td>Cruze</td>\n",
              "      <td>1LT</td>\n",
              "      <td>Sedan</td>\n",
              "      <td>automatic</td>\n",
              "      <td>1g1pc5sb2e7128460</td>\n",
              "      <td>ca</td>\n",
              "      <td>2.0</td>\n",
              "      <td>28617.0</td>\n",
              "      <td>black</td>\n",
              "      <td>black</td>\n",
              "      <td>enterprise vehicle exchange / tra / rental / t...</td>\n",
              "      <td>11900.0</td>\n",
              "      <td>9800.0</td>\n",
              "      <td>Tue Dec 16 2014 13:00:00 GMT-0800 (PST)</td>\n",
              "    </tr>\n",
              "    <tr>\n",
              "      <th>8</th>\n",
              "      <td>2014</td>\n",
              "      <td>Audi</td>\n",
              "      <td>A4</td>\n",
              "      <td>2.0T Premium Plus quattro</td>\n",
              "      <td>Sedan</td>\n",
              "      <td>automatic</td>\n",
              "      <td>wauffafl3en030343</td>\n",
              "      <td>ca</td>\n",
              "      <td>42.0</td>\n",
              "      <td>9557.0</td>\n",
              "      <td>white</td>\n",
              "      <td>black</td>\n",
              "      <td>audi mission viejo</td>\n",
              "      <td>32100.0</td>\n",
              "      <td>32250.0</td>\n",
              "      <td>Thu Dec 18 2014 12:00:00 GMT-0800 (PST)</td>\n",
              "    </tr>\n",
              "    <tr>\n",
              "      <th>9</th>\n",
              "      <td>2014</td>\n",
              "      <td>Chevrolet</td>\n",
              "      <td>Camaro</td>\n",
              "      <td>LT</td>\n",
              "      <td>Convertible</td>\n",
              "      <td>automatic</td>\n",
              "      <td>2g1fb3d37e9218789</td>\n",
              "      <td>ca</td>\n",
              "      <td>3.0</td>\n",
              "      <td>4809.0</td>\n",
              "      <td>red</td>\n",
              "      <td>black</td>\n",
              "      <td>d/m auto sales inc</td>\n",
              "      <td>26300.0</td>\n",
              "      <td>17500.0</td>\n",
              "      <td>Tue Jan 20 2015 04:00:00 GMT-0800 (PST)</td>\n",
              "    </tr>\n",
              "  </tbody>\n",
              "</table>\n",
              "</div>\n",
              "    <div class=\"colab-df-buttons\">\n",
              "\n",
              "  <div class=\"colab-df-container\">\n",
              "    <button class=\"colab-df-convert\" onclick=\"convertToInteractive('df-b808a5b5-3731-4dfd-a6e7-1b96212f1ed7')\"\n",
              "            title=\"Convert this dataframe to an interactive table.\"\n",
              "            style=\"display:none;\">\n",
              "\n",
              "  <svg xmlns=\"http://www.w3.org/2000/svg\" height=\"24px\" viewBox=\"0 -960 960 960\">\n",
              "    <path d=\"M120-120v-720h720v720H120Zm60-500h600v-160H180v160Zm220 220h160v-160H400v160Zm0 220h160v-160H400v160ZM180-400h160v-160H180v160Zm440 0h160v-160H620v160ZM180-180h160v-160H180v160Zm440 0h160v-160H620v160Z\"/>\n",
              "  </svg>\n",
              "    </button>\n",
              "\n",
              "  <style>\n",
              "    .colab-df-container {\n",
              "      display:flex;\n",
              "      gap: 12px;\n",
              "    }\n",
              "\n",
              "    .colab-df-convert {\n",
              "      background-color: #E8F0FE;\n",
              "      border: none;\n",
              "      border-radius: 50%;\n",
              "      cursor: pointer;\n",
              "      display: none;\n",
              "      fill: #1967D2;\n",
              "      height: 32px;\n",
              "      padding: 0 0 0 0;\n",
              "      width: 32px;\n",
              "    }\n",
              "\n",
              "    .colab-df-convert:hover {\n",
              "      background-color: #E2EBFA;\n",
              "      box-shadow: 0px 1px 2px rgba(60, 64, 67, 0.3), 0px 1px 3px 1px rgba(60, 64, 67, 0.15);\n",
              "      fill: #174EA6;\n",
              "    }\n",
              "\n",
              "    .colab-df-buttons div {\n",
              "      margin-bottom: 4px;\n",
              "    }\n",
              "\n",
              "    [theme=dark] .colab-df-convert {\n",
              "      background-color: #3B4455;\n",
              "      fill: #D2E3FC;\n",
              "    }\n",
              "\n",
              "    [theme=dark] .colab-df-convert:hover {\n",
              "      background-color: #434B5C;\n",
              "      box-shadow: 0px 1px 3px 1px rgba(0, 0, 0, 0.15);\n",
              "      filter: drop-shadow(0px 1px 2px rgba(0, 0, 0, 0.3));\n",
              "      fill: #FFFFFF;\n",
              "    }\n",
              "  </style>\n",
              "\n",
              "    <script>\n",
              "      const buttonEl =\n",
              "        document.querySelector('#df-b808a5b5-3731-4dfd-a6e7-1b96212f1ed7 button.colab-df-convert');\n",
              "      buttonEl.style.display =\n",
              "        google.colab.kernel.accessAllowed ? 'block' : 'none';\n",
              "\n",
              "      async function convertToInteractive(key) {\n",
              "        const element = document.querySelector('#df-b808a5b5-3731-4dfd-a6e7-1b96212f1ed7');\n",
              "        const dataTable =\n",
              "          await google.colab.kernel.invokeFunction('convertToInteractive',\n",
              "                                                    [key], {});\n",
              "        if (!dataTable) return;\n",
              "\n",
              "        const docLinkHtml = 'Like what you see? Visit the ' +\n",
              "          '<a target=\"_blank\" href=https://colab.research.google.com/notebooks/data_table.ipynb>data table notebook</a>'\n",
              "          + ' to learn more about interactive tables.';\n",
              "        element.innerHTML = '';\n",
              "        dataTable['output_type'] = 'display_data';\n",
              "        await google.colab.output.renderOutput(dataTable, element);\n",
              "        const docLink = document.createElement('div');\n",
              "        docLink.innerHTML = docLinkHtml;\n",
              "        element.appendChild(docLink);\n",
              "      }\n",
              "    </script>\n",
              "  </div>\n",
              "\n",
              "\n",
              "<div id=\"df-80ea6f54-e201-4b2e-98b9-7b035386dc06\">\n",
              "  <button class=\"colab-df-quickchart\" onclick=\"quickchart('df-80ea6f54-e201-4b2e-98b9-7b035386dc06')\"\n",
              "            title=\"Suggest charts\"\n",
              "            style=\"display:none;\">\n",
              "\n",
              "<svg xmlns=\"http://www.w3.org/2000/svg\" height=\"24px\"viewBox=\"0 0 24 24\"\n",
              "     width=\"24px\">\n",
              "    <g>\n",
              "        <path d=\"M19 3H5c-1.1 0-2 .9-2 2v14c0 1.1.9 2 2 2h14c1.1 0 2-.9 2-2V5c0-1.1-.9-2-2-2zM9 17H7v-7h2v7zm4 0h-2V7h2v10zm4 0h-2v-4h2v4z\"/>\n",
              "    </g>\n",
              "</svg>\n",
              "  </button>\n",
              "\n",
              "<style>\n",
              "  .colab-df-quickchart {\n",
              "      --bg-color: #E8F0FE;\n",
              "      --fill-color: #1967D2;\n",
              "      --hover-bg-color: #E2EBFA;\n",
              "      --hover-fill-color: #174EA6;\n",
              "      --disabled-fill-color: #AAA;\n",
              "      --disabled-bg-color: #DDD;\n",
              "  }\n",
              "\n",
              "  [theme=dark] .colab-df-quickchart {\n",
              "      --bg-color: #3B4455;\n",
              "      --fill-color: #D2E3FC;\n",
              "      --hover-bg-color: #434B5C;\n",
              "      --hover-fill-color: #FFFFFF;\n",
              "      --disabled-bg-color: #3B4455;\n",
              "      --disabled-fill-color: #666;\n",
              "  }\n",
              "\n",
              "  .colab-df-quickchart {\n",
              "    background-color: var(--bg-color);\n",
              "    border: none;\n",
              "    border-radius: 50%;\n",
              "    cursor: pointer;\n",
              "    display: none;\n",
              "    fill: var(--fill-color);\n",
              "    height: 32px;\n",
              "    padding: 0;\n",
              "    width: 32px;\n",
              "  }\n",
              "\n",
              "  .colab-df-quickchart:hover {\n",
              "    background-color: var(--hover-bg-color);\n",
              "    box-shadow: 0 1px 2px rgba(60, 64, 67, 0.3), 0 1px 3px 1px rgba(60, 64, 67, 0.15);\n",
              "    fill: var(--button-hover-fill-color);\n",
              "  }\n",
              "\n",
              "  .colab-df-quickchart-complete:disabled,\n",
              "  .colab-df-quickchart-complete:disabled:hover {\n",
              "    background-color: var(--disabled-bg-color);\n",
              "    fill: var(--disabled-fill-color);\n",
              "    box-shadow: none;\n",
              "  }\n",
              "\n",
              "  .colab-df-spinner {\n",
              "    border: 2px solid var(--fill-color);\n",
              "    border-color: transparent;\n",
              "    border-bottom-color: var(--fill-color);\n",
              "    animation:\n",
              "      spin 1s steps(1) infinite;\n",
              "  }\n",
              "\n",
              "  @keyframes spin {\n",
              "    0% {\n",
              "      border-color: transparent;\n",
              "      border-bottom-color: var(--fill-color);\n",
              "      border-left-color: var(--fill-color);\n",
              "    }\n",
              "    20% {\n",
              "      border-color: transparent;\n",
              "      border-left-color: var(--fill-color);\n",
              "      border-top-color: var(--fill-color);\n",
              "    }\n",
              "    30% {\n",
              "      border-color: transparent;\n",
              "      border-left-color: var(--fill-color);\n",
              "      border-top-color: var(--fill-color);\n",
              "      border-right-color: var(--fill-color);\n",
              "    }\n",
              "    40% {\n",
              "      border-color: transparent;\n",
              "      border-right-color: var(--fill-color);\n",
              "      border-top-color: var(--fill-color);\n",
              "    }\n",
              "    60% {\n",
              "      border-color: transparent;\n",
              "      border-right-color: var(--fill-color);\n",
              "    }\n",
              "    80% {\n",
              "      border-color: transparent;\n",
              "      border-right-color: var(--fill-color);\n",
              "      border-bottom-color: var(--fill-color);\n",
              "    }\n",
              "    90% {\n",
              "      border-color: transparent;\n",
              "      border-bottom-color: var(--fill-color);\n",
              "    }\n",
              "  }\n",
              "</style>\n",
              "\n",
              "  <script>\n",
              "    async function quickchart(key) {\n",
              "      const quickchartButtonEl =\n",
              "        document.querySelector('#' + key + ' button');\n",
              "      quickchartButtonEl.disabled = true;  // To prevent multiple clicks.\n",
              "      quickchartButtonEl.classList.add('colab-df-spinner');\n",
              "      try {\n",
              "        const charts = await google.colab.kernel.invokeFunction(\n",
              "            'suggestCharts', [key], {});\n",
              "      } catch (error) {\n",
              "        console.error('Error during call to suggestCharts:', error);\n",
              "      }\n",
              "      quickchartButtonEl.classList.remove('colab-df-spinner');\n",
              "      quickchartButtonEl.classList.add('colab-df-quickchart-complete');\n",
              "    }\n",
              "    (() => {\n",
              "      let quickchartButtonEl =\n",
              "        document.querySelector('#df-80ea6f54-e201-4b2e-98b9-7b035386dc06 button');\n",
              "      quickchartButtonEl.style.display =\n",
              "        google.colab.kernel.accessAllowed ? 'block' : 'none';\n",
              "    })();\n",
              "  </script>\n",
              "</div>\n",
              "\n",
              "    </div>\n",
              "  </div>\n"
            ],
            "application/vnd.google.colaboratory.intrinsic+json": {
              "type": "dataframe",
              "variable_name": "df"
            }
          },
          "metadata": {},
          "execution_count": 3
        }
      ]
    },
    {
      "cell_type": "code",
      "source": [
        "df.info()"
      ],
      "metadata": {
        "colab": {
          "base_uri": "https://localhost:8080/"
        },
        "id": "z9mLG9X7bAsU",
        "outputId": "52d7f882-93aa-4188-b156-1f210740d439"
      },
      "execution_count": 4,
      "outputs": [
        {
          "output_type": "stream",
          "name": "stdout",
          "text": [
            "<class 'pandas.core.frame.DataFrame'>\n",
            "RangeIndex: 558837 entries, 0 to 558836\n",
            "Data columns (total 16 columns):\n",
            " #   Column        Non-Null Count   Dtype  \n",
            "---  ------        --------------   -----  \n",
            " 0   year          558837 non-null  int64  \n",
            " 1   make          548536 non-null  object \n",
            " 2   model         548438 non-null  object \n",
            " 3   trim          548186 non-null  object \n",
            " 4   body          545642 non-null  object \n",
            " 5   transmission  493485 non-null  object \n",
            " 6   vin           558833 non-null  object \n",
            " 7   state         558837 non-null  object \n",
            " 8   condition     547017 non-null  float64\n",
            " 9   odometer      558743 non-null  float64\n",
            " 10  color         558088 non-null  object \n",
            " 11  interior      558088 non-null  object \n",
            " 12  seller        558837 non-null  object \n",
            " 13  mmr           558799 non-null  float64\n",
            " 14  sellingprice  558825 non-null  float64\n",
            " 15  saledate      558825 non-null  object \n",
            "dtypes: float64(4), int64(1), object(11)\n",
            "memory usage: 68.2+ MB\n"
          ]
        }
      ]
    },
    {
      "cell_type": "markdown",
      "source": [
        "## Preguntas:"
      ],
      "metadata": {
        "id": "rA0IEbD_DfZl"
      }
    },
    {
      "cell_type": "markdown",
      "source": [
        "\n",
        "*   **¿Qué tipo de preguntas sobre ciencia de datos puedes responder en función de tus datos?**\n",
        "\n",
        "    Con esta base puedo predecir el precio de venta de un carro dependiendo de distintas variables como su color, su kilometraje recorrido, la condición del auto,etc.\n",
        "\n",
        "*   **¿Es esta una tarea supervisada o no supervisada?**\n",
        "\n",
        "    Esta tarea sería supervisada, ya que conocemos los precios de estos vehiculos de antemano.\n",
        "\n",
        "*   **Si se trata de una tarea supervisada, ¿es una tarea de regresión o clasificación?**\n",
        "\n",
        "    Es una tarea de regresión, ya que el precio es una variable númerica nominal.\n",
        "\n",
        "*   **¿Qué tan limpios están tus datos?**\n",
        "\n",
        "    Hay datos nulos, columnas de valor único, columnas que no aportan valor a nuestro análisis y posiblemente datos duplicados.\n",
        "\n",
        "*   **¿Qué problemas crees que pueden surgir?**\n",
        "\n",
        "    Al ser una base muy grande, pueden existir valores outliers o valores erroneos, por lo que habra que hacer una revisión columna por columna.\n",
        "\n",
        "\n",
        "\n",
        "\n",
        "\n",
        "\n"
      ],
      "metadata": {
        "id": "OxBHYpPoDl02"
      }
    },
    {
      "cell_type": "markdown",
      "source": [
        "## Limpieza"
      ],
      "metadata": {
        "id": "jk-sSGpdf6sE"
      }
    },
    {
      "cell_type": "code",
      "source": [
        "df.describe()"
      ],
      "metadata": {
        "colab": {
          "base_uri": "https://localhost:8080/",
          "height": 300
        },
        "id": "Ea-w3kxCf8ir",
        "outputId": "6f6cc3dc-b36e-4086-a10d-29afd90d8341"
      },
      "execution_count": 5,
      "outputs": [
        {
          "output_type": "execute_result",
          "data": {
            "text/plain": [
              "                year      condition       odometer            mmr  \\\n",
              "count  558837.000000  547017.000000  558743.000000  558799.000000   \n",
              "mean     2010.038927      30.672365   68320.017767   13769.377495   \n",
              "std         3.966864      13.402832   53398.542821    9679.967174   \n",
              "min      1982.000000       1.000000       1.000000      25.000000   \n",
              "25%      2007.000000      23.000000   28371.000000    7100.000000   \n",
              "50%      2012.000000      35.000000   52254.000000   12250.000000   \n",
              "75%      2013.000000      42.000000   99109.000000   18300.000000   \n",
              "max      2015.000000      49.000000  999999.000000  182000.000000   \n",
              "\n",
              "        sellingprice  \n",
              "count  558825.000000  \n",
              "mean    13611.358810  \n",
              "std      9749.501628  \n",
              "min         1.000000  \n",
              "25%      6900.000000  \n",
              "50%     12100.000000  \n",
              "75%     18200.000000  \n",
              "max    230000.000000  "
            ],
            "text/html": [
              "\n",
              "  <div id=\"df-a5f294d6-f382-4b0f-86b5-b8149ad12935\" class=\"colab-df-container\">\n",
              "    <div>\n",
              "<style scoped>\n",
              "    .dataframe tbody tr th:only-of-type {\n",
              "        vertical-align: middle;\n",
              "    }\n",
              "\n",
              "    .dataframe tbody tr th {\n",
              "        vertical-align: top;\n",
              "    }\n",
              "\n",
              "    .dataframe thead th {\n",
              "        text-align: right;\n",
              "    }\n",
              "</style>\n",
              "<table border=\"1\" class=\"dataframe\">\n",
              "  <thead>\n",
              "    <tr style=\"text-align: right;\">\n",
              "      <th></th>\n",
              "      <th>year</th>\n",
              "      <th>condition</th>\n",
              "      <th>odometer</th>\n",
              "      <th>mmr</th>\n",
              "      <th>sellingprice</th>\n",
              "    </tr>\n",
              "  </thead>\n",
              "  <tbody>\n",
              "    <tr>\n",
              "      <th>count</th>\n",
              "      <td>558837.000000</td>\n",
              "      <td>547017.000000</td>\n",
              "      <td>558743.000000</td>\n",
              "      <td>558799.000000</td>\n",
              "      <td>558825.000000</td>\n",
              "    </tr>\n",
              "    <tr>\n",
              "      <th>mean</th>\n",
              "      <td>2010.038927</td>\n",
              "      <td>30.672365</td>\n",
              "      <td>68320.017767</td>\n",
              "      <td>13769.377495</td>\n",
              "      <td>13611.358810</td>\n",
              "    </tr>\n",
              "    <tr>\n",
              "      <th>std</th>\n",
              "      <td>3.966864</td>\n",
              "      <td>13.402832</td>\n",
              "      <td>53398.542821</td>\n",
              "      <td>9679.967174</td>\n",
              "      <td>9749.501628</td>\n",
              "    </tr>\n",
              "    <tr>\n",
              "      <th>min</th>\n",
              "      <td>1982.000000</td>\n",
              "      <td>1.000000</td>\n",
              "      <td>1.000000</td>\n",
              "      <td>25.000000</td>\n",
              "      <td>1.000000</td>\n",
              "    </tr>\n",
              "    <tr>\n",
              "      <th>25%</th>\n",
              "      <td>2007.000000</td>\n",
              "      <td>23.000000</td>\n",
              "      <td>28371.000000</td>\n",
              "      <td>7100.000000</td>\n",
              "      <td>6900.000000</td>\n",
              "    </tr>\n",
              "    <tr>\n",
              "      <th>50%</th>\n",
              "      <td>2012.000000</td>\n",
              "      <td>35.000000</td>\n",
              "      <td>52254.000000</td>\n",
              "      <td>12250.000000</td>\n",
              "      <td>12100.000000</td>\n",
              "    </tr>\n",
              "    <tr>\n",
              "      <th>75%</th>\n",
              "      <td>2013.000000</td>\n",
              "      <td>42.000000</td>\n",
              "      <td>99109.000000</td>\n",
              "      <td>18300.000000</td>\n",
              "      <td>18200.000000</td>\n",
              "    </tr>\n",
              "    <tr>\n",
              "      <th>max</th>\n",
              "      <td>2015.000000</td>\n",
              "      <td>49.000000</td>\n",
              "      <td>999999.000000</td>\n",
              "      <td>182000.000000</td>\n",
              "      <td>230000.000000</td>\n",
              "    </tr>\n",
              "  </tbody>\n",
              "</table>\n",
              "</div>\n",
              "    <div class=\"colab-df-buttons\">\n",
              "\n",
              "  <div class=\"colab-df-container\">\n",
              "    <button class=\"colab-df-convert\" onclick=\"convertToInteractive('df-a5f294d6-f382-4b0f-86b5-b8149ad12935')\"\n",
              "            title=\"Convert this dataframe to an interactive table.\"\n",
              "            style=\"display:none;\">\n",
              "\n",
              "  <svg xmlns=\"http://www.w3.org/2000/svg\" height=\"24px\" viewBox=\"0 -960 960 960\">\n",
              "    <path d=\"M120-120v-720h720v720H120Zm60-500h600v-160H180v160Zm220 220h160v-160H400v160Zm0 220h160v-160H400v160ZM180-400h160v-160H180v160Zm440 0h160v-160H620v160ZM180-180h160v-160H180v160Zm440 0h160v-160H620v160Z\"/>\n",
              "  </svg>\n",
              "    </button>\n",
              "\n",
              "  <style>\n",
              "    .colab-df-container {\n",
              "      display:flex;\n",
              "      gap: 12px;\n",
              "    }\n",
              "\n",
              "    .colab-df-convert {\n",
              "      background-color: #E8F0FE;\n",
              "      border: none;\n",
              "      border-radius: 50%;\n",
              "      cursor: pointer;\n",
              "      display: none;\n",
              "      fill: #1967D2;\n",
              "      height: 32px;\n",
              "      padding: 0 0 0 0;\n",
              "      width: 32px;\n",
              "    }\n",
              "\n",
              "    .colab-df-convert:hover {\n",
              "      background-color: #E2EBFA;\n",
              "      box-shadow: 0px 1px 2px rgba(60, 64, 67, 0.3), 0px 1px 3px 1px rgba(60, 64, 67, 0.15);\n",
              "      fill: #174EA6;\n",
              "    }\n",
              "\n",
              "    .colab-df-buttons div {\n",
              "      margin-bottom: 4px;\n",
              "    }\n",
              "\n",
              "    [theme=dark] .colab-df-convert {\n",
              "      background-color: #3B4455;\n",
              "      fill: #D2E3FC;\n",
              "    }\n",
              "\n",
              "    [theme=dark] .colab-df-convert:hover {\n",
              "      background-color: #434B5C;\n",
              "      box-shadow: 0px 1px 3px 1px rgba(0, 0, 0, 0.15);\n",
              "      filter: drop-shadow(0px 1px 2px rgba(0, 0, 0, 0.3));\n",
              "      fill: #FFFFFF;\n",
              "    }\n",
              "  </style>\n",
              "\n",
              "    <script>\n",
              "      const buttonEl =\n",
              "        document.querySelector('#df-a5f294d6-f382-4b0f-86b5-b8149ad12935 button.colab-df-convert');\n",
              "      buttonEl.style.display =\n",
              "        google.colab.kernel.accessAllowed ? 'block' : 'none';\n",
              "\n",
              "      async function convertToInteractive(key) {\n",
              "        const element = document.querySelector('#df-a5f294d6-f382-4b0f-86b5-b8149ad12935');\n",
              "        const dataTable =\n",
              "          await google.colab.kernel.invokeFunction('convertToInteractive',\n",
              "                                                    [key], {});\n",
              "        if (!dataTable) return;\n",
              "\n",
              "        const docLinkHtml = 'Like what you see? Visit the ' +\n",
              "          '<a target=\"_blank\" href=https://colab.research.google.com/notebooks/data_table.ipynb>data table notebook</a>'\n",
              "          + ' to learn more about interactive tables.';\n",
              "        element.innerHTML = '';\n",
              "        dataTable['output_type'] = 'display_data';\n",
              "        await google.colab.output.renderOutput(dataTable, element);\n",
              "        const docLink = document.createElement('div');\n",
              "        docLink.innerHTML = docLinkHtml;\n",
              "        element.appendChild(docLink);\n",
              "      }\n",
              "    </script>\n",
              "  </div>\n",
              "\n",
              "\n",
              "<div id=\"df-e3eaa51b-f692-4271-8e98-5bf587bd3573\">\n",
              "  <button class=\"colab-df-quickchart\" onclick=\"quickchart('df-e3eaa51b-f692-4271-8e98-5bf587bd3573')\"\n",
              "            title=\"Suggest charts\"\n",
              "            style=\"display:none;\">\n",
              "\n",
              "<svg xmlns=\"http://www.w3.org/2000/svg\" height=\"24px\"viewBox=\"0 0 24 24\"\n",
              "     width=\"24px\">\n",
              "    <g>\n",
              "        <path d=\"M19 3H5c-1.1 0-2 .9-2 2v14c0 1.1.9 2 2 2h14c1.1 0 2-.9 2-2V5c0-1.1-.9-2-2-2zM9 17H7v-7h2v7zm4 0h-2V7h2v10zm4 0h-2v-4h2v4z\"/>\n",
              "    </g>\n",
              "</svg>\n",
              "  </button>\n",
              "\n",
              "<style>\n",
              "  .colab-df-quickchart {\n",
              "      --bg-color: #E8F0FE;\n",
              "      --fill-color: #1967D2;\n",
              "      --hover-bg-color: #E2EBFA;\n",
              "      --hover-fill-color: #174EA6;\n",
              "      --disabled-fill-color: #AAA;\n",
              "      --disabled-bg-color: #DDD;\n",
              "  }\n",
              "\n",
              "  [theme=dark] .colab-df-quickchart {\n",
              "      --bg-color: #3B4455;\n",
              "      --fill-color: #D2E3FC;\n",
              "      --hover-bg-color: #434B5C;\n",
              "      --hover-fill-color: #FFFFFF;\n",
              "      --disabled-bg-color: #3B4455;\n",
              "      --disabled-fill-color: #666;\n",
              "  }\n",
              "\n",
              "  .colab-df-quickchart {\n",
              "    background-color: var(--bg-color);\n",
              "    border: none;\n",
              "    border-radius: 50%;\n",
              "    cursor: pointer;\n",
              "    display: none;\n",
              "    fill: var(--fill-color);\n",
              "    height: 32px;\n",
              "    padding: 0;\n",
              "    width: 32px;\n",
              "  }\n",
              "\n",
              "  .colab-df-quickchart:hover {\n",
              "    background-color: var(--hover-bg-color);\n",
              "    box-shadow: 0 1px 2px rgba(60, 64, 67, 0.3), 0 1px 3px 1px rgba(60, 64, 67, 0.15);\n",
              "    fill: var(--button-hover-fill-color);\n",
              "  }\n",
              "\n",
              "  .colab-df-quickchart-complete:disabled,\n",
              "  .colab-df-quickchart-complete:disabled:hover {\n",
              "    background-color: var(--disabled-bg-color);\n",
              "    fill: var(--disabled-fill-color);\n",
              "    box-shadow: none;\n",
              "  }\n",
              "\n",
              "  .colab-df-spinner {\n",
              "    border: 2px solid var(--fill-color);\n",
              "    border-color: transparent;\n",
              "    border-bottom-color: var(--fill-color);\n",
              "    animation:\n",
              "      spin 1s steps(1) infinite;\n",
              "  }\n",
              "\n",
              "  @keyframes spin {\n",
              "    0% {\n",
              "      border-color: transparent;\n",
              "      border-bottom-color: var(--fill-color);\n",
              "      border-left-color: var(--fill-color);\n",
              "    }\n",
              "    20% {\n",
              "      border-color: transparent;\n",
              "      border-left-color: var(--fill-color);\n",
              "      border-top-color: var(--fill-color);\n",
              "    }\n",
              "    30% {\n",
              "      border-color: transparent;\n",
              "      border-left-color: var(--fill-color);\n",
              "      border-top-color: var(--fill-color);\n",
              "      border-right-color: var(--fill-color);\n",
              "    }\n",
              "    40% {\n",
              "      border-color: transparent;\n",
              "      border-right-color: var(--fill-color);\n",
              "      border-top-color: var(--fill-color);\n",
              "    }\n",
              "    60% {\n",
              "      border-color: transparent;\n",
              "      border-right-color: var(--fill-color);\n",
              "    }\n",
              "    80% {\n",
              "      border-color: transparent;\n",
              "      border-right-color: var(--fill-color);\n",
              "      border-bottom-color: var(--fill-color);\n",
              "    }\n",
              "    90% {\n",
              "      border-color: transparent;\n",
              "      border-bottom-color: var(--fill-color);\n",
              "    }\n",
              "  }\n",
              "</style>\n",
              "\n",
              "  <script>\n",
              "    async function quickchart(key) {\n",
              "      const quickchartButtonEl =\n",
              "        document.querySelector('#' + key + ' button');\n",
              "      quickchartButtonEl.disabled = true;  // To prevent multiple clicks.\n",
              "      quickchartButtonEl.classList.add('colab-df-spinner');\n",
              "      try {\n",
              "        const charts = await google.colab.kernel.invokeFunction(\n",
              "            'suggestCharts', [key], {});\n",
              "      } catch (error) {\n",
              "        console.error('Error during call to suggestCharts:', error);\n",
              "      }\n",
              "      quickchartButtonEl.classList.remove('colab-df-spinner');\n",
              "      quickchartButtonEl.classList.add('colab-df-quickchart-complete');\n",
              "    }\n",
              "    (() => {\n",
              "      let quickchartButtonEl =\n",
              "        document.querySelector('#df-e3eaa51b-f692-4271-8e98-5bf587bd3573 button');\n",
              "      quickchartButtonEl.style.display =\n",
              "        google.colab.kernel.accessAllowed ? 'block' : 'none';\n",
              "    })();\n",
              "  </script>\n",
              "</div>\n",
              "\n",
              "    </div>\n",
              "  </div>\n"
            ],
            "application/vnd.google.colaboratory.intrinsic+json": {
              "type": "dataframe",
              "summary": "{\n  \"name\": \"df\",\n  \"rows\": 8,\n  \"fields\": [\n    {\n      \"column\": \"year\",\n      \"properties\": {\n        \"dtype\": \"number\",\n        \"std\": 196971.6992455478,\n        \"min\": 3.9668636154044545,\n        \"max\": 558837.0,\n        \"num_unique_values\": 8,\n        \"samples\": [\n          2010.038927272174,\n          2012.0,\n          558837.0\n        ],\n        \"semantic_type\": \"\",\n        \"description\": \"\"\n      }\n    },\n    {\n      \"column\": \"condition\",\n      \"properties\": {\n        \"dtype\": \"number\",\n        \"std\": 193389.9133974846,\n        \"min\": 1.0,\n        \"max\": 547017.0,\n        \"num_unique_values\": 8,\n        \"samples\": [\n          30.672364844237016,\n          35.0,\n          547017.0\n        ],\n        \"semantic_type\": \"\",\n        \"description\": \"\"\n      }\n    },\n    {\n      \"column\": \"odometer\",\n      \"properties\": {\n        \"dtype\": \"number\",\n        \"std\": 358673.71102008765,\n        \"min\": 1.0,\n        \"max\": 999999.0,\n        \"num_unique_values\": 8,\n        \"samples\": [\n          68320.01776666554,\n          52254.0,\n          558743.0\n        ],\n        \"semantic_type\": \"\",\n        \"description\": \"\"\n      }\n    },\n    {\n      \"column\": \"mmr\",\n      \"properties\": {\n        \"dtype\": \"number\",\n        \"std\": 194867.66634471779,\n        \"min\": 25.0,\n        \"max\": 558799.0,\n        \"num_unique_values\": 8,\n        \"samples\": [\n          13769.377495306899,\n          12250.0,\n          558799.0\n        ],\n        \"semantic_type\": \"\",\n        \"description\": \"\"\n      }\n    },\n    {\n      \"column\": \"sellingprice\",\n      \"properties\": {\n        \"dtype\": \"number\",\n        \"std\": 198497.4658568329,\n        \"min\": 1.0,\n        \"max\": 558825.0,\n        \"num_unique_values\": 8,\n        \"samples\": [\n          13611.358810003132,\n          12100.0,\n          558825.0\n        ],\n        \"semantic_type\": \"\",\n        \"description\": \"\"\n      }\n    }\n  ]\n}"
            }
          },
          "metadata": {},
          "execution_count": 5
        }
      ]
    },
    {
      "cell_type": "code",
      "source": [
        "df[df.duplicated()]"
      ],
      "metadata": {
        "colab": {
          "base_uri": "https://localhost:8080/",
          "height": 53
        },
        "id": "x1TgbN1SgKcm",
        "outputId": "413e2b3f-bcda-4416-eb6f-e63b3208f365"
      },
      "execution_count": 6,
      "outputs": [
        {
          "output_type": "execute_result",
          "data": {
            "text/plain": [
              "Empty DataFrame\n",
              "Columns: [year, make, model, trim, body, transmission, vin, state, condition, odometer, color, interior, seller, mmr, sellingprice, saledate]\n",
              "Index: []"
            ],
            "text/html": [
              "\n",
              "  <div id=\"df-ba212b57-6b9f-4c06-aace-1a3c1b10f52e\" class=\"colab-df-container\">\n",
              "    <div>\n",
              "<style scoped>\n",
              "    .dataframe tbody tr th:only-of-type {\n",
              "        vertical-align: middle;\n",
              "    }\n",
              "\n",
              "    .dataframe tbody tr th {\n",
              "        vertical-align: top;\n",
              "    }\n",
              "\n",
              "    .dataframe thead th {\n",
              "        text-align: right;\n",
              "    }\n",
              "</style>\n",
              "<table border=\"1\" class=\"dataframe\">\n",
              "  <thead>\n",
              "    <tr style=\"text-align: right;\">\n",
              "      <th></th>\n",
              "      <th>year</th>\n",
              "      <th>make</th>\n",
              "      <th>model</th>\n",
              "      <th>trim</th>\n",
              "      <th>body</th>\n",
              "      <th>transmission</th>\n",
              "      <th>vin</th>\n",
              "      <th>state</th>\n",
              "      <th>condition</th>\n",
              "      <th>odometer</th>\n",
              "      <th>color</th>\n",
              "      <th>interior</th>\n",
              "      <th>seller</th>\n",
              "      <th>mmr</th>\n",
              "      <th>sellingprice</th>\n",
              "      <th>saledate</th>\n",
              "    </tr>\n",
              "  </thead>\n",
              "  <tbody>\n",
              "  </tbody>\n",
              "</table>\n",
              "</div>\n",
              "    <div class=\"colab-df-buttons\">\n",
              "\n",
              "  <div class=\"colab-df-container\">\n",
              "    <button class=\"colab-df-convert\" onclick=\"convertToInteractive('df-ba212b57-6b9f-4c06-aace-1a3c1b10f52e')\"\n",
              "            title=\"Convert this dataframe to an interactive table.\"\n",
              "            style=\"display:none;\">\n",
              "\n",
              "  <svg xmlns=\"http://www.w3.org/2000/svg\" height=\"24px\" viewBox=\"0 -960 960 960\">\n",
              "    <path d=\"M120-120v-720h720v720H120Zm60-500h600v-160H180v160Zm220 220h160v-160H400v160Zm0 220h160v-160H400v160ZM180-400h160v-160H180v160Zm440 0h160v-160H620v160ZM180-180h160v-160H180v160Zm440 0h160v-160H620v160Z\"/>\n",
              "  </svg>\n",
              "    </button>\n",
              "\n",
              "  <style>\n",
              "    .colab-df-container {\n",
              "      display:flex;\n",
              "      gap: 12px;\n",
              "    }\n",
              "\n",
              "    .colab-df-convert {\n",
              "      background-color: #E8F0FE;\n",
              "      border: none;\n",
              "      border-radius: 50%;\n",
              "      cursor: pointer;\n",
              "      display: none;\n",
              "      fill: #1967D2;\n",
              "      height: 32px;\n",
              "      padding: 0 0 0 0;\n",
              "      width: 32px;\n",
              "    }\n",
              "\n",
              "    .colab-df-convert:hover {\n",
              "      background-color: #E2EBFA;\n",
              "      box-shadow: 0px 1px 2px rgba(60, 64, 67, 0.3), 0px 1px 3px 1px rgba(60, 64, 67, 0.15);\n",
              "      fill: #174EA6;\n",
              "    }\n",
              "\n",
              "    .colab-df-buttons div {\n",
              "      margin-bottom: 4px;\n",
              "    }\n",
              "\n",
              "    [theme=dark] .colab-df-convert {\n",
              "      background-color: #3B4455;\n",
              "      fill: #D2E3FC;\n",
              "    }\n",
              "\n",
              "    [theme=dark] .colab-df-convert:hover {\n",
              "      background-color: #434B5C;\n",
              "      box-shadow: 0px 1px 3px 1px rgba(0, 0, 0, 0.15);\n",
              "      filter: drop-shadow(0px 1px 2px rgba(0, 0, 0, 0.3));\n",
              "      fill: #FFFFFF;\n",
              "    }\n",
              "  </style>\n",
              "\n",
              "    <script>\n",
              "      const buttonEl =\n",
              "        document.querySelector('#df-ba212b57-6b9f-4c06-aace-1a3c1b10f52e button.colab-df-convert');\n",
              "      buttonEl.style.display =\n",
              "        google.colab.kernel.accessAllowed ? 'block' : 'none';\n",
              "\n",
              "      async function convertToInteractive(key) {\n",
              "        const element = document.querySelector('#df-ba212b57-6b9f-4c06-aace-1a3c1b10f52e');\n",
              "        const dataTable =\n",
              "          await google.colab.kernel.invokeFunction('convertToInteractive',\n",
              "                                                    [key], {});\n",
              "        if (!dataTable) return;\n",
              "\n",
              "        const docLinkHtml = 'Like what you see? Visit the ' +\n",
              "          '<a target=\"_blank\" href=https://colab.research.google.com/notebooks/data_table.ipynb>data table notebook</a>'\n",
              "          + ' to learn more about interactive tables.';\n",
              "        element.innerHTML = '';\n",
              "        dataTable['output_type'] = 'display_data';\n",
              "        await google.colab.output.renderOutput(dataTable, element);\n",
              "        const docLink = document.createElement('div');\n",
              "        docLink.innerHTML = docLinkHtml;\n",
              "        element.appendChild(docLink);\n",
              "      }\n",
              "    </script>\n",
              "  </div>\n",
              "\n",
              "\n",
              "    </div>\n",
              "  </div>\n"
            ],
            "application/vnd.google.colaboratory.intrinsic+json": {
              "type": "dataframe",
              "repr_error": "Out of range float values are not JSON compliant: nan"
            }
          },
          "metadata": {},
          "execution_count": 6
        }
      ]
    },
    {
      "cell_type": "markdown",
      "source": [
        "**No hay duplicados en la base.**"
      ],
      "metadata": {
        "id": "nSUpdXSjxUoL"
      }
    },
    {
      "cell_type": "code",
      "source": [
        "df.isnull().sum()"
      ],
      "metadata": {
        "colab": {
          "base_uri": "https://localhost:8080/"
        },
        "id": "lz6j7zdZ4ibC",
        "outputId": "e95830ca-231a-4857-8d1f-af53375fd887"
      },
      "execution_count": 7,
      "outputs": [
        {
          "output_type": "execute_result",
          "data": {
            "text/plain": [
              "year                0\n",
              "make            10301\n",
              "model           10399\n",
              "trim            10651\n",
              "body            13195\n",
              "transmission    65352\n",
              "vin                 4\n",
              "state               0\n",
              "condition       11820\n",
              "odometer           94\n",
              "color             749\n",
              "interior          749\n",
              "seller              0\n",
              "mmr                38\n",
              "sellingprice       12\n",
              "saledate           12\n",
              "dtype: int64"
            ]
          },
          "metadata": {},
          "execution_count": 7
        }
      ]
    },
    {
      "cell_type": "markdown",
      "source": [
        "**Vemos que hay muchos nulos en varias columnas.**"
      ],
      "metadata": {
        "id": "vAvLuovg4tYv"
      }
    },
    {
      "cell_type": "markdown",
      "source": [
        "### Columna 1: Year"
      ],
      "metadata": {
        "id": "z8WjQleLgeKP"
      }
    },
    {
      "cell_type": "code",
      "source": [
        "df[\"year\"].value_counts(sort=False)"
      ],
      "metadata": {
        "colab": {
          "base_uri": "https://localhost:8080/"
        },
        "id": "qlDuSYx8gag8",
        "outputId": "52a973ba-3996-4e7c-fb33-025c7f883423"
      },
      "execution_count": 8,
      "outputs": [
        {
          "output_type": "execute_result",
          "data": {
            "text/plain": [
              "year\n",
              "2015      9437\n",
              "2014     81070\n",
              "2013     98168\n",
              "2012    102315\n",
              "2011     48548\n",
              "2010     26485\n",
              "2009     20594\n",
              "2008     31502\n",
              "2007     30845\n",
              "2006     26913\n",
              "2005     21394\n",
              "2004     17342\n",
              "2003     13281\n",
              "2002      9715\n",
              "2001      6468\n",
              "2000      5227\n",
              "1999      3363\n",
              "1998      2149\n",
              "1995       711\n",
              "1996       851\n",
              "1997      1546\n",
              "1987         8\n",
              "1994       392\n",
              "1993       205\n",
              "1992       132\n",
              "1989        20\n",
              "1991        67\n",
              "1990        49\n",
              "1986        11\n",
              "1985        10\n",
              "1988        11\n",
              "1984         5\n",
              "1982         2\n",
              "1983         1\n",
              "Name: count, dtype: int64"
            ]
          },
          "metadata": {},
          "execution_count": 8
        }
      ]
    },
    {
      "cell_type": "markdown",
      "source": [
        "**Hay algunos años que tienen muy poco valores y no resultan significativos para realizar una predicción, por lo tanto se borrarán todos los años que tengan una cantidad menor a los 500 valores.**"
      ],
      "metadata": {
        "id": "SEcSLqZYhzmT"
      }
    },
    {
      "cell_type": "code",
      "source": [
        "df=df.drop(df[df[\"year\"]==1982].index)\n",
        "df=df.drop(df[df[\"year\"]==1983].index)\n",
        "df=df.drop(df[df[\"year\"]==1984].index)\n",
        "df=df.drop(df[df[\"year\"]==1985].index)\n",
        "df=df.drop(df[df[\"year\"]==1986].index)\n",
        "df=df.drop(df[df[\"year\"]==1987].index)\n",
        "df=df.drop(df[df[\"year\"]==1988].index)\n",
        "df=df.drop(df[df[\"year\"]==1989].index)\n",
        "df=df.drop(df[df[\"year\"]==1990].index)\n",
        "df=df.drop(df[df[\"year\"]==1991].index)\n",
        "df=df.drop(df[df[\"year\"]==1992].index)\n",
        "df=df.drop(df[df[\"year\"]==1993].index)\n",
        "df=df.drop(df[df[\"year\"]==1994].index)"
      ],
      "metadata": {
        "id": "AIe-p3hwgkKS"
      },
      "execution_count": 9,
      "outputs": []
    },
    {
      "cell_type": "markdown",
      "source": [
        "**Ahora si la columna esta limpia.**"
      ],
      "metadata": {
        "id": "nGwuaAiRitJ5"
      }
    },
    {
      "cell_type": "markdown",
      "source": [
        "### Columna 2: make"
      ],
      "metadata": {
        "id": "XHrbSbbmiyGJ"
      }
    },
    {
      "cell_type": "code",
      "source": [
        "df[\"make\"].value_counts(dropna=False).head(40)"
      ],
      "metadata": {
        "colab": {
          "base_uri": "https://localhost:8080/"
        },
        "id": "tLwiM3XBirOK",
        "outputId": "c2258c8d-52e4-4dce-ddc8-505c8a762591"
      },
      "execution_count": 10,
      "outputs": [
        {
          "output_type": "execute_result",
          "data": {
            "text/plain": [
              "make\n",
              "Ford             93484\n",
              "Chevrolet        60159\n",
              "Nissan           53922\n",
              "Toyota           39709\n",
              "Dodge            30709\n",
              "Honda            27070\n",
              "Hyundai          21816\n",
              "BMW              20705\n",
              "Kia              18077\n",
              "Chrysler         17273\n",
              "Mercedes-Benz    17099\n",
              "Jeep             15355\n",
              "Infiniti         15298\n",
              "Volkswagen       12581\n",
              "Lexus            11806\n",
              "GMC              10611\n",
              "NaN              10168\n",
              "Mazda             8338\n",
              "Cadillac          7495\n",
              "Acura             5888\n",
              "Audi              5869\n",
              "Lincoln           5745\n",
              "Buick             5081\n",
              "Subaru            5043\n",
              "Ram               4574\n",
              "Pontiac           4490\n",
              "Mitsubishi        4139\n",
              "Volvo             3781\n",
              "MINI              3224\n",
              "Saturn            2831\n",
              "Mercury           1973\n",
              "Land Rover        1735\n",
              "Scion             1687\n",
              "Jaguar            1419\n",
              "Porsche           1383\n",
              "Suzuki            1073\n",
              "FIAT               865\n",
              "HUMMER             805\n",
              "Saab               484\n",
              "ford               438\n",
              "Name: count, dtype: int64"
            ]
          },
          "metadata": {},
          "execution_count": 10
        }
      ]
    },
    {
      "cell_type": "markdown",
      "source": [
        "**Vemos que hay muchos modelos que estan en minusculas y esto hace que se sumen de forma incorrecta.**"
      ],
      "metadata": {
        "id": "AMirWOTRkpuk"
      }
    },
    {
      "cell_type": "code",
      "source": [
        "df[\"make\"].replace(\"plymouth\",\"Plymouth\",inplace=True)\n",
        "df[\"make\"].replace(\"nissan\",\"Nissan\",inplace=True)\n",
        "df[\"make\"].replace(\"chevrolet\",\"Chevrolet\",inplace=True)\n",
        "df[\"make\"].replace(\"ford\",\"Ford\",inplace=True)\n",
        "df[\"make\"].replace(\"toyota\",\"Toyota\",inplace=True)\n",
        "df[\"make\"].replace(\"volkswagen\",\"Volkswagen\",inplace=True)\n",
        "df[\"make\"].replace(\"honda\",\"Honda\",inplace=True)\n",
        "df[\"make\"].replace(\"kia\",\"Kia\",inplace=True)\n",
        "df[\"make\"].replace(\"audi\",\"Audi\",inplace=True)\n",
        "df[\"make\"].replace(\"vw\",\"Volkswagen\",inplace=True)\n",
        "df[\"make\"].replace(\"acura\",\"Acura\",inplace=True)\n",
        "df[\"make\"].replace(\"pontiac\",\"Pontiac\",inplace=True)\n",
        "df[\"make\"].replace(\"bmw\",\"BMW\",inplace=True)\n",
        "df[\"make\"].replace(\"dodge\",\"Dodge\",inplace=True)\n",
        "df[\"make\"].replace(\"lincoln\",\"Lincoln\",inplace=True)\n",
        "df[\"make\"].replace(\"mazda\",\"Mazda\",inplace=True)\n",
        "df[\"make\"].replace(\"gmc\",\"GMC\",inplace=True)\n",
        "df[\"make\"].replace(\"jeep\",\"Jeep\",inplace=True)\n",
        "df[\"make\"].replace(\"mercury\",\"Mercury\",inplace=True)\n",
        "df[\"make\"].replace(\"subaru\",\"Subaru\",inplace=True)\n",
        "df[\"make\"].replace(\"cadillac\",\"Cadillac\",inplace=True)\n",
        "df[\"make\"].replace(\"chrysler\",\"Chrysler\",inplace=True)\n",
        "df[\"make\"].replace(\"land rover\",\"Land Rover\",inplace=True)\n",
        "df[\"make\"].replace(\"smart\",\"Smart\",inplace=True)\n",
        "df[\"make\"].replace(\"mitsubishi\",\"Mitsubishi\",inplace=True)\n",
        "df[\"make\"].replace(\"mercedes\",\"Mercedes-Benz\",inplace=True)\n",
        "df[\"make\"].replace(\"landrover\",\"Land Rover\",inplace=True)\n",
        "df[\"make\"].replace(\"lexus\",\"Lexus\",inplace=True)\n",
        "df[\"make\"].replace(\"hyundai\",\"Hyundai\",inplace=True)\n",
        "df[\"make\"].replace(\"buick\",\"Buick\",inplace=True)\n",
        "df[\"make\"].replace(\"oldsmobile\",\"Oldsmobile\",inplace=True)\n",
        "df[\"make\"].replace(\"mercedes\",\"Mercedes-Benz\",inplace=True)\n",
        "df[\"make\"].replace(\"susuki\",\"Susuki\",inplace=True)\n",
        "df[\"make\"].replace(\"maserati\",\"Maserati\",inplace=True)\n",
        "df[\"make\"].replace(\"porsche\",\"Porsche\",inplace=True)\n",
        "df[\"make\"].replace(\"gmc truck\",\"GMC\",inplace=True)\n",
        "df[\"make\"].replace(\"suzuki\",\"Suzuki\",inplace=True)\n",
        "df[\"make\"].replace(\"ford truck\",\"Ford\",inplace=True)\n",
        "df[\"make\"].replace(\"mercedes-b\",\"Mercedes-Benz\",inplace=True)\n",
        "df[\"make\"].replace(\"ford tk\",\"Ford\",inplace=True)\n",
        "df[\"make\"].replace(\"chev truck\",\"Chevrolet\",inplace=True)\n",
        "df[\"make\"].replace(\"hyundai tk\",\"Hyundai\",inplace=True)\n",
        "df[\"make\"].replace(\"mazda tk\",\"Mazda\",inplace=True)\n",
        "df[\"make\"].replace(\"dodge tk\",\"Dodge\",inplace=True)"
      ],
      "metadata": {
        "id": "-oBe3F-MkCqB"
      },
      "execution_count": 11,
      "outputs": []
    },
    {
      "cell_type": "markdown",
      "source": [
        "**Ahora borramos los nulos**"
      ],
      "metadata": {
        "id": "pI7GWBaj5nts"
      }
    },
    {
      "cell_type": "code",
      "source": [
        "df = df.dropna(subset=['make'])"
      ],
      "metadata": {
        "id": "tDx1K5CmnofN"
      },
      "execution_count": 12,
      "outputs": []
    },
    {
      "cell_type": "markdown",
      "source": [
        "**Finalmente hay modelos que tienen muy pocos valores, por lo que se borraran los modelos que tienen menos de 10 valores.**"
      ],
      "metadata": {
        "id": "torVmAI8jEdS"
      }
    },
    {
      "cell_type": "code",
      "source": [
        "df=df.drop(df[df[\"make\"]==\"Fisker\"].index)\n",
        "df=df.drop(df[df[\"make\"]==\"Lamborghini\"].index)\n",
        "df=df.drop(df[df[\"make\"]==\"Daewoo\"].index)\n",
        "df=df.drop(df[df[\"make\"]==\"dot\"].index)\n",
        "df=df.drop(df[df[\"make\"]==\"airstream\"].index)\n",
        "df=df.drop(df[df[\"make\"]==\"Lotus\"].index)"
      ],
      "metadata": {
        "id": "cv3s3lt4i4St"
      },
      "execution_count": 13,
      "outputs": []
    },
    {
      "cell_type": "markdown",
      "source": [
        "**Ahora si la columna esta limpia.**"
      ],
      "metadata": {
        "id": "yQ0ADyO6sbM_"
      }
    },
    {
      "cell_type": "markdown",
      "source": [
        "### Columna 3: model"
      ],
      "metadata": {
        "id": "gRcJmSU9shAw"
      }
    },
    {
      "cell_type": "code",
      "source": [
        "df[\"model\"].value_counts(dropna=False)"
      ],
      "metadata": {
        "colab": {
          "base_uri": "https://localhost:8080/"
        },
        "id": "jwM_9uMKsTwc",
        "outputId": "6dd70c35-7a8e-4409-afbc-1df1ac93bbaf"
      },
      "execution_count": 15,
      "outputs": [
        {
          "output_type": "execute_result",
          "data": {
            "text/plain": [
              "model\n",
              "Altima        19342\n",
              "F-150         14475\n",
              "Fusion        12946\n",
              "Camry         12459\n",
              "Escape        11861\n",
              "              ...  \n",
              "avenger           1\n",
              "century           1\n",
              "sportage          1\n",
              "c230              1\n",
              "458 Italia        1\n",
              "Name: count, Length: 946, dtype: int64"
            ]
          },
          "metadata": {},
          "execution_count": 15
        }
      ]
    },
    {
      "cell_type": "markdown",
      "source": [
        "**Al tener una cantidad muy alta de modelos y muchos de ellos con valores repetidos, lo mejor es borrar esta columna.**"
      ],
      "metadata": {
        "id": "nmmGGrm8s2yr"
      }
    },
    {
      "cell_type": "code",
      "source": [
        "df.drop(columns=[\"model\"],inplace=True)"
      ],
      "metadata": {
        "id": "YM9rj0Gisp2J"
      },
      "execution_count": 16,
      "outputs": []
    },
    {
      "cell_type": "markdown",
      "source": [
        "### Columna 4: trim"
      ],
      "metadata": {
        "id": "6BQhqQeetQJJ"
      }
    },
    {
      "cell_type": "code",
      "source": [
        "df[\"trim\"].value_counts()"
      ],
      "metadata": {
        "colab": {
          "base_uri": "https://localhost:8080/"
        },
        "id": "gi9lOxU9tI4c",
        "outputId": "9e2d729f-4177-4b76-ef80-97fc8cf7d982"
      },
      "execution_count": 17,
      "outputs": [
        {
          "output_type": "execute_result",
          "data": {
            "text/plain": [
              "trim\n",
              "Base              55632\n",
              "SE                43638\n",
              "LX                20678\n",
              "Limited           18356\n",
              "LT                16915\n",
              "                  ...  \n",
              "4x2 v6 limited        1\n",
              "lt w/2lt              1\n",
              "b7 lwb                1\n",
              "4x2 crew xlt          1\n",
              "Power Wagon           1\n",
              "Name: count, Length: 1932, dtype: int64"
            ]
          },
          "metadata": {},
          "execution_count": 17
        }
      ]
    },
    {
      "cell_type": "markdown",
      "source": [
        "**Al haber muchos valores únicos esta columna no genera un gran aporte**"
      ],
      "metadata": {
        "id": "ChMhb-MKtgDx"
      }
    },
    {
      "cell_type": "code",
      "source": [
        "df.drop(columns=[\"trim\"],inplace=True)"
      ],
      "metadata": {
        "id": "svF7QAsetXDI"
      },
      "execution_count": 18,
      "outputs": []
    },
    {
      "cell_type": "markdown",
      "source": [
        "### Columna 5: body"
      ],
      "metadata": {
        "id": "e2e9z67nuAeB"
      }
    },
    {
      "cell_type": "code",
      "source": [
        "df[\"body\"].value_counts(dropna=False).head(40)"
      ],
      "metadata": {
        "colab": {
          "base_uri": "https://localhost:8080/"
        },
        "id": "l9GQmlyft98m",
        "outputId": "2ac29645-7c4a-4308-cf9d-2a9ee3ea26c3"
      },
      "execution_count": 19,
      "outputs": [
        {
          "output_type": "execute_result",
          "data": {
            "text/plain": [
              "body\n",
              "Sedan            198980\n",
              "SUV              119226\n",
              "sedan             41852\n",
              "suv               24549\n",
              "Minivan           21363\n",
              "Hatchback         21362\n",
              "Coupe             14558\n",
              "Wagon             13612\n",
              "Crew Cab          13280\n",
              "Convertible        8609\n",
              "SuperCrew          7423\n",
              "G Sedan            5999\n",
              "hatchback          4854\n",
              "SuperCab           4449\n",
              "minivan            4166\n",
              "Regular Cab        4039\n",
              "Van                3958\n",
              "Extended Cab       3816\n",
              "Quad Cab           3436\n",
              "coupe              3146\n",
              "crew cab           3114\n",
              "NaN                2848\n",
              "wagon              2498\n",
              "convertible        1820\n",
              "supercrew          1610\n",
              "E-Series Van       1455\n",
              "g sedan            1418\n",
              "G Coupe            1263\n",
              "Double Cab         1251\n",
              "supercab            862\n",
              "regular cab         781\n",
              "extended cab        683\n",
              "quad cab            659\n",
              "van                 570\n",
              "CrewMax Cab         445\n",
              "King Cab            436\n",
              "e-series van        368\n",
              "double cab          350\n",
              "g coupe             330\n",
              "G Convertible       249\n",
              "Name: count, dtype: int64"
            ]
          },
          "metadata": {},
          "execution_count": 19
        }
      ]
    },
    {
      "cell_type": "markdown",
      "source": [
        "**Vemos errores en las mayúsculas y en las separaciones, por lo que habra que limpiar esta columna.**"
      ],
      "metadata": {
        "id": "hsermZ8jublB"
      }
    },
    {
      "cell_type": "code",
      "source": [
        "df[\"body\"].replace(\"suv\",\"SUV\",inplace=True)\n",
        "df[\"body\"].replace(\"sedan\",\"Sedan\",inplace=True)\n",
        "df[\"body\"].replace(\"hatchback\",\"Hatchback\",inplace=True)\n",
        "df[\"body\"].replace(\"minivan\",\"Minivan\",inplace=True)\n",
        "df[\"body\"].replace(\"coupe\",\"Coupe\",inplace=True)\n",
        "df[\"body\"].replace(\"crew cab\",\"Crew Cab\",inplace=True)\n",
        "df[\"body\"].replace(\"wagon\",\"Wagon\",inplace=True)\n",
        "df[\"body\"].replace(\"convertible\",\"Convertible\",inplace=True)\n",
        "df[\"body\"].replace(\"supercrew\",\"SuperCrew\",inplace=True)\n",
        "df[\"body\"].replace(\"g sedan\",\"G Sedan\",inplace=True)\n",
        "df[\"body\"].replace(\"supercab\",\"SuperCab\",inplace=True)\n",
        "df[\"body\"].replace(\"regular cab\",\"Regular Cab\",inplace=True)\n",
        "df[\"body\"].replace(\"extended cab\",\"Extended Cab\",inplace=True)\n",
        "df[\"body\"].replace(\"quad cab\",\"Quad Cab\",inplace=True)\n",
        "df[\"body\"].replace(\"van\",\"Van\",inplace=True)\n",
        "df[\"body\"].replace(\"e-series van \",\"E-Series Van\",inplace=True)\n",
        "df[\"body\"].replace(\"double cab\",\"Double Cab\",inplace=True)\n",
        "df[\"body\"].replace(\"g coupe\",\"G Coupe\",inplace=True)\n",
        "df[\"body\"].replace(\"crewmax cab\",\"CrewMax Cab\",inplace=True)\n",
        "df[\"body\"].replace(\"king cab\",\"King Cab\",inplace=True)\n",
        "df[\"body\"].replace(\"g coupe\",\"G Coupe\",inplace=True)\n",
        "df[\"body\"].replace(\"g convertible\",\"G Convertible\",inplace=True)\n",
        "df[\"body\"].replace(\"access cab\",\"Access Cab\",inplace=True)\n",
        "df[\"body\"].replace(\"genesis coupe\",\"Genesis Coupe\",inplace=True)\n",
        "df[\"body\"].replace(\"mega cab\",\"Mega Cab\",inplace=True)\n",
        "df[\"body\"].replace(\"koup\",\"Koup\",inplace=True)\n",
        "df[\"body\"].replace(\"cts coupe\",\"CTS Coupe\",inplace=True)\n",
        "df[\"body\"].replace(\"club cab\",\"Club Cab\",inplace=True)\n",
        "df[\"body\"].replace(\"regular-cab\",\"Regular Coupe\",inplace=True)\n",
        "df[\"body\"].replace(\"e-series van\",\"E-Series Van\",inplace=True)\n",
        "df[\"body\"].replace(\"elantra coupe\",\"Elantra Coupe\",inplace=True)\n",
        "df[\"body\"].replace(\"promaster cargo van\",\"Promaster Cargo Van\",inplace=True)\n",
        "df[\"body\"].replace(\"tsx sport wagon\",\"TSX Sport Wagon\",inplace=True)\n",
        "df[\"body\"].replace(\"cts-v coupe\",\"CTS-V Coupe\",inplace=True)\n",
        "df[\"body\"].replace(\"beetle convertible\",\"Beetle Convertible\",inplace=True)\n",
        "df[\"body\"].replace(\"transit van\",\"Transit Van\",inplace=True)\n",
        "df[\"body\"].replace(\"granturismo convertible\",\"GranTurismo Convertible\",inplace=True)\n",
        "df[\"body\"].replace(\"q60 convertible\",\"Q60 Convertible\",inplace=True)\n",
        "df[\"body\"].replace(\"g37 convertible\",\"G37 Convertible\",inplace=True)\n",
        "df[\"body\"].replace(\"q60 coupe\",\"Q60 Coupe\",inplace=True)\n",
        "df[\"body\"].replace(\"xtracab\",\"Xtracab\",inplace=True)\n",
        "df[\"body\"].replace(\"g37 coupe\",\"G37 Coupe\",inplace=True)\n",
        "df[\"body\"].replace(\"cab plus 4\",\"Cab Plus 4\",inplace=True)\n",
        "df[\"body\"].replace(\"cts wagon\",\"CTS Wagon\",inplace=True)"
      ],
      "metadata": {
        "id": "a5p4SZ7luGgo"
      },
      "execution_count": 20,
      "outputs": []
    },
    {
      "cell_type": "markdown",
      "source": [
        "**Ahora borramos los nulos**"
      ],
      "metadata": {
        "id": "Gy-Jf-rM6OnF"
      }
    },
    {
      "cell_type": "code",
      "source": [
        "df = df.dropna(subset=['body'])"
      ],
      "metadata": {
        "id": "5otT5QqDx4ar"
      },
      "execution_count": 21,
      "outputs": []
    },
    {
      "cell_type": "markdown",
      "source": [
        "**Finalmente borramos los body que tienen menos de 10 valores.**"
      ],
      "metadata": {
        "id": "TvQ8Aou72Y2N"
      }
    },
    {
      "cell_type": "code",
      "source": [
        "df=df.drop(df[df[\"body\"]==\"Ram Van\"].index)\n",
        "df=df.drop(df[df[\"body\"]==\"CTS-V Wagon\"].index)\n",
        "df=df.drop(df[df[\"body\"]==\"Cab Plus\"].index)\n",
        "df=df.drop(df[df[\"body\"]==\"Cab Plus 4\"].index)"
      ],
      "metadata": {
        "id": "tQWap3t2w7Ob"
      },
      "execution_count": 22,
      "outputs": []
    },
    {
      "cell_type": "markdown",
      "source": [
        "**Ahora todo esta conforme en esta columna.**"
      ],
      "metadata": {
        "id": "NnNwAxEY35rW"
      }
    },
    {
      "cell_type": "markdown",
      "source": [
        "### Columna 6: transmission"
      ],
      "metadata": {
        "id": "ZzuwtKg92f0F"
      }
    },
    {
      "cell_type": "code",
      "source": [
        "df[\"transmission\"].value_counts(dropna=False)"
      ],
      "metadata": {
        "colab": {
          "base_uri": "https://localhost:8080/"
        },
        "id": "UGQqzeqZ2Vys",
        "outputId": "0886b7c9-3a07-4feb-f7a4-da1785109803"
      },
      "execution_count": 24,
      "outputs": [
        {
          "output_type": "execute_result",
          "data": {
            "text/plain": [
              "transmission\n",
              "automatic    464998\n",
              "NaN           63087\n",
              "manual        16766\n",
              "sedan            15\n",
              "Sedan            11\n",
              "Name: count, dtype: int64"
            ]
          },
          "metadata": {},
          "execution_count": 24
        }
      ]
    },
    {
      "cell_type": "markdown",
      "source": [
        "**Hay una cantidad alta de nulos, que no hay forma de saber a que grupo pertenecen y colocarle la media podria variar mucho su número, por lo que lo mejor sera borrar los nulos. Además hay 2 valores que no pueden pertenecer a esta categoría como sedan y Sedan.**"
      ],
      "metadata": {
        "id": "wNDxBhIX3mvZ"
      }
    },
    {
      "cell_type": "code",
      "source": [
        "df = df.dropna(subset=['transmission'])"
      ],
      "metadata": {
        "id": "0FUp3EuD2uhO"
      },
      "execution_count": 25,
      "outputs": []
    },
    {
      "cell_type": "code",
      "source": [
        "df=df.drop(df[df[\"transmission\"]==\"sedan\"].index)\n",
        "df=df.drop(df[df[\"transmission\"]==\"Sedan\"].index)\n"
      ],
      "metadata": {
        "id": "YSKiPKGs3Psw"
      },
      "execution_count": 26,
      "outputs": []
    },
    {
      "cell_type": "markdown",
      "source": [
        "**Ahora todo esta conforme en esta columna.**"
      ],
      "metadata": {
        "id": "MHPEdypX4E8K"
      }
    },
    {
      "cell_type": "markdown",
      "source": [
        "### Columna 7: vin"
      ],
      "metadata": {
        "id": "LSP92If94K14"
      }
    },
    {
      "cell_type": "code",
      "source": [
        "df[\"vin\"].value_counts(dropna=False)"
      ],
      "metadata": {
        "colab": {
          "base_uri": "https://localhost:8080/"
        },
        "id": "LKWBrzi-3kqH",
        "outputId": "1837a9cd-1b85-4f5f-b581-2ffa11eda32d"
      },
      "execution_count": 27,
      "outputs": [
        {
          "output_type": "execute_result",
          "data": {
            "text/plain": [
              "vin\n",
              "wddgf56x78f009940    4\n",
              "5n1ar1nn2bc632869    4\n",
              "1ftfw1cv5afb30053    4\n",
              "5uxfe43579l274932    4\n",
              "wp0ca2988xu629622    4\n",
              "                    ..\n",
              "4t1bf1fk7eu406035    1\n",
              "4t1bf1fk6eu419035    1\n",
              "4t1bf1fk2eu828603    1\n",
              "4t1bf1fk0eu826932    1\n",
              "1ftfw1et2eke87277    1\n",
              "Name: count, Length: 474977, dtype: int64"
            ]
          },
          "metadata": {},
          "execution_count": 27
        }
      ]
    },
    {
      "cell_type": "markdown",
      "source": [
        "**Son códigos únicos, por lo tanto la columna no aporta valor.**"
      ],
      "metadata": {
        "id": "2BaJo85V6fij"
      }
    },
    {
      "cell_type": "code",
      "source": [
        "df.drop(columns=[\"vin\"],inplace=True)"
      ],
      "metadata": {
        "id": "ny_uPhzc6dIr"
      },
      "execution_count": 28,
      "outputs": []
    },
    {
      "cell_type": "markdown",
      "source": [
        "### Columna 8: state"
      ],
      "metadata": {
        "id": "gmFgYX0W6rIn"
      }
    },
    {
      "cell_type": "code",
      "source": [
        "df[\"state\"].value_counts(dropna=False)"
      ],
      "metadata": {
        "colab": {
          "base_uri": "https://localhost:8080/"
        },
        "id": "-A6W4SGU6pWF",
        "outputId": "b77881da-6ae4-41c0-b7da-c1125637c5ef"
      },
      "execution_count": 29,
      "outputs": [
        {
          "output_type": "execute_result",
          "data": {
            "text/plain": [
              "state\n",
              "fl    76579\n",
              "ca    67410\n",
              "tx    42812\n",
              "ga    31259\n",
              "pa    24396\n",
              "nj    23339\n",
              "il    22344\n",
              "oh    20477\n",
              "tn    19312\n",
              "nc    18933\n",
              "mo    15442\n",
              "mi    14399\n",
              "nv    11987\n",
              "md     9863\n",
              "va     9469\n",
              "wi     9389\n",
              "mn     9033\n",
              "az     8064\n",
              "wa     7051\n",
              "co     6336\n",
              "ma     6231\n",
              "ny     5456\n",
              "in     3934\n",
              "ne     3906\n",
              "sc     3886\n",
              "pr     2440\n",
              "la     2032\n",
              "ut     1762\n",
              "ms     1727\n",
              "hi     1210\n",
              "or     1046\n",
              "nm      161\n",
              "ok       54\n",
              "al       25\n",
              "Name: count, dtype: int64"
            ]
          },
          "metadata": {},
          "execution_count": 29
        }
      ]
    },
    {
      "cell_type": "markdown",
      "source": [
        "**Es el estado de procedencia del carro, sin embargo, esto tampoco suma valor, ya que no es determinante para el precio del carro.**"
      ],
      "metadata": {
        "id": "pGsu5-7_640V"
      }
    },
    {
      "cell_type": "code",
      "source": [
        "df.drop(columns=[\"state\"],inplace=True)"
      ],
      "metadata": {
        "id": "ff6pgzVe6ypp"
      },
      "execution_count": 30,
      "outputs": []
    },
    {
      "cell_type": "markdown",
      "source": [
        "### Columna 9: condition"
      ],
      "metadata": {
        "id": "473YgXVe7FAi"
      }
    },
    {
      "cell_type": "code",
      "source": [
        "df[\"condition\"].value_counts(dropna=False)"
      ],
      "metadata": {
        "colab": {
          "base_uri": "https://localhost:8080/"
        },
        "id": "Mjor1Vgz7DSc",
        "outputId": "ddcde099-112b-4d21-e2d9-b56d96abfc08"
      },
      "execution_count": 31,
      "outputs": [
        {
          "output_type": "execute_result",
          "data": {
            "text/plain": [
              "condition\n",
              "19.0    36670\n",
              "35.0    23227\n",
              "37.0    22714\n",
              "44.0    22156\n",
              "43.0    21639\n",
              "42.0    21120\n",
              "36.0    20195\n",
              "41.0    19916\n",
              "39.0    17585\n",
              "4.0     17087\n",
              "2.0     16943\n",
              "28.0    16657\n",
              "29.0    16446\n",
              "38.0    16410\n",
              "34.0    15114\n",
              "27.0    14179\n",
              "49.0    11090\n",
              "25.0    10954\n",
              "48.0    10923\n",
              "46.0    10851\n",
              "45.0    10716\n",
              "26.0    10379\n",
              "47.0     9767\n",
              "5.0      9446\n",
              "NaN      9389\n",
              "33.0     9185\n",
              "3.0      9117\n",
              "32.0     8657\n",
              "24.0     8158\n",
              "21.0     8011\n",
              "31.0     7954\n",
              "23.0     7135\n",
              "1.0      5618\n",
              "22.0     5235\n",
              "18.0      290\n",
              "17.0      209\n",
              "16.0      151\n",
              "14.0      116\n",
              "15.0      116\n",
              "12.0       86\n",
              "11.0       79\n",
              "13.0       74\n",
              "Name: count, dtype: int64"
            ]
          },
          "metadata": {},
          "execution_count": 31
        }
      ]
    },
    {
      "cell_type": "markdown",
      "source": [
        "**Vemos que hay varios nulos, por lo que le colocaremos el valor más adecuado, aparte de eso deberian ser números enteros, sin embargo, aparecen como floats.**"
      ],
      "metadata": {
        "id": "wtHbggwx8zEI"
      }
    },
    {
      "cell_type": "code",
      "source": [
        "print(\"Promedio de Age:\", df['condition'].mean())\n",
        "print(\"Mediana de Age:\", df['condition'].median())\n",
        "print(\"Moda de Age:\\n\", df['condition'].mode())"
      ],
      "metadata": {
        "colab": {
          "base_uri": "https://localhost:8080/"
        },
        "id": "raQvxOPc7OI8",
        "outputId": "ecc1c8c0-195e-4e67-ee13-b826364e52e1"
      },
      "execution_count": 32,
      "outputs": [
        {
          "output_type": "stream",
          "name": "stdout",
          "text": [
            "Promedio de Age: 30.81697168563112\n",
            "Mediana de Age: 35.0\n",
            "Moda de Age:\n",
            " 0    19.0\n",
            "Name: condition, dtype: float64\n"
          ]
        }
      ]
    },
    {
      "cell_type": "code",
      "source": [
        "df[\"condition\"].fillna(\"35.0\",inplace=True)"
      ],
      "metadata": {
        "id": "zfAUIpjP7pYL"
      },
      "execution_count": 33,
      "outputs": []
    },
    {
      "cell_type": "code",
      "source": [
        "df[\"condition\"].replace(\"35.0\",\"35\",inplace=True)"
      ],
      "metadata": {
        "id": "553qIoxj8kj1"
      },
      "execution_count": 34,
      "outputs": []
    },
    {
      "cell_type": "code",
      "source": [
        "df['condition'] = df['condition'].astype('int64')"
      ],
      "metadata": {
        "id": "tnDDIh2F8FSQ"
      },
      "execution_count": 35,
      "outputs": []
    },
    {
      "cell_type": "markdown",
      "source": [
        "**Todo quedo conforme en esta columna.**"
      ],
      "metadata": {
        "id": "qBBBH7Up898a"
      }
    },
    {
      "cell_type": "markdown",
      "source": [
        "### Columna 10: odometer"
      ],
      "metadata": {
        "id": "5rDPh0jU9C8A"
      }
    },
    {
      "cell_type": "code",
      "source": [
        "df[\"odometer\"].value_counts(dropna=False)"
      ],
      "metadata": {
        "colab": {
          "base_uri": "https://localhost:8080/"
        },
        "id": "zwWi0U1P8Xk7",
        "outputId": "1113df26-39b3-4277-f9bb-fe34a7d3437c"
      },
      "execution_count": 36,
      "outputs": [
        {
          "output_type": "execute_result",
          "data": {
            "text/plain": [
              "odometer\n",
              "1.0         1027\n",
              "999999.0      60\n",
              "NaN           55\n",
              "10.0          24\n",
              "21587.0       19\n",
              "            ... \n",
              "115787.0       1\n",
              "120436.0       1\n",
              "221060.0       1\n",
              "124049.0       1\n",
              "262065.0       1\n",
              "Name: count, Length: 162722, dtype: int64"
            ]
          },
          "metadata": {},
          "execution_count": 36
        }
      ]
    },
    {
      "cell_type": "markdown",
      "source": [
        "**Vemos que hay valores nulos y valores demasiado altos para el promedio o demasiado bajos.**"
      ],
      "metadata": {
        "id": "gjE43OMl-7Yk"
      }
    },
    {
      "cell_type": "code",
      "source": [
        "print(\"Promedio de Kilometraje:\", df['odometer'].mean())\n",
        "print(\"Mediana de Kilometraje:\", df['odometer'].median())\n",
        "print(\"Moda de Kilometraje:\\n\", df['odometer'].mode())"
      ],
      "metadata": {
        "colab": {
          "base_uri": "https://localhost:8080/"
        },
        "id": "m1MlRzyL9dYD",
        "outputId": "3eda8b28-68c0-402b-9d0b-cf7ec9480aae"
      },
      "execution_count": 37,
      "outputs": [
        {
          "output_type": "stream",
          "name": "stdout",
          "text": [
            "Promedio de Kilometraje: 67530.43711867539\n",
            "Mediana de Kilometraje: 51945.0\n",
            "Moda de Kilometraje:\n",
            " 0    1.0\n",
            "Name: odometer, dtype: float64\n"
          ]
        }
      ]
    },
    {
      "cell_type": "markdown",
      "source": [
        "**Se completa los nulos con la mediana.**"
      ],
      "metadata": {
        "id": "znPYGZ1u-29p"
      }
    },
    {
      "cell_type": "code",
      "source": [
        "df[\"odometer\"].fillna(\"51945\",inplace=True)"
      ],
      "metadata": {
        "id": "57KlTtiU9NP0"
      },
      "execution_count": 38,
      "outputs": []
    },
    {
      "cell_type": "code",
      "source": [
        "df['odometer'] = df['odometer'].astype('int64')"
      ],
      "metadata": {
        "id": "FOUU6cnI-UU9"
      },
      "execution_count": 39,
      "outputs": []
    },
    {
      "cell_type": "markdown",
      "source": [
        "**Se eliminan los valores extremos y poco normales.**"
      ],
      "metadata": {
        "id": "YyDfJRJ9_Cd7"
      }
    },
    {
      "cell_type": "code",
      "source": [
        "df=df.drop(df[df[\"odometer\"]==1].index)\n",
        "df=df.drop(df[df[\"odometer\"]==10].index)\n",
        "df=df.drop(df[df[\"odometer\"]==999999].index)"
      ],
      "metadata": {
        "id": "zkYtD9V7-MDL"
      },
      "execution_count": 40,
      "outputs": []
    },
    {
      "cell_type": "markdown",
      "source": [
        "### Columna 11: color"
      ],
      "metadata": {
        "id": "F1vOV37y_HtV"
      }
    },
    {
      "cell_type": "code",
      "source": [
        "df[\"color\"].value_counts(dropna=False)"
      ],
      "metadata": {
        "colab": {
          "base_uri": "https://localhost:8080/"
        },
        "id": "U3ZRMWB6-xjC",
        "outputId": "8d72f098-8dee-439a-d545-717214416ed3"
      },
      "execution_count": 41,
      "outputs": [
        {
          "output_type": "execute_result",
          "data": {
            "text/plain": [
              "color\n",
              "black        94686\n",
              "white        90431\n",
              "silver       72699\n",
              "gray         71716\n",
              "blue         43916\n",
              "red          37935\n",
              "—            22110\n",
              "gold          9842\n",
              "green         9485\n",
              "burgundy      7779\n",
              "beige         7648\n",
              "brown         5706\n",
              "orange        1801\n",
              "purple        1285\n",
              "off-white     1256\n",
              "yellow        1099\n",
              "NaN            579\n",
              "charcoal       434\n",
              "turquoise      193\n",
              "pink            40\n",
              "lime            13\n",
              "Name: count, dtype: int64"
            ]
          },
          "metadata": {},
          "execution_count": 41
        }
      ]
    },
    {
      "cell_type": "markdown",
      "source": [
        "**Vemos que hay nulos y tambien un valor sin color asignado.**"
      ],
      "metadata": {
        "id": "_XXH0-gc_mig"
      }
    },
    {
      "cell_type": "code",
      "source": [
        "df = df.dropna(subset=['color'])"
      ],
      "metadata": {
        "id": "a4MsRt0C_PbB"
      },
      "execution_count": 42,
      "outputs": []
    },
    {
      "cell_type": "markdown",
      "source": [
        "**Colocamos el color black (más común) al valor que esta como -**"
      ],
      "metadata": {
        "id": "5IMWj5ls_71f"
      }
    },
    {
      "cell_type": "code",
      "source": [
        "df[\"color\"].replace(\"—\",\"black\",inplace=True)"
      ],
      "metadata": {
        "id": "_AdECZfn_rii"
      },
      "execution_count": 43,
      "outputs": []
    },
    {
      "cell_type": "markdown",
      "source": [
        "**Esta columna ya esta bien**"
      ],
      "metadata": {
        "id": "pbN7PTlJADsg"
      }
    },
    {
      "cell_type": "markdown",
      "source": [
        "### Columna 12: interior"
      ],
      "metadata": {
        "id": "7zAg9Sc8ALhX"
      }
    },
    {
      "cell_type": "code",
      "source": [
        "df[\"interior\"].value_counts(dropna=False)"
      ],
      "metadata": {
        "colab": {
          "base_uri": "https://localhost:8080/"
        },
        "id": "G8DM81Wo_6LZ",
        "outputId": "f8ac4341-8b46-4a0f-916c-6efef5ec21db"
      },
      "execution_count": 44,
      "outputs": [
        {
          "output_type": "execute_result",
          "data": {
            "text/plain": [
              "interior\n",
              "black        210964\n",
              "gray         154880\n",
              "beige         50640\n",
              "tan           38583\n",
              "—             13204\n",
              "brown          7170\n",
              "red            1126\n",
              "silver         1012\n",
              "blue            863\n",
              "off-white       357\n",
              "gold            287\n",
              "purple          282\n",
              "white           217\n",
              "green           200\n",
              "burgundy        145\n",
              "orange          125\n",
              "yellow           19\n",
              "Name: count, dtype: int64"
            ]
          },
          "metadata": {},
          "execution_count": 44
        }
      ]
    },
    {
      "cell_type": "markdown",
      "source": [
        "**Nuevamente vemos que hay un valor -, por lo que se le asignará el valor más común.**"
      ],
      "metadata": {
        "id": "LLVr_KA8AfIb"
      }
    },
    {
      "cell_type": "code",
      "source": [
        "df[\"interior\"].replace(\"—\",\"black\",inplace=True)"
      ],
      "metadata": {
        "id": "QB5gEgYEAT8p"
      },
      "execution_count": 45,
      "outputs": []
    },
    {
      "cell_type": "markdown",
      "source": [
        "### Columna 13: seller"
      ],
      "metadata": {
        "id": "W1QJn7NMAnFR"
      }
    },
    {
      "cell_type": "code",
      "source": [
        "df[\"seller\"].value_counts(dropna=False)"
      ],
      "metadata": {
        "colab": {
          "base_uri": "https://localhost:8080/"
        },
        "id": "rPRCJYp0Aylo",
        "outputId": "ca54b87c-7bc2-426d-fafc-6e3f240e7fed"
      },
      "execution_count": 46,
      "outputs": [
        {
          "output_type": "execute_result",
          "data": {
            "text/plain": [
              "seller\n",
              "ford motor credit company llc    17744\n",
              "the hertz corporation            16283\n",
              "nissan-infiniti lt               15775\n",
              "santander consumer               14218\n",
              "avis corporation                 11481\n",
              "                                 ...  \n",
              "dehesa auto sales llc                1\n",
              "ford of west covina                  1\n",
              "caserta car company inc              1\n",
              "moses family motors inc              1\n",
              "i -5 uhlmann rv                      1\n",
              "Name: count, Length: 12958, dtype: int64"
            ]
          },
          "metadata": {},
          "execution_count": 46
        }
      ]
    },
    {
      "cell_type": "markdown",
      "source": [
        "**Son demasiadas empresas que no aportan valor al modelo.**"
      ],
      "metadata": {
        "id": "mvhF-zM-A-Ge"
      }
    },
    {
      "cell_type": "code",
      "source": [
        "df.drop(columns=[\"seller\"],inplace=True)"
      ],
      "metadata": {
        "id": "WP0YIEg_A0ar"
      },
      "execution_count": 47,
      "outputs": []
    },
    {
      "cell_type": "markdown",
      "source": [
        "### Columna 14: mmr"
      ],
      "metadata": {
        "id": "399X-RhEBDow"
      }
    },
    {
      "cell_type": "code",
      "source": [
        "df[\"mmr\"].value_counts(dropna=False)"
      ],
      "metadata": {
        "colab": {
          "base_uri": "https://localhost:8080/"
        },
        "id": "hg8g9qB1A9B_",
        "outputId": "4e07c794-199b-4182-c775-957da405b3cc"
      },
      "execution_count": 48,
      "outputs": [
        {
          "output_type": "execute_result",
          "data": {
            "text/plain": [
              "mmr\n",
              "11650.0     1545\n",
              "12500.0     1542\n",
              "11600.0     1539\n",
              "11850.0     1527\n",
              "11300.0     1523\n",
              "            ... \n",
              "113000.0       1\n",
              "162000.0       1\n",
              "163000.0       1\n",
              "152000.0       1\n",
              "164000.0       1\n",
              "Name: count, Length: 1100, dtype: int64"
            ]
          },
          "metadata": {},
          "execution_count": 48
        }
      ]
    },
    {
      "cell_type": "code",
      "source": [
        "df = df.dropna(subset=['mmr'])"
      ],
      "metadata": {
        "id": "Sh0VZLHHBLx2"
      },
      "execution_count": 49,
      "outputs": []
    },
    {
      "cell_type": "code",
      "source": [
        "df['mmr'] = df['mmr'].astype('int64')"
      ],
      "metadata": {
        "id": "6UESQJ-CBuPT"
      },
      "execution_count": 50,
      "outputs": []
    },
    {
      "cell_type": "markdown",
      "source": [
        "**Solo borramos los datos nulos y cambiamos la columna a integer y todo quedaria bien.**"
      ],
      "metadata": {
        "id": "u9b5qIdWB5tO"
      }
    },
    {
      "cell_type": "markdown",
      "source": [
        "### Columna 15: sellingprice"
      ],
      "metadata": {
        "id": "AcCWYC5YCBfk"
      }
    },
    {
      "cell_type": "code",
      "source": [
        "df[\"sellingprice\"].value_counts(dropna=False)"
      ],
      "metadata": {
        "colab": {
          "base_uri": "https://localhost:8080/"
        },
        "id": "kZsOJUebB2Iq",
        "outputId": "ab5ade9e-b7ab-414d-8068-c737733dad31"
      },
      "execution_count": 51,
      "outputs": [
        {
          "output_type": "execute_result",
          "data": {
            "text/plain": [
              "sellingprice\n",
              "12000.0    3916\n",
              "11000.0    3876\n",
              "13000.0    3836\n",
              "10000.0    3590\n",
              "11500.0    3476\n",
              "           ... \n",
              "36301.0       1\n",
              "44601.0       1\n",
              "33501.0       1\n",
              "26826.0       1\n",
              "27840.0       1\n",
              "Name: count, Length: 1822, dtype: int64"
            ]
          },
          "metadata": {},
          "execution_count": 51
        }
      ]
    },
    {
      "cell_type": "code",
      "source": [
        "df = df.dropna(subset=['sellingprice'])"
      ],
      "metadata": {
        "id": "MU9A2PdOCJWP"
      },
      "execution_count": 52,
      "outputs": []
    },
    {
      "cell_type": "code",
      "source": [
        "df['sellingprice'] = df['sellingprice'].astype('int64')"
      ],
      "metadata": {
        "id": "w6N1DvogCR_z"
      },
      "execution_count": 53,
      "outputs": []
    },
    {
      "cell_type": "markdown",
      "source": [
        "**Solo borramos los nulos y cambiamos el tipo de la columna a integer.**"
      ],
      "metadata": {
        "id": "uQjiQ3vCCZtY"
      }
    },
    {
      "cell_type": "markdown",
      "source": [
        "### Columna 16: saledate"
      ],
      "metadata": {
        "id": "TCDyafRXCi94"
      }
    },
    {
      "cell_type": "code",
      "source": [
        "df[\"saledate\"].value_counts(dropna=False)"
      ],
      "metadata": {
        "colab": {
          "base_uri": "https://localhost:8080/"
        },
        "id": "D3HH8WiVCXUL",
        "outputId": "3e7e92e9-ae68-4326-8e68-1938f6039b54"
      },
      "execution_count": 54,
      "outputs": [
        {
          "output_type": "execute_result",
          "data": {
            "text/plain": [
              "saledate\n",
              "Tue Feb 10 2015 01:30:00 GMT-0800 (PST)    4995\n",
              "Tue Feb 17 2015 01:30:00 GMT-0800 (PST)    4696\n",
              "Tue Jan 27 2015 01:30:00 GMT-0800 (PST)    4645\n",
              "Tue Jan 20 2015 01:30:00 GMT-0800 (PST)    4432\n",
              "Tue Mar 03 2015 01:30:00 GMT-0800 (PST)    4375\n",
              "                                           ... \n",
              "Tue May 12 2015 11:25:00 GMT-0700 (PDT)       1\n",
              "Thu Jan 08 2015 02:06:00 GMT-0800 (PST)       1\n",
              "Wed Feb 11 2015 08:40:00 GMT-0800 (PST)       1\n",
              "Tue May 19 2015 04:55:00 GMT-0700 (PDT)       1\n",
              "Wed Jul 08 2015 09:45:00 GMT-0700 (PDT)       1\n",
              "Name: count, Length: 3576, dtype: int64"
            ]
          },
          "metadata": {},
          "execution_count": 54
        }
      ]
    },
    {
      "cell_type": "code",
      "source": [
        "df.drop(columns=[\"saledate\"],inplace=True)"
      ],
      "metadata": {
        "id": "HIEbLhZ8Ct5H"
      },
      "execution_count": 55,
      "outputs": []
    },
    {
      "cell_type": "markdown",
      "source": [
        "**Borramos esta columna, ya que no nos aporta valor.**"
      ],
      "metadata": {
        "id": "x1zbovKYCv2v"
      }
    },
    {
      "cell_type": "code",
      "source": [
        "df.info()"
      ],
      "metadata": {
        "colab": {
          "base_uri": "https://localhost:8080/"
        },
        "id": "DExo2xPPCqQ2",
        "outputId": "6d33e2ff-ce85-46f1-bc20-53501818efc7"
      },
      "execution_count": 56,
      "outputs": [
        {
          "output_type": "stream",
          "name": "stdout",
          "text": [
            "<class 'pandas.core.frame.DataFrame'>\n",
            "Index: 480063 entries, 0 to 558836\n",
            "Data columns (total 10 columns):\n",
            " #   Column        Non-Null Count   Dtype \n",
            "---  ------        --------------   ----- \n",
            " 0   year          480063 non-null  int64 \n",
            " 1   make          480063 non-null  object\n",
            " 2   body          480063 non-null  object\n",
            " 3   transmission  480063 non-null  object\n",
            " 4   condition     480063 non-null  int64 \n",
            " 5   odometer      480063 non-null  int64 \n",
            " 6   color         480063 non-null  object\n",
            " 7   interior      480063 non-null  object\n",
            " 8   mmr           480063 non-null  int64 \n",
            " 9   sellingprice  480063 non-null  int64 \n",
            "dtypes: int64(5), object(5)\n",
            "memory usage: 40.3+ MB\n"
          ]
        }
      ]
    },
    {
      "cell_type": "markdown",
      "source": [
        "**Nuestra base quedaria lista para trabajar.**"
      ],
      "metadata": {
        "id": "u1Or-tlvC5oQ"
      }
    },
    {
      "cell_type": "markdown",
      "source": [
        "## Visualización"
      ],
      "metadata": {
        "id": "8ZtbPD7sDLlb"
      }
    },
    {
      "cell_type": "markdown",
      "source": [
        "### Primera visualización"
      ],
      "metadata": {
        "id": "J_6hCWMfH5VY"
      }
    },
    {
      "cell_type": "code",
      "source": [
        "g1=df.groupby([\"year\"])[[\"sellingprice\",\"mmr\"]].mean().sort_values(by=\"year\",ascending=False).reset_index()\n",
        "g1"
      ],
      "metadata": {
        "colab": {
          "base_uri": "https://localhost:8080/",
          "height": 708
        },
        "id": "KH8caS5oC1fn",
        "outputId": "8f679d16-f1f6-4c54-fcce-cf859234e2cc"
      },
      "execution_count": 57,
      "outputs": [
        {
          "output_type": "execute_result",
          "data": {
            "text/plain": [
              "    year  sellingprice           mmr\n",
              "0   2015  26214.125125  26762.767946\n",
              "1   2014  19931.433567  20163.699256\n",
              "2   2013  17318.285688  17484.753568\n",
              "3   2012  16441.988398  16556.102194\n",
              "4   2011  15697.853382  15862.794026\n",
              "5   2010  12252.613754  12384.344940\n",
              "6   2009  10236.850063  10354.216473\n",
              "7   2008   9442.655829   9564.218789\n",
              "8   2007   7844.521376   7935.382899\n",
              "9   2006   5980.742160   6087.092482\n",
              "10  2005   4868.663181   4942.089822\n",
              "11  2004   4303.285008   4351.808718\n",
              "12  2003   3387.412560   3401.313640\n",
              "13  2002   2648.684976   2680.259488\n",
              "14  2001   2163.136364   2180.113636\n",
              "15  2000   1774.085876   1767.357548\n",
              "16  1999   1517.178841   1538.654492\n",
              "17  1998   1258.652866   1258.105096\n",
              "18  1997   1080.053667   1086.158318\n",
              "19  1996    926.272578    915.804598\n",
              "20  1995    895.291262    929.223301"
            ],
            "text/html": [
              "\n",
              "  <div id=\"df-c6c9318f-1f1b-463b-88a9-c38af6f6b07f\" class=\"colab-df-container\">\n",
              "    <div>\n",
              "<style scoped>\n",
              "    .dataframe tbody tr th:only-of-type {\n",
              "        vertical-align: middle;\n",
              "    }\n",
              "\n",
              "    .dataframe tbody tr th {\n",
              "        vertical-align: top;\n",
              "    }\n",
              "\n",
              "    .dataframe thead th {\n",
              "        text-align: right;\n",
              "    }\n",
              "</style>\n",
              "<table border=\"1\" class=\"dataframe\">\n",
              "  <thead>\n",
              "    <tr style=\"text-align: right;\">\n",
              "      <th></th>\n",
              "      <th>year</th>\n",
              "      <th>sellingprice</th>\n",
              "      <th>mmr</th>\n",
              "    </tr>\n",
              "  </thead>\n",
              "  <tbody>\n",
              "    <tr>\n",
              "      <th>0</th>\n",
              "      <td>2015</td>\n",
              "      <td>26214.125125</td>\n",
              "      <td>26762.767946</td>\n",
              "    </tr>\n",
              "    <tr>\n",
              "      <th>1</th>\n",
              "      <td>2014</td>\n",
              "      <td>19931.433567</td>\n",
              "      <td>20163.699256</td>\n",
              "    </tr>\n",
              "    <tr>\n",
              "      <th>2</th>\n",
              "      <td>2013</td>\n",
              "      <td>17318.285688</td>\n",
              "      <td>17484.753568</td>\n",
              "    </tr>\n",
              "    <tr>\n",
              "      <th>3</th>\n",
              "      <td>2012</td>\n",
              "      <td>16441.988398</td>\n",
              "      <td>16556.102194</td>\n",
              "    </tr>\n",
              "    <tr>\n",
              "      <th>4</th>\n",
              "      <td>2011</td>\n",
              "      <td>15697.853382</td>\n",
              "      <td>15862.794026</td>\n",
              "    </tr>\n",
              "    <tr>\n",
              "      <th>5</th>\n",
              "      <td>2010</td>\n",
              "      <td>12252.613754</td>\n",
              "      <td>12384.344940</td>\n",
              "    </tr>\n",
              "    <tr>\n",
              "      <th>6</th>\n",
              "      <td>2009</td>\n",
              "      <td>10236.850063</td>\n",
              "      <td>10354.216473</td>\n",
              "    </tr>\n",
              "    <tr>\n",
              "      <th>7</th>\n",
              "      <td>2008</td>\n",
              "      <td>9442.655829</td>\n",
              "      <td>9564.218789</td>\n",
              "    </tr>\n",
              "    <tr>\n",
              "      <th>8</th>\n",
              "      <td>2007</td>\n",
              "      <td>7844.521376</td>\n",
              "      <td>7935.382899</td>\n",
              "    </tr>\n",
              "    <tr>\n",
              "      <th>9</th>\n",
              "      <td>2006</td>\n",
              "      <td>5980.742160</td>\n",
              "      <td>6087.092482</td>\n",
              "    </tr>\n",
              "    <tr>\n",
              "      <th>10</th>\n",
              "      <td>2005</td>\n",
              "      <td>4868.663181</td>\n",
              "      <td>4942.089822</td>\n",
              "    </tr>\n",
              "    <tr>\n",
              "      <th>11</th>\n",
              "      <td>2004</td>\n",
              "      <td>4303.285008</td>\n",
              "      <td>4351.808718</td>\n",
              "    </tr>\n",
              "    <tr>\n",
              "      <th>12</th>\n",
              "      <td>2003</td>\n",
              "      <td>3387.412560</td>\n",
              "      <td>3401.313640</td>\n",
              "    </tr>\n",
              "    <tr>\n",
              "      <th>13</th>\n",
              "      <td>2002</td>\n",
              "      <td>2648.684976</td>\n",
              "      <td>2680.259488</td>\n",
              "    </tr>\n",
              "    <tr>\n",
              "      <th>14</th>\n",
              "      <td>2001</td>\n",
              "      <td>2163.136364</td>\n",
              "      <td>2180.113636</td>\n",
              "    </tr>\n",
              "    <tr>\n",
              "      <th>15</th>\n",
              "      <td>2000</td>\n",
              "      <td>1774.085876</td>\n",
              "      <td>1767.357548</td>\n",
              "    </tr>\n",
              "    <tr>\n",
              "      <th>16</th>\n",
              "      <td>1999</td>\n",
              "      <td>1517.178841</td>\n",
              "      <td>1538.654492</td>\n",
              "    </tr>\n",
              "    <tr>\n",
              "      <th>17</th>\n",
              "      <td>1998</td>\n",
              "      <td>1258.652866</td>\n",
              "      <td>1258.105096</td>\n",
              "    </tr>\n",
              "    <tr>\n",
              "      <th>18</th>\n",
              "      <td>1997</td>\n",
              "      <td>1080.053667</td>\n",
              "      <td>1086.158318</td>\n",
              "    </tr>\n",
              "    <tr>\n",
              "      <th>19</th>\n",
              "      <td>1996</td>\n",
              "      <td>926.272578</td>\n",
              "      <td>915.804598</td>\n",
              "    </tr>\n",
              "    <tr>\n",
              "      <th>20</th>\n",
              "      <td>1995</td>\n",
              "      <td>895.291262</td>\n",
              "      <td>929.223301</td>\n",
              "    </tr>\n",
              "  </tbody>\n",
              "</table>\n",
              "</div>\n",
              "    <div class=\"colab-df-buttons\">\n",
              "\n",
              "  <div class=\"colab-df-container\">\n",
              "    <button class=\"colab-df-convert\" onclick=\"convertToInteractive('df-c6c9318f-1f1b-463b-88a9-c38af6f6b07f')\"\n",
              "            title=\"Convert this dataframe to an interactive table.\"\n",
              "            style=\"display:none;\">\n",
              "\n",
              "  <svg xmlns=\"http://www.w3.org/2000/svg\" height=\"24px\" viewBox=\"0 -960 960 960\">\n",
              "    <path d=\"M120-120v-720h720v720H120Zm60-500h600v-160H180v160Zm220 220h160v-160H400v160Zm0 220h160v-160H400v160ZM180-400h160v-160H180v160Zm440 0h160v-160H620v160ZM180-180h160v-160H180v160Zm440 0h160v-160H620v160Z\"/>\n",
              "  </svg>\n",
              "    </button>\n",
              "\n",
              "  <style>\n",
              "    .colab-df-container {\n",
              "      display:flex;\n",
              "      gap: 12px;\n",
              "    }\n",
              "\n",
              "    .colab-df-convert {\n",
              "      background-color: #E8F0FE;\n",
              "      border: none;\n",
              "      border-radius: 50%;\n",
              "      cursor: pointer;\n",
              "      display: none;\n",
              "      fill: #1967D2;\n",
              "      height: 32px;\n",
              "      padding: 0 0 0 0;\n",
              "      width: 32px;\n",
              "    }\n",
              "\n",
              "    .colab-df-convert:hover {\n",
              "      background-color: #E2EBFA;\n",
              "      box-shadow: 0px 1px 2px rgba(60, 64, 67, 0.3), 0px 1px 3px 1px rgba(60, 64, 67, 0.15);\n",
              "      fill: #174EA6;\n",
              "    }\n",
              "\n",
              "    .colab-df-buttons div {\n",
              "      margin-bottom: 4px;\n",
              "    }\n",
              "\n",
              "    [theme=dark] .colab-df-convert {\n",
              "      background-color: #3B4455;\n",
              "      fill: #D2E3FC;\n",
              "    }\n",
              "\n",
              "    [theme=dark] .colab-df-convert:hover {\n",
              "      background-color: #434B5C;\n",
              "      box-shadow: 0px 1px 3px 1px rgba(0, 0, 0, 0.15);\n",
              "      filter: drop-shadow(0px 1px 2px rgba(0, 0, 0, 0.3));\n",
              "      fill: #FFFFFF;\n",
              "    }\n",
              "  </style>\n",
              "\n",
              "    <script>\n",
              "      const buttonEl =\n",
              "        document.querySelector('#df-c6c9318f-1f1b-463b-88a9-c38af6f6b07f button.colab-df-convert');\n",
              "      buttonEl.style.display =\n",
              "        google.colab.kernel.accessAllowed ? 'block' : 'none';\n",
              "\n",
              "      async function convertToInteractive(key) {\n",
              "        const element = document.querySelector('#df-c6c9318f-1f1b-463b-88a9-c38af6f6b07f');\n",
              "        const dataTable =\n",
              "          await google.colab.kernel.invokeFunction('convertToInteractive',\n",
              "                                                    [key], {});\n",
              "        if (!dataTable) return;\n",
              "\n",
              "        const docLinkHtml = 'Like what you see? Visit the ' +\n",
              "          '<a target=\"_blank\" href=https://colab.research.google.com/notebooks/data_table.ipynb>data table notebook</a>'\n",
              "          + ' to learn more about interactive tables.';\n",
              "        element.innerHTML = '';\n",
              "        dataTable['output_type'] = 'display_data';\n",
              "        await google.colab.output.renderOutput(dataTable, element);\n",
              "        const docLink = document.createElement('div');\n",
              "        docLink.innerHTML = docLinkHtml;\n",
              "        element.appendChild(docLink);\n",
              "      }\n",
              "    </script>\n",
              "  </div>\n",
              "\n",
              "\n",
              "<div id=\"df-76b2ccbb-4309-4785-85dc-704fb80fe047\">\n",
              "  <button class=\"colab-df-quickchart\" onclick=\"quickchart('df-76b2ccbb-4309-4785-85dc-704fb80fe047')\"\n",
              "            title=\"Suggest charts\"\n",
              "            style=\"display:none;\">\n",
              "\n",
              "<svg xmlns=\"http://www.w3.org/2000/svg\" height=\"24px\"viewBox=\"0 0 24 24\"\n",
              "     width=\"24px\">\n",
              "    <g>\n",
              "        <path d=\"M19 3H5c-1.1 0-2 .9-2 2v14c0 1.1.9 2 2 2h14c1.1 0 2-.9 2-2V5c0-1.1-.9-2-2-2zM9 17H7v-7h2v7zm4 0h-2V7h2v10zm4 0h-2v-4h2v4z\"/>\n",
              "    </g>\n",
              "</svg>\n",
              "  </button>\n",
              "\n",
              "<style>\n",
              "  .colab-df-quickchart {\n",
              "      --bg-color: #E8F0FE;\n",
              "      --fill-color: #1967D2;\n",
              "      --hover-bg-color: #E2EBFA;\n",
              "      --hover-fill-color: #174EA6;\n",
              "      --disabled-fill-color: #AAA;\n",
              "      --disabled-bg-color: #DDD;\n",
              "  }\n",
              "\n",
              "  [theme=dark] .colab-df-quickchart {\n",
              "      --bg-color: #3B4455;\n",
              "      --fill-color: #D2E3FC;\n",
              "      --hover-bg-color: #434B5C;\n",
              "      --hover-fill-color: #FFFFFF;\n",
              "      --disabled-bg-color: #3B4455;\n",
              "      --disabled-fill-color: #666;\n",
              "  }\n",
              "\n",
              "  .colab-df-quickchart {\n",
              "    background-color: var(--bg-color);\n",
              "    border: none;\n",
              "    border-radius: 50%;\n",
              "    cursor: pointer;\n",
              "    display: none;\n",
              "    fill: var(--fill-color);\n",
              "    height: 32px;\n",
              "    padding: 0;\n",
              "    width: 32px;\n",
              "  }\n",
              "\n",
              "  .colab-df-quickchart:hover {\n",
              "    background-color: var(--hover-bg-color);\n",
              "    box-shadow: 0 1px 2px rgba(60, 64, 67, 0.3), 0 1px 3px 1px rgba(60, 64, 67, 0.15);\n",
              "    fill: var(--button-hover-fill-color);\n",
              "  }\n",
              "\n",
              "  .colab-df-quickchart-complete:disabled,\n",
              "  .colab-df-quickchart-complete:disabled:hover {\n",
              "    background-color: var(--disabled-bg-color);\n",
              "    fill: var(--disabled-fill-color);\n",
              "    box-shadow: none;\n",
              "  }\n",
              "\n",
              "  .colab-df-spinner {\n",
              "    border: 2px solid var(--fill-color);\n",
              "    border-color: transparent;\n",
              "    border-bottom-color: var(--fill-color);\n",
              "    animation:\n",
              "      spin 1s steps(1) infinite;\n",
              "  }\n",
              "\n",
              "  @keyframes spin {\n",
              "    0% {\n",
              "      border-color: transparent;\n",
              "      border-bottom-color: var(--fill-color);\n",
              "      border-left-color: var(--fill-color);\n",
              "    }\n",
              "    20% {\n",
              "      border-color: transparent;\n",
              "      border-left-color: var(--fill-color);\n",
              "      border-top-color: var(--fill-color);\n",
              "    }\n",
              "    30% {\n",
              "      border-color: transparent;\n",
              "      border-left-color: var(--fill-color);\n",
              "      border-top-color: var(--fill-color);\n",
              "      border-right-color: var(--fill-color);\n",
              "    }\n",
              "    40% {\n",
              "      border-color: transparent;\n",
              "      border-right-color: var(--fill-color);\n",
              "      border-top-color: var(--fill-color);\n",
              "    }\n",
              "    60% {\n",
              "      border-color: transparent;\n",
              "      border-right-color: var(--fill-color);\n",
              "    }\n",
              "    80% {\n",
              "      border-color: transparent;\n",
              "      border-right-color: var(--fill-color);\n",
              "      border-bottom-color: var(--fill-color);\n",
              "    }\n",
              "    90% {\n",
              "      border-color: transparent;\n",
              "      border-bottom-color: var(--fill-color);\n",
              "    }\n",
              "  }\n",
              "</style>\n",
              "\n",
              "  <script>\n",
              "    async function quickchart(key) {\n",
              "      const quickchartButtonEl =\n",
              "        document.querySelector('#' + key + ' button');\n",
              "      quickchartButtonEl.disabled = true;  // To prevent multiple clicks.\n",
              "      quickchartButtonEl.classList.add('colab-df-spinner');\n",
              "      try {\n",
              "        const charts = await google.colab.kernel.invokeFunction(\n",
              "            'suggestCharts', [key], {});\n",
              "      } catch (error) {\n",
              "        console.error('Error during call to suggestCharts:', error);\n",
              "      }\n",
              "      quickchartButtonEl.classList.remove('colab-df-spinner');\n",
              "      quickchartButtonEl.classList.add('colab-df-quickchart-complete');\n",
              "    }\n",
              "    (() => {\n",
              "      let quickchartButtonEl =\n",
              "        document.querySelector('#df-76b2ccbb-4309-4785-85dc-704fb80fe047 button');\n",
              "      quickchartButtonEl.style.display =\n",
              "        google.colab.kernel.accessAllowed ? 'block' : 'none';\n",
              "    })();\n",
              "  </script>\n",
              "</div>\n",
              "\n",
              "  <div id=\"id_4b27818b-8225-435a-8e82-9601578aea71\">\n",
              "    <style>\n",
              "      .colab-df-generate {\n",
              "        background-color: #E8F0FE;\n",
              "        border: none;\n",
              "        border-radius: 50%;\n",
              "        cursor: pointer;\n",
              "        display: none;\n",
              "        fill: #1967D2;\n",
              "        height: 32px;\n",
              "        padding: 0 0 0 0;\n",
              "        width: 32px;\n",
              "      }\n",
              "\n",
              "      .colab-df-generate:hover {\n",
              "        background-color: #E2EBFA;\n",
              "        box-shadow: 0px 1px 2px rgba(60, 64, 67, 0.3), 0px 1px 3px 1px rgba(60, 64, 67, 0.15);\n",
              "        fill: #174EA6;\n",
              "      }\n",
              "\n",
              "      [theme=dark] .colab-df-generate {\n",
              "        background-color: #3B4455;\n",
              "        fill: #D2E3FC;\n",
              "      }\n",
              "\n",
              "      [theme=dark] .colab-df-generate:hover {\n",
              "        background-color: #434B5C;\n",
              "        box-shadow: 0px 1px 3px 1px rgba(0, 0, 0, 0.15);\n",
              "        filter: drop-shadow(0px 1px 2px rgba(0, 0, 0, 0.3));\n",
              "        fill: #FFFFFF;\n",
              "      }\n",
              "    </style>\n",
              "    <button class=\"colab-df-generate\" onclick=\"generateWithVariable('g1')\"\n",
              "            title=\"Generate code using this dataframe.\"\n",
              "            style=\"display:none;\">\n",
              "\n",
              "  <svg xmlns=\"http://www.w3.org/2000/svg\" height=\"24px\"viewBox=\"0 0 24 24\"\n",
              "       width=\"24px\">\n",
              "    <path d=\"M7,19H8.4L18.45,9,17,7.55,7,17.6ZM5,21V16.75L18.45,3.32a2,2,0,0,1,2.83,0l1.4,1.43a1.91,1.91,0,0,1,.58,1.4,1.91,1.91,0,0,1-.58,1.4L9.25,21ZM18.45,9,17,7.55Zm-12,3A5.31,5.31,0,0,0,4.9,8.1,5.31,5.31,0,0,0,1,6.5,5.31,5.31,0,0,0,4.9,4.9,5.31,5.31,0,0,0,6.5,1,5.31,5.31,0,0,0,8.1,4.9,5.31,5.31,0,0,0,12,6.5,5.46,5.46,0,0,0,6.5,12Z\"/>\n",
              "  </svg>\n",
              "    </button>\n",
              "    <script>\n",
              "      (() => {\n",
              "      const buttonEl =\n",
              "        document.querySelector('#id_4b27818b-8225-435a-8e82-9601578aea71 button.colab-df-generate');\n",
              "      buttonEl.style.display =\n",
              "        google.colab.kernel.accessAllowed ? 'block' : 'none';\n",
              "\n",
              "      buttonEl.onclick = () => {\n",
              "        google.colab.notebook.generateWithVariable('g1');\n",
              "      }\n",
              "      })();\n",
              "    </script>\n",
              "  </div>\n",
              "\n",
              "    </div>\n",
              "  </div>\n"
            ],
            "application/vnd.google.colaboratory.intrinsic+json": {
              "type": "dataframe",
              "variable_name": "g1",
              "summary": "{\n  \"name\": \"g1\",\n  \"rows\": 21,\n  \"fields\": [\n    {\n      \"column\": \"year\",\n      \"properties\": {\n        \"dtype\": \"number\",\n        \"std\": 6,\n        \"min\": 1995,\n        \"max\": 2015,\n        \"num_unique_values\": 21,\n        \"samples\": [\n          2015,\n          1998,\n          2000\n        ],\n        \"semantic_type\": \"\",\n        \"description\": \"\"\n      }\n    },\n    {\n      \"column\": \"sellingprice\",\n      \"properties\": {\n        \"dtype\": \"number\",\n        \"std\": 7425.191531441024,\n        \"min\": 895.2912621359224,\n        \"max\": 26214.12512462612,\n        \"num_unique_values\": 21,\n        \"samples\": [\n          26214.12512462612,\n          1258.6528662420383,\n          1774.0858763165002\n        ],\n        \"semantic_type\": \"\",\n        \"description\": \"\"\n      }\n    },\n    {\n      \"column\": \"mmr\",\n      \"properties\": {\n        \"dtype\": \"number\",\n        \"std\": 7536.148194750386,\n        \"min\": 915.8045977011494,\n        \"max\": 26762.767946161515,\n        \"num_unique_values\": 21,\n        \"samples\": [\n          26762.767946161515,\n          1258.1050955414012,\n          1767.3575479341075\n        ],\n        \"semantic_type\": \"\",\n        \"description\": \"\"\n      }\n    }\n  ]\n}"
            }
          },
          "metadata": {},
          "execution_count": 57
        }
      ]
    },
    {
      "cell_type": "code",
      "source": [
        "plt.figure(figsize=(15,9))\n",
        "plt.plot(g1[\"year\"],g1['mmr'],color=\"blue\",label=\"Market Value\")\n",
        "plt.plot(g1[\"year\"],g1['sellingprice'],color=\"red\",label=\"Precio de venta\")\n",
        "plt.xlim(left=1995,right=2015)\n",
        "plt.ylim(bottom=900,top=27000)\n",
        "plt.ylabel(\"Promedio de precio de venta\", fontsize = 15)\n",
        "plt.xlabel(\"Año\", fontsize =15)\n",
        "plt.title(\"Tendencia en el precio de venta y valor de mercado\", fontsize=16)\n",
        "plt.grid()\n",
        "plt.legend()\n",
        "plt.show()"
      ],
      "metadata": {
        "colab": {
          "base_uri": "https://localhost:8080/",
          "height": 803
        },
        "id": "a291LVSTISd5",
        "outputId": "21c416d7-4f68-408c-9046-77b724544883"
      },
      "execution_count": 58,
      "outputs": [
        {
          "output_type": "display_data",
          "data": {
            "text/plain": [
              "<Figure size 1500x900 with 1 Axes>"
            ],
            "image/png": "[encoded data removed]"
          },
          "metadata": {}
        }
      ]
    },
    {
      "cell_type": "markdown",
      "source": [
        "**En el siguiente gráfico podemos ver como aumenta tanto el valor de mercado como el precio de venta promedio durante los distintos años de fabricación de los carros, por lo que, por lo general mientras más antiguo sea el carro, menor será su valor. Además, podemos ver que el precio de venta casi siempre esta ligeramente por debajo de su valor de mercado, por lo que podemos deducir que es un mercado en el que no se suele descontar mucho en las ofertas.**"
      ],
      "metadata": {
        "id": "y7sIaGojKknN"
      }
    },
    {
      "cell_type": "markdown",
      "source": [
        "### Segunda visualización"
      ],
      "metadata": {
        "id": "pJeUs66kLKhA"
      }
    },
    {
      "cell_type": "code",
      "source": [
        "g2=df.groupby([\"make\"])[[\"sellingprice\"]].mean().sort_values(by=\"sellingprice\",ascending=False).reset_index()\n",
        "g2"
      ],
      "metadata": {
        "colab": {
          "base_uri": "https://localhost:8080/",
          "height": 1000
        },
        "id": "E6X5QKaGJUhf",
        "outputId": "6d78525b-1b62-4a37-b574-61fe1dc0dc4b"
      },
      "execution_count": 59,
      "outputs": [
        {
          "output_type": "execute_result",
          "data": {
            "text/plain": [
              "             make   sellingprice\n",
              "0     Rolls-Royce  153456.250000\n",
              "1         Ferrari  128852.941176\n",
              "2         Bentley   72713.333333\n",
              "3           Tesla   67054.347826\n",
              "4    Aston Martin   55500.000000\n",
              "5        Maserati   43773.636364\n",
              "6         Porsche   38632.922487\n",
              "7      Land Rover   33127.713004\n",
              "8             Ram   25237.849840\n",
              "9             BMW   21340.817591\n",
              "10  Mercedes-Benz   21230.841618\n",
              "11       Infiniti   20475.084261\n",
              "12          Lexus   20232.802281\n",
              "13           Audi   19812.525489\n",
              "14         Jaguar   19125.954829\n",
              "15        Lincoln   17393.225290\n",
              "16            GMC   16645.922181\n",
              "17         Subaru   15456.981777\n",
              "18         HUMMER   15315.653503\n",
              "19           Ford   14733.079080\n",
              "20           Jeep   14626.193012\n",
              "21       Cadillac   14617.820983\n",
              "22          Acura   12979.101647\n",
              "23         Toyota   12370.969235\n",
              "24           MINI   12308.422639\n",
              "25      Chevrolet   11790.262829\n",
              "26            Kia   11717.010449\n",
              "27         Nissan   11678.799964\n",
              "28        Hyundai   10981.634749\n",
              "29          Dodge   10901.170597\n",
              "30          Honda   10876.006935\n",
              "31       Plymouth   10814.705882\n",
              "32          Volvo   10749.819357\n",
              "33          Buick   10559.559411\n",
              "34       Chrysler   10521.002077\n",
              "35          Mazda   10169.205409\n",
              "36           FIAT    9902.700820\n",
              "37          Scion    9670.139329\n",
              "38     Volkswagen    9235.848321\n",
              "39     Mitsubishi    7933.337701\n",
              "40          Smart    6320.289855\n",
              "41        Mercury    4009.597666\n",
              "42         Suzuki    3974.034483\n",
              "43        Pontiac    3777.321114\n",
              "44           Saab    3553.181818\n",
              "45         Saturn    3424.323071\n",
              "46          Isuzu    1801.470588\n",
              "47     Oldsmobile     999.923077\n",
              "48            Geo     626.923077"
            ],
            "text/html": [
              "\n",
              "  <div id=\"df-15bbfade-d532-4eaa-a096-730ed8167547\" class=\"colab-df-container\">\n",
              "    <div>\n",
              "<style scoped>\n",
              "    .dataframe tbody tr th:only-of-type {\n",
              "        vertical-align: middle;\n",
              "    }\n",
              "\n",
              "    .dataframe tbody tr th {\n",
              "        vertical-align: top;\n",
              "    }\n",
              "\n",
              "    .dataframe thead th {\n",
              "        text-align: right;\n",
              "    }\n",
              "</style>\n",
              "<table border=\"1\" class=\"dataframe\">\n",
              "  <thead>\n",
              "    <tr style=\"text-align: right;\">\n",
              "      <th></th>\n",
              "      <th>make</th>\n",
              "      <th>sellingprice</th>\n",
              "    </tr>\n",
              "  </thead>\n",
              "  <tbody>\n",
              "    <tr>\n",
              "      <th>0</th>\n",
              "      <td>Rolls-Royce</td>\n",
              "      <td>153456.250000</td>\n",
              "    </tr>\n",
              "    <tr>\n",
              "      <th>1</th>\n",
              "      <td>Ferrari</td>\n",
              "      <td>128852.941176</td>\n",
              "    </tr>\n",
              "    <tr>\n",
              "      <th>2</th>\n",
              "      <td>Bentley</td>\n",
              "      <td>72713.333333</td>\n",
              "    </tr>\n",
              "    <tr>\n",
              "      <th>3</th>\n",
              "      <td>Tesla</td>\n",
              "      <td>67054.347826</td>\n",
              "    </tr>\n",
              "    <tr>\n",
              "      <th>4</th>\n",
              "      <td>Aston Martin</td>\n",
              "      <td>55500.000000</td>\n",
              "    </tr>\n",
              "    <tr>\n",
              "      <th>5</th>\n",
              "      <td>Maserati</td>\n",
              "      <td>43773.636364</td>\n",
              "    </tr>\n",
              "    <tr>\n",
              "      <th>6</th>\n",
              "      <td>Porsche</td>\n",
              "      <td>38632.922487</td>\n",
              "    </tr>\n",
              "    <tr>\n",
              "      <th>7</th>\n",
              "      <td>Land Rover</td>\n",
              "      <td>33127.713004</td>\n",
              "    </tr>\n",
              "    <tr>\n",
              "      <th>8</th>\n",
              "      <td>Ram</td>\n",
              "      <td>25237.849840</td>\n",
              "    </tr>\n",
              "    <tr>\n",
              "      <th>9</th>\n",
              "      <td>BMW</td>\n",
              "      <td>21340.817591</td>\n",
              "    </tr>\n",
              "    <tr>\n",
              "      <th>10</th>\n",
              "      <td>Mercedes-Benz</td>\n",
              "      <td>21230.841618</td>\n",
              "    </tr>\n",
              "    <tr>\n",
              "      <th>11</th>\n",
              "      <td>Infiniti</td>\n",
              "      <td>20475.084261</td>\n",
              "    </tr>\n",
              "    <tr>\n",
              "      <th>12</th>\n",
              "      <td>Lexus</td>\n",
              "      <td>20232.802281</td>\n",
              "    </tr>\n",
              "    <tr>\n",
              "      <th>13</th>\n",
              "      <td>Audi</td>\n",
              "      <td>19812.525489</td>\n",
              "    </tr>\n",
              "    <tr>\n",
              "      <th>14</th>\n",
              "      <td>Jaguar</td>\n",
              "      <td>19125.954829</td>\n",
              "    </tr>\n",
              "    <tr>\n",
              "      <th>15</th>\n",
              "      <td>Lincoln</td>\n",
              "      <td>17393.225290</td>\n",
              "    </tr>\n",
              "    <tr>\n",
              "      <th>16</th>\n",
              "      <td>GMC</td>\n",
              "      <td>16645.922181</td>\n",
              "    </tr>\n",
              "    <tr>\n",
              "      <th>17</th>\n",
              "      <td>Subaru</td>\n",
              "      <td>15456.981777</td>\n",
              "    </tr>\n",
              "    <tr>\n",
              "      <th>18</th>\n",
              "      <td>HUMMER</td>\n",
              "      <td>15315.653503</td>\n",
              "    </tr>\n",
              "    <tr>\n",
              "      <th>19</th>\n",
              "      <td>Ford</td>\n",
              "      <td>14733.079080</td>\n",
              "    </tr>\n",
              "    <tr>\n",
              "      <th>20</th>\n",
              "      <td>Jeep</td>\n",
              "      <td>14626.193012</td>\n",
              "    </tr>\n",
              "    <tr>\n",
              "      <th>21</th>\n",
              "      <td>Cadillac</td>\n",
              "      <td>14617.820983</td>\n",
              "    </tr>\n",
              "    <tr>\n",
              "      <th>22</th>\n",
              "      <td>Acura</td>\n",
              "      <td>12979.101647</td>\n",
              "    </tr>\n",
              "    <tr>\n",
              "      <th>23</th>\n",
              "      <td>Toyota</td>\n",
              "      <td>12370.969235</td>\n",
              "    </tr>\n",
              "    <tr>\n",
              "      <th>24</th>\n",
              "      <td>MINI</td>\n",
              "      <td>12308.422639</td>\n",
              "    </tr>\n",
              "    <tr>\n",
              "      <th>25</th>\n",
              "      <td>Chevrolet</td>\n",
              "      <td>11790.262829</td>\n",
              "    </tr>\n",
              "    <tr>\n",
              "      <th>26</th>\n",
              "      <td>Kia</td>\n",
              "      <td>11717.010449</td>\n",
              "    </tr>\n",
              "    <tr>\n",
              "      <th>27</th>\n",
              "      <td>Nissan</td>\n",
              "      <td>11678.799964</td>\n",
              "    </tr>\n",
              "    <tr>\n",
              "      <th>28</th>\n",
              "      <td>Hyundai</td>\n",
              "      <td>10981.634749</td>\n",
              "    </tr>\n",
              "    <tr>\n",
              "      <th>29</th>\n",
              "      <td>Dodge</td>\n",
              "      <td>10901.170597</td>\n",
              "    </tr>\n",
              "    <tr>\n",
              "      <th>30</th>\n",
              "      <td>Honda</td>\n",
              "      <td>10876.006935</td>\n",
              "    </tr>\n",
              "    <tr>\n",
              "      <th>31</th>\n",
              "      <td>Plymouth</td>\n",
              "      <td>10814.705882</td>\n",
              "    </tr>\n",
              "    <tr>\n",
              "      <th>32</th>\n",
              "      <td>Volvo</td>\n",
              "      <td>10749.819357</td>\n",
              "    </tr>\n",
              "    <tr>\n",
              "      <th>33</th>\n",
              "      <td>Buick</td>\n",
              "      <td>10559.559411</td>\n",
              "    </tr>\n",
              "    <tr>\n",
              "      <th>34</th>\n",
              "      <td>Chrysler</td>\n",
              "      <td>10521.002077</td>\n",
              "    </tr>\n",
              "    <tr>\n",
              "      <th>35</th>\n",
              "      <td>Mazda</td>\n",
              "      <td>10169.205409</td>\n",
              "    </tr>\n",
              "    <tr>\n",
              "      <th>36</th>\n",
              "      <td>FIAT</td>\n",
              "      <td>9902.700820</td>\n",
              "    </tr>\n",
              "    <tr>\n",
              "      <th>37</th>\n",
              "      <td>Scion</td>\n",
              "      <td>9670.139329</td>\n",
              "    </tr>\n",
              "    <tr>\n",
              "      <th>38</th>\n",
              "      <td>Volkswagen</td>\n",
              "      <td>9235.848321</td>\n",
              "    </tr>\n",
              "    <tr>\n",
              "      <th>39</th>\n",
              "      <td>Mitsubishi</td>\n",
              "      <td>7933.337701</td>\n",
              "    </tr>\n",
              "    <tr>\n",
              "      <th>40</th>\n",
              "      <td>Smart</td>\n",
              "      <td>6320.289855</td>\n",
              "    </tr>\n",
              "    <tr>\n",
              "      <th>41</th>\n",
              "      <td>Mercury</td>\n",
              "      <td>4009.597666</td>\n",
              "    </tr>\n",
              "    <tr>\n",
              "      <th>42</th>\n",
              "      <td>Suzuki</td>\n",
              "      <td>3974.034483</td>\n",
              "    </tr>\n",
              "    <tr>\n",
              "      <th>43</th>\n",
              "      <td>Pontiac</td>\n",
              "      <td>3777.321114</td>\n",
              "    </tr>\n",
              "    <tr>\n",
              "      <th>44</th>\n",
              "      <td>Saab</td>\n",
              "      <td>3553.181818</td>\n",
              "    </tr>\n",
              "    <tr>\n",
              "      <th>45</th>\n",
              "      <td>Saturn</td>\n",
              "      <td>3424.323071</td>\n",
              "    </tr>\n",
              "    <tr>\n",
              "      <th>46</th>\n",
              "      <td>Isuzu</td>\n",
              "      <td>1801.470588</td>\n",
              "    </tr>\n",
              "    <tr>\n",
              "      <th>47</th>\n",
              "      <td>Oldsmobile</td>\n",
              "      <td>999.923077</td>\n",
              "    </tr>\n",
              "    <tr>\n",
              "      <th>48</th>\n",
              "      <td>Geo</td>\n",
              "      <td>626.923077</td>\n",
              "    </tr>\n",
              "  </tbody>\n",
              "</table>\n",
              "</div>\n",
              "    <div class=\"colab-df-buttons\">\n",
              "\n",
              "  <div class=\"colab-df-container\">\n",
              "    <button class=\"colab-df-convert\" onclick=\"convertToInteractive('df-15bbfade-d532-4eaa-a096-730ed8167547')\"\n",
              "            title=\"Convert this dataframe to an interactive table.\"\n",
              "            style=\"display:none;\">\n",
              "\n",
              "  <svg xmlns=\"http://www.w3.org/2000/svg\" height=\"24px\" viewBox=\"0 -960 960 960\">\n",
              "    <path d=\"M120-120v-720h720v720H120Zm60-500h600v-160H180v160Zm220 220h160v-160H400v160Zm0 220h160v-160H400v160ZM180-400h160v-160H180v160Zm440 0h160v-160H620v160ZM180-180h160v-160H180v160Zm440 0h160v-160H620v160Z\"/>\n",
              "  </svg>\n",
              "    </button>\n",
              "\n",
              "  <style>\n",
              "    .colab-df-container {\n",
              "      display:flex;\n",
              "      gap: 12px;\n",
              "    }\n",
              "\n",
              "    .colab-df-convert {\n",
              "      background-color: #E8F0FE;\n",
              "      border: none;\n",
              "      border-radius: 50%;\n",
              "      cursor: pointer;\n",
              "      display: none;\n",
              "      fill: #1967D2;\n",
              "      height: 32px;\n",
              "      padding: 0 0 0 0;\n",
              "      width: 32px;\n",
              "    }\n",
              "\n",
              "    .colab-df-convert:hover {\n",
              "      background-color: #E2EBFA;\n",
              "      box-shadow: 0px 1px 2px rgba(60, 64, 67, 0.3), 0px 1px 3px 1px rgba(60, 64, 67, 0.15);\n",
              "      fill: #174EA6;\n",
              "    }\n",
              "\n",
              "    .colab-df-buttons div {\n",
              "      margin-bottom: 4px;\n",
              "    }\n",
              "\n",
              "    [theme=dark] .colab-df-convert {\n",
              "      background-color: #3B4455;\n",
              "      fill: #D2E3FC;\n",
              "    }\n",
              "\n",
              "    [theme=dark] .colab-df-convert:hover {\n",
              "      background-color: #434B5C;\n",
              "      box-shadow: 0px 1px 3px 1px rgba(0, 0, 0, 0.15);\n",
              "      filter: drop-shadow(0px 1px 2px rgba(0, 0, 0, 0.3));\n",
              "      fill: #FFFFFF;\n",
              "    }\n",
              "  </style>\n",
              "\n",
              "    <script>\n",
              "      const buttonEl =\n",
              "        document.querySelector('#df-15bbfade-d532-4eaa-a096-730ed8167547 button.colab-df-convert');\n",
              "      buttonEl.style.display =\n",
              "        google.colab.kernel.accessAllowed ? 'block' : 'none';\n",
              "\n",
              "      async function convertToInteractive(key) {\n",
              "        const element = document.querySelector('#df-15bbfade-d532-4eaa-a096-730ed8167547');\n",
              "        const dataTable =\n",
              "          await google.colab.kernel.invokeFunction('convertToInteractive',\n",
              "                                                    [key], {});\n",
              "        if (!dataTable) return;\n",
              "\n",
              "        const docLinkHtml = 'Like what you see? Visit the ' +\n",
              "          '<a target=\"_blank\" href=https://colab.research.google.com/notebooks/data_table.ipynb>data table notebook</a>'\n",
              "          + ' to learn more about interactive tables.';\n",
              "        element.innerHTML = '';\n",
              "        dataTable['output_type'] = 'display_data';\n",
              "        await google.colab.output.renderOutput(dataTable, element);\n",
              "        const docLink = document.createElement('div');\n",
              "        docLink.innerHTML = docLinkHtml;\n",
              "        element.appendChild(docLink);\n",
              "      }\n",
              "    </script>\n",
              "  </div>\n",
              "\n",
              "\n",
              "<div id=\"df-e16fbcff-de2e-457e-a6ad-852fd470259e\">\n",
              "  <button class=\"colab-df-quickchart\" onclick=\"quickchart('df-e16fbcff-de2e-457e-a6ad-852fd470259e')\"\n",
              "            title=\"Suggest charts\"\n",
              "            style=\"display:none;\">\n",
              "\n",
              "<svg xmlns=\"http://www.w3.org/2000/svg\" height=\"24px\"viewBox=\"0 0 24 24\"\n",
              "     width=\"24px\">\n",
              "    <g>\n",
              "        <path d=\"M19 3H5c-1.1 0-2 .9-2 2v14c0 1.1.9 2 2 2h14c1.1 0 2-.9 2-2V5c0-1.1-.9-2-2-2zM9 17H7v-7h2v7zm4 0h-2V7h2v10zm4 0h-2v-4h2v4z\"/>\n",
              "    </g>\n",
              "</svg>\n",
              "  </button>\n",
              "\n",
              "<style>\n",
              "  .colab-df-quickchart {\n",
              "      --bg-color: #E8F0FE;\n",
              "      --fill-color: #1967D2;\n",
              "      --hover-bg-color: #E2EBFA;\n",
              "      --hover-fill-color: #174EA6;\n",
              "      --disabled-fill-color: #AAA;\n",
              "      --disabled-bg-color: #DDD;\n",
              "  }\n",
              "\n",
              "  [theme=dark] .colab-df-quickchart {\n",
              "      --bg-color: #3B4455;\n",
              "      --fill-color: #D2E3FC;\n",
              "      --hover-bg-color: #434B5C;\n",
              "      --hover-fill-color: #FFFFFF;\n",
              "      --disabled-bg-color: #3B4455;\n",
              "      --disabled-fill-color: #666;\n",
              "  }\n",
              "\n",
              "  .colab-df-quickchart {\n",
              "    background-color: var(--bg-color);\n",
              "    border: none;\n",
              "    border-radius: 50%;\n",
              "    cursor: pointer;\n",
              "    display: none;\n",
              "    fill: var(--fill-color);\n",
              "    height: 32px;\n",
              "    padding: 0;\n",
              "    width: 32px;\n",
              "  }\n",
              "\n",
              "  .colab-df-quickchart:hover {\n",
              "    background-color: var(--hover-bg-color);\n",
              "    box-shadow: 0 1px 2px rgba(60, 64, 67, 0.3), 0 1px 3px 1px rgba(60, 64, 67, 0.15);\n",
              "    fill: var(--button-hover-fill-color);\n",
              "  }\n",
              "\n",
              "  .colab-df-quickchart-complete:disabled,\n",
              "  .colab-df-quickchart-complete:disabled:hover {\n",
              "    background-color: var(--disabled-bg-color);\n",
              "    fill: var(--disabled-fill-color);\n",
              "    box-shadow: none;\n",
              "  }\n",
              "\n",
              "  .colab-df-spinner {\n",
              "    border: 2px solid var(--fill-color);\n",
              "    border-color: transparent;\n",
              "    border-bottom-color: var(--fill-color);\n",
              "    animation:\n",
              "      spin 1s steps(1) infinite;\n",
              "  }\n",
              "\n",
              "  @keyframes spin {\n",
              "    0% {\n",
              "      border-color: transparent;\n",
              "      border-bottom-color: var(--fill-color);\n",
              "      border-left-color: var(--fill-color);\n",
              "    }\n",
              "    20% {\n",
              "      border-color: transparent;\n",
              "      border-left-color: var(--fill-color);\n",
              "      border-top-color: var(--fill-color);\n",
              "    }\n",
              "    30% {\n",
              "      border-color: transparent;\n",
              "      border-left-color: var(--fill-color);\n",
              "      border-top-color: var(--fill-color);\n",
              "      border-right-color: var(--fill-color);\n",
              "    }\n",
              "    40% {\n",
              "      border-color: transparent;\n",
              "      border-right-color: var(--fill-color);\n",
              "      border-top-color: var(--fill-color);\n",
              "    }\n",
              "    60% {\n",
              "      border-color: transparent;\n",
              "      border-right-color: var(--fill-color);\n",
              "    }\n",
              "    80% {\n",
              "      border-color: transparent;\n",
              "      border-right-color: var(--fill-color);\n",
              "      border-bottom-color: var(--fill-color);\n",
              "    }\n",
              "    90% {\n",
              "      border-color: transparent;\n",
              "      border-bottom-color: var(--fill-color);\n",
              "    }\n",
              "  }\n",
              "</style>\n",
              "\n",
              "  <script>\n",
              "    async function quickchart(key) {\n",
              "      const quickchartButtonEl =\n",
              "        document.querySelector('#' + key + ' button');\n",
              "      quickchartButtonEl.disabled = true;  // To prevent multiple clicks.\n",
              "      quickchartButtonEl.classList.add('colab-df-spinner');\n",
              "      try {\n",
              "        const charts = await google.colab.kernel.invokeFunction(\n",
              "            'suggestCharts', [key], {});\n",
              "      } catch (error) {\n",
              "        console.error('Error during call to suggestCharts:', error);\n",
              "      }\n",
              "      quickchartButtonEl.classList.remove('colab-df-spinner');\n",
              "      quickchartButtonEl.classList.add('colab-df-quickchart-complete');\n",
              "    }\n",
              "    (() => {\n",
              "      let quickchartButtonEl =\n",
              "        document.querySelector('#df-e16fbcff-de2e-457e-a6ad-852fd470259e button');\n",
              "      quickchartButtonEl.style.display =\n",
              "        google.colab.kernel.accessAllowed ? 'block' : 'none';\n",
              "    })();\n",
              "  </script>\n",
              "</div>\n",
              "\n",
              "  <div id=\"id_2f45a991-8289-4325-8314-00e8a0f52f22\">\n",
              "    <style>\n",
              "      .colab-df-generate {\n",
              "        background-color: #E8F0FE;\n",
              "        border: none;\n",
              "        border-radius: 50%;\n",
              "        cursor: pointer;\n",
              "        display: none;\n",
              "        fill: #1967D2;\n",
              "        height: 32px;\n",
              "        padding: 0 0 0 0;\n",
              "        width: 32px;\n",
              "      }\n",
              "\n",
              "      .colab-df-generate:hover {\n",
              "        background-color: #E2EBFA;\n",
              "        box-shadow: 0px 1px 2px rgba(60, 64, 67, 0.3), 0px 1px 3px 1px rgba(60, 64, 67, 0.15);\n",
              "        fill: #174EA6;\n",
              "      }\n",
              "\n",
              "      [theme=dark] .colab-df-generate {\n",
              "        background-color: #3B4455;\n",
              "        fill: #D2E3FC;\n",
              "      }\n",
              "\n",
              "      [theme=dark] .colab-df-generate:hover {\n",
              "        background-color: #434B5C;\n",
              "        box-shadow: 0px 1px 3px 1px rgba(0, 0, 0, 0.15);\n",
              "        filter: drop-shadow(0px 1px 2px rgba(0, 0, 0, 0.3));\n",
              "        fill: #FFFFFF;\n",
              "      }\n",
              "    </style>\n",
              "    <button class=\"colab-df-generate\" onclick=\"generateWithVariable('g2')\"\n",
              "            title=\"Generate code using this dataframe.\"\n",
              "            style=\"display:none;\">\n",
              "\n",
              "  <svg xmlns=\"http://www.w3.org/2000/svg\" height=\"24px\"viewBox=\"0 0 24 24\"\n",
              "       width=\"24px\">\n",
              "    <path d=\"M7,19H8.4L18.45,9,17,7.55,7,17.6ZM5,21V16.75L18.45,3.32a2,2,0,0,1,2.83,0l1.4,1.43a1.91,1.91,0,0,1,.58,1.4,1.91,1.91,0,0,1-.58,1.4L9.25,21ZM18.45,9,17,7.55Zm-12,3A5.31,5.31,0,0,0,4.9,8.1,5.31,5.31,0,0,0,1,6.5,5.31,5.31,0,0,0,4.9,4.9,5.31,5.31,0,0,0,6.5,1,5.31,5.31,0,0,0,8.1,4.9,5.31,5.31,0,0,0,12,6.5,5.46,5.46,0,0,0,6.5,12Z\"/>\n",
              "  </svg>\n",
              "    </button>\n",
              "    <script>\n",
              "      (() => {\n",
              "      const buttonEl =\n",
              "        document.querySelector('#id_2f45a991-8289-4325-8314-00e8a0f52f22 button.colab-df-generate');\n",
              "      buttonEl.style.display =\n",
              "        google.colab.kernel.accessAllowed ? 'block' : 'none';\n",
              "\n",
              "      buttonEl.onclick = () => {\n",
              "        google.colab.notebook.generateWithVariable('g2');\n",
              "      }\n",
              "      })();\n",
              "    </script>\n",
              "  </div>\n",
              "\n",
              "    </div>\n",
              "  </div>\n"
            ],
            "application/vnd.google.colaboratory.intrinsic+json": {
              "type": "dataframe",
              "variable_name": "g2",
              "summary": "{\n  \"name\": \"g2\",\n  \"rows\": 49,\n  \"fields\": [\n    {\n      \"column\": \"make\",\n      \"properties\": {\n        \"dtype\": \"string\",\n        \"num_unique_values\": 49,\n        \"samples\": [\n          \"Audi\",\n          \"Saturn\",\n          \"Oldsmobile\"\n        ],\n        \"semantic_type\": \"\",\n        \"description\": \"\"\n      }\n    },\n    {\n      \"column\": \"sellingprice\",\n      \"properties\": {\n        \"dtype\": \"number\",\n        \"std\": 29265.084486385127,\n        \"min\": 626.9230769230769,\n        \"max\": 153456.25,\n        \"num_unique_values\": 49,\n        \"samples\": [\n          19812.525489396412,\n          3424.3230712166173,\n          999.9230769230769\n        ],\n        \"semantic_type\": \"\",\n        \"description\": \"\"\n      }\n    }\n  ]\n}"
            }
          },
          "metadata": {},
          "execution_count": 59
        }
      ]
    },
    {
      "cell_type": "code",
      "source": [
        "plt.figure(figsize=(15,10))\n",
        "plt.bar(g2[\"make\"],g2['sellingprice'],label=\"Precio promedio\")\n",
        "plt.ylabel(\"Ventas Promedio (Millones)\")\n",
        "plt.xlabel(\"Marca de Vehiculo\")\n",
        "plt.title(\"Ventas Promedio según tipo de vehiculo\")\n",
        "plt.xticks(rotation=90)\n",
        "plt.yticks(range(0,155000,10000))\n",
        "plt.grid()\n",
        "plt.legend()\n",
        "plt.show()"
      ],
      "metadata": {
        "colab": {
          "base_uri": "https://localhost:8080/",
          "height": 964
        },
        "id": "Wz5-fqHaMZ9S",
        "outputId": "c2284757-79da-4d9e-def9-bf859d666b23"
      },
      "execution_count": 60,
      "outputs": [
        {
          "output_type": "display_data",
          "data": {
            "text/plain": [
              "<Figure size 1500x1000 with 1 Axes>"
            ],
            "image/png": "[encoded data removed]"
          },
          "metadata": {}
        }
      ]
    },
    {
      "cell_type": "markdown",
      "source": [
        "**Vemos que la marca del vehículo es un factor importante para determinar su precio de venta, ya que vemos como marcas mejor posicionadas en cuanto a lujo cuestan en promedio mucho más que otras marcas conocidas pero mas enfocadas en lo comercial que en ser premium.**"
      ],
      "metadata": {
        "id": "g5vtkod7NZ8p"
      }
    },
    {
      "cell_type": "markdown",
      "source": [
        "### Tercera visualización"
      ],
      "metadata": {
        "id": "3_F0b4BsN0mz"
      }
    },
    {
      "cell_type": "code",
      "source": [
        "g3=df.groupby([\"color\"])[[\"mmr\"]].mean().sort_values(by=\"mmr\",ascending=False).reset_index()\n",
        "g3"
      ],
      "metadata": {
        "colab": {
          "base_uri": "https://localhost:8080/",
          "height": 645
        },
        "id": "jdIU4qdxNCeC",
        "outputId": "adafe627-a8dd-4eb5-ed46-7094e6a55168"
      },
      "execution_count": 61,
      "outputs": [
        {
          "output_type": "execute_result",
          "data": {
            "text/plain": [
              "        color           mmr\n",
              "0    charcoal  16408.294931\n",
              "1       black  16030.792628\n",
              "2       brown  15651.393270\n",
              "3   off-white  15148.706210\n",
              "4       white  14815.232284\n",
              "5        gray  14064.019076\n",
              "6        pink  13251.875000\n",
              "7      orange  13008.536924\n",
              "8         red  12915.465929\n",
              "9      purple  12498.190661\n",
              "10     yellow  12301.433121\n",
              "11   burgundy  12142.637228\n",
              "12     silver  11907.387716\n",
              "13       blue  11685.801302\n",
              "14       lime  11665.384615\n",
              "15      beige   9578.782035\n",
              "16  turquoise   9086.658031\n",
              "17      green   8875.453347\n",
              "18       gold   8637.091038"
            ],
            "text/html": [
              "\n",
              "  <div id=\"df-fe830777-4174-4750-839e-607cdeebeab7\" class=\"colab-df-container\">\n",
              "    <div>\n",
              "<style scoped>\n",
              "    .dataframe tbody tr th:only-of-type {\n",
              "        vertical-align: middle;\n",
              "    }\n",
              "\n",
              "    .dataframe tbody tr th {\n",
              "        vertical-align: top;\n",
              "    }\n",
              "\n",
              "    .dataframe thead th {\n",
              "        text-align: right;\n",
              "    }\n",
              "</style>\n",
              "<table border=\"1\" class=\"dataframe\">\n",
              "  <thead>\n",
              "    <tr style=\"text-align: right;\">\n",
              "      <th></th>\n",
              "      <th>color</th>\n",
              "      <th>mmr</th>\n",
              "    </tr>\n",
              "  </thead>\n",
              "  <tbody>\n",
              "    <tr>\n",
              "      <th>0</th>\n",
              "      <td>charcoal</td>\n",
              "      <td>16408.294931</td>\n",
              "    </tr>\n",
              "    <tr>\n",
              "      <th>1</th>\n",
              "      <td>black</td>\n",
              "      <td>16030.792628</td>\n",
              "    </tr>\n",
              "    <tr>\n",
              "      <th>2</th>\n",
              "      <td>brown</td>\n",
              "      <td>15651.393270</td>\n",
              "    </tr>\n",
              "    <tr>\n",
              "      <th>3</th>\n",
              "      <td>off-white</td>\n",
              "      <td>15148.706210</td>\n",
              "    </tr>\n",
              "    <tr>\n",
              "      <th>4</th>\n",
              "      <td>white</td>\n",
              "      <td>14815.232284</td>\n",
              "    </tr>\n",
              "    <tr>\n",
              "      <th>5</th>\n",
              "      <td>gray</td>\n",
              "      <td>14064.019076</td>\n",
              "    </tr>\n",
              "    <tr>\n",
              "      <th>6</th>\n",
              "      <td>pink</td>\n",
              "      <td>13251.875000</td>\n",
              "    </tr>\n",
              "    <tr>\n",
              "      <th>7</th>\n",
              "      <td>orange</td>\n",
              "      <td>13008.536924</td>\n",
              "    </tr>\n",
              "    <tr>\n",
              "      <th>8</th>\n",
              "      <td>red</td>\n",
              "      <td>12915.465929</td>\n",
              "    </tr>\n",
              "    <tr>\n",
              "      <th>9</th>\n",
              "      <td>purple</td>\n",
              "      <td>12498.190661</td>\n",
              "    </tr>\n",
              "    <tr>\n",
              "      <th>10</th>\n",
              "      <td>yellow</td>\n",
              "      <td>12301.433121</td>\n",
              "    </tr>\n",
              "    <tr>\n",
              "      <th>11</th>\n",
              "      <td>burgundy</td>\n",
              "      <td>12142.637228</td>\n",
              "    </tr>\n",
              "    <tr>\n",
              "      <th>12</th>\n",
              "      <td>silver</td>\n",
              "      <td>11907.387716</td>\n",
              "    </tr>\n",
              "    <tr>\n",
              "      <th>13</th>\n",
              "      <td>blue</td>\n",
              "      <td>11685.801302</td>\n",
              "    </tr>\n",
              "    <tr>\n",
              "      <th>14</th>\n",
              "      <td>lime</td>\n",
              "      <td>11665.384615</td>\n",
              "    </tr>\n",
              "    <tr>\n",
              "      <th>15</th>\n",
              "      <td>beige</td>\n",
              "      <td>9578.782035</td>\n",
              "    </tr>\n",
              "    <tr>\n",
              "      <th>16</th>\n",
              "      <td>turquoise</td>\n",
              "      <td>9086.658031</td>\n",
              "    </tr>\n",
              "    <tr>\n",
              "      <th>17</th>\n",
              "      <td>green</td>\n",
              "      <td>8875.453347</td>\n",
              "    </tr>\n",
              "    <tr>\n",
              "      <th>18</th>\n",
              "      <td>gold</td>\n",
              "      <td>8637.091038</td>\n",
              "    </tr>\n",
              "  </tbody>\n",
              "</table>\n",
              "</div>\n",
              "    <div class=\"colab-df-buttons\">\n",
              "\n",
              "  <div class=\"colab-df-container\">\n",
              "    <button class=\"colab-df-convert\" onclick=\"convertToInteractive('df-fe830777-4174-4750-839e-607cdeebeab7')\"\n",
              "            title=\"Convert this dataframe to an interactive table.\"\n",
              "            style=\"display:none;\">\n",
              "\n",
              "  <svg xmlns=\"http://www.w3.org/2000/svg\" height=\"24px\" viewBox=\"0 -960 960 960\">\n",
              "    <path d=\"M120-120v-720h720v720H120Zm60-500h600v-160H180v160Zm220 220h160v-160H400v160Zm0 220h160v-160H400v160ZM180-400h160v-160H180v160Zm440 0h160v-160H620v160ZM180-180h160v-160H180v160Zm440 0h160v-160H620v160Z\"/>\n",
              "  </svg>\n",
              "    </button>\n",
              "\n",
              "  <style>\n",
              "    .colab-df-container {\n",
              "      display:flex;\n",
              "      gap: 12px;\n",
              "    }\n",
              "\n",
              "    .colab-df-convert {\n",
              "      background-color: #E8F0FE;\n",
              "      border: none;\n",
              "      border-radius: 50%;\n",
              "      cursor: pointer;\n",
              "      display: none;\n",
              "      fill: #1967D2;\n",
              "      height: 32px;\n",
              "      padding: 0 0 0 0;\n",
              "      width: 32px;\n",
              "    }\n",
              "\n",
              "    .colab-df-convert:hover {\n",
              "      background-color: #E2EBFA;\n",
              "      box-shadow: 0px 1px 2px rgba(60, 64, 67, 0.3), 0px 1px 3px 1px rgba(60, 64, 67, 0.15);\n",
              "      fill: #174EA6;\n",
              "    }\n",
              "\n",
              "    .colab-df-buttons div {\n",
              "      margin-bottom: 4px;\n",
              "    }\n",
              "\n",
              "    [theme=dark] .colab-df-convert {\n",
              "      background-color: #3B4455;\n",
              "      fill: #D2E3FC;\n",
              "    }\n",
              "\n",
              "    [theme=dark] .colab-df-convert:hover {\n",
              "      background-color: #434B5C;\n",
              "      box-shadow: 0px 1px 3px 1px rgba(0, 0, 0, 0.15);\n",
              "      filter: drop-shadow(0px 1px 2px rgba(0, 0, 0, 0.3));\n",
              "      fill: #FFFFFF;\n",
              "    }\n",
              "  </style>\n",
              "\n",
              "    <script>\n",
              "      const buttonEl =\n",
              "        document.querySelector('#df-fe830777-4174-4750-839e-607cdeebeab7 button.colab-df-convert');\n",
              "      buttonEl.style.display =\n",
              "        google.colab.kernel.accessAllowed ? 'block' : 'none';\n",
              "\n",
              "      async function convertToInteractive(key) {\n",
              "        const element = document.querySelector('#df-fe830777-4174-4750-839e-607cdeebeab7');\n",
              "        const dataTable =\n",
              "          await google.colab.kernel.invokeFunction('convertToInteractive',\n",
              "                                                    [key], {});\n",
              "        if (!dataTable) return;\n",
              "\n",
              "        const docLinkHtml = 'Like what you see? Visit the ' +\n",
              "          '<a target=\"_blank\" href=https://colab.research.google.com/notebooks/data_table.ipynb>data table notebook</a>'\n",
              "          + ' to learn more about interactive tables.';\n",
              "        element.innerHTML = '';\n",
              "        dataTable['output_type'] = 'display_data';\n",
              "        await google.colab.output.renderOutput(dataTable, element);\n",
              "        const docLink = document.createElement('div');\n",
              "        docLink.innerHTML = docLinkHtml;\n",
              "        element.appendChild(docLink);\n",
              "      }\n",
              "    </script>\n",
              "  </div>\n",
              "\n",
              "\n",
              "<div id=\"df-af98dbfa-42ec-4bcb-b59d-f639af9a125c\">\n",
              "  <button class=\"colab-df-quickchart\" onclick=\"quickchart('df-af98dbfa-42ec-4bcb-b59d-f639af9a125c')\"\n",
              "            title=\"Suggest charts\"\n",
              "            style=\"display:none;\">\n",
              "\n",
              "<svg xmlns=\"http://www.w3.org/2000/svg\" height=\"24px\"viewBox=\"0 0 24 24\"\n",
              "     width=\"24px\">\n",
              "    <g>\n",
              "        <path d=\"M19 3H5c-1.1 0-2 .9-2 2v14c0 1.1.9 2 2 2h14c1.1 0 2-.9 2-2V5c0-1.1-.9-2-2-2zM9 17H7v-7h2v7zm4 0h-2V7h2v10zm4 0h-2v-4h2v4z\"/>\n",
              "    </g>\n",
              "</svg>\n",
              "  </button>\n",
              "\n",
              "<style>\n",
              "  .colab-df-quickchart {\n",
              "      --bg-color: #E8F0FE;\n",
              "      --fill-color: #1967D2;\n",
              "      --hover-bg-color: #E2EBFA;\n",
              "      --hover-fill-color: #174EA6;\n",
              "      --disabled-fill-color: #AAA;\n",
              "      --disabled-bg-color: #DDD;\n",
              "  }\n",
              "\n",
              "  [theme=dark] .colab-df-quickchart {\n",
              "      --bg-color: #3B4455;\n",
              "      --fill-color: #D2E3FC;\n",
              "      --hover-bg-color: #434B5C;\n",
              "      --hover-fill-color: #FFFFFF;\n",
              "      --disabled-bg-color: #3B4455;\n",
              "      --disabled-fill-color: #666;\n",
              "  }\n",
              "\n",
              "  .colab-df-quickchart {\n",
              "    background-color: var(--bg-color);\n",
              "    border: none;\n",
              "    border-radius: 50%;\n",
              "    cursor: pointer;\n",
              "    display: none;\n",
              "    fill: var(--fill-color);\n",
              "    height: 32px;\n",
              "    padding: 0;\n",
              "    width: 32px;\n",
              "  }\n",
              "\n",
              "  .colab-df-quickchart:hover {\n",
              "    background-color: var(--hover-bg-color);\n",
              "    box-shadow: 0 1px 2px rgba(60, 64, 67, 0.3), 0 1px 3px 1px rgba(60, 64, 67, 0.15);\n",
              "    fill: var(--button-hover-fill-color);\n",
              "  }\n",
              "\n",
              "  .colab-df-quickchart-complete:disabled,\n",
              "  .colab-df-quickchart-complete:disabled:hover {\n",
              "    background-color: var(--disabled-bg-color);\n",
              "    fill: var(--disabled-fill-color);\n",
              "    box-shadow: none;\n",
              "  }\n",
              "\n",
              "  .colab-df-spinner {\n",
              "    border: 2px solid var(--fill-color);\n",
              "    border-color: transparent;\n",
              "    border-bottom-color: var(--fill-color);\n",
              "    animation:\n",
              "      spin 1s steps(1) infinite;\n",
              "  }\n",
              "\n",
              "  @keyframes spin {\n",
              "    0% {\n",
              "      border-color: transparent;\n",
              "      border-bottom-color: var(--fill-color);\n",
              "      border-left-color: var(--fill-color);\n",
              "    }\n",
              "    20% {\n",
              "      border-color: transparent;\n",
              "      border-left-color: var(--fill-color);\n",
              "      border-top-color: var(--fill-color);\n",
              "    }\n",
              "    30% {\n",
              "      border-color: transparent;\n",
              "      border-left-color: var(--fill-color);\n",
              "      border-top-color: var(--fill-color);\n",
              "      border-right-color: var(--fill-color);\n",
              "    }\n",
              "    40% {\n",
              "      border-color: transparent;\n",
              "      border-right-color: var(--fill-color);\n",
              "      border-top-color: var(--fill-color);\n",
              "    }\n",
              "    60% {\n",
              "      border-color: transparent;\n",
              "      border-right-color: var(--fill-color);\n",
              "    }\n",
              "    80% {\n",
              "      border-color: transparent;\n",
              "      border-right-color: var(--fill-color);\n",
              "      border-bottom-color: var(--fill-color);\n",
              "    }\n",
              "    90% {\n",
              "      border-color: transparent;\n",
              "      border-bottom-color: var(--fill-color);\n",
              "    }\n",
              "  }\n",
              "</style>\n",
              "\n",
              "  <script>\n",
              "    async function quickchart(key) {\n",
              "      const quickchartButtonEl =\n",
              "        document.querySelector('#' + key + ' button');\n",
              "      quickchartButtonEl.disabled = true;  // To prevent multiple clicks.\n",
              "      quickchartButtonEl.classList.add('colab-df-spinner');\n",
              "      try {\n",
              "        const charts = await google.colab.kernel.invokeFunction(\n",
              "            'suggestCharts', [key], {});\n",
              "      } catch (error) {\n",
              "        console.error('Error during call to suggestCharts:', error);\n",
              "      }\n",
              "      quickchartButtonEl.classList.remove('colab-df-spinner');\n",
              "      quickchartButtonEl.classList.add('colab-df-quickchart-complete');\n",
              "    }\n",
              "    (() => {\n",
              "      let quickchartButtonEl =\n",
              "        document.querySelector('#df-af98dbfa-42ec-4bcb-b59d-f639af9a125c button');\n",
              "      quickchartButtonEl.style.display =\n",
              "        google.colab.kernel.accessAllowed ? 'block' : 'none';\n",
              "    })();\n",
              "  </script>\n",
              "</div>\n",
              "\n",
              "  <div id=\"id_7e1dced9-2c34-4ac3-a80c-85af0a54799e\">\n",
              "    <style>\n",
              "      .colab-df-generate {\n",
              "        background-color: #E8F0FE;\n",
              "        border: none;\n",
              "        border-radius: 50%;\n",
              "        cursor: pointer;\n",
              "        display: none;\n",
              "        fill: #1967D2;\n",
              "        height: 32px;\n",
              "        padding: 0 0 0 0;\n",
              "        width: 32px;\n",
              "      }\n",
              "\n",
              "      .colab-df-generate:hover {\n",
              "        background-color: #E2EBFA;\n",
              "        box-shadow: 0px 1px 2px rgba(60, 64, 67, 0.3), 0px 1px 3px 1px rgba(60, 64, 67, 0.15);\n",
              "        fill: #174EA6;\n",
              "      }\n",
              "\n",
              "      [theme=dark] .colab-df-generate {\n",
              "        background-color: #3B4455;\n",
              "        fill: #D2E3FC;\n",
              "      }\n",
              "\n",
              "      [theme=dark] .colab-df-generate:hover {\n",
              "        background-color: #434B5C;\n",
              "        box-shadow: 0px 1px 3px 1px rgba(0, 0, 0, 0.15);\n",
              "        filter: drop-shadow(0px 1px 2px rgba(0, 0, 0, 0.3));\n",
              "        fill: #FFFFFF;\n",
              "      }\n",
              "    </style>\n",
              "    <button class=\"colab-df-generate\" onclick=\"generateWithVariable('g3')\"\n",
              "            title=\"Generate code using this dataframe.\"\n",
              "            style=\"display:none;\">\n",
              "\n",
              "  <svg xmlns=\"http://www.w3.org/2000/svg\" height=\"24px\"viewBox=\"0 0 24 24\"\n",
              "       width=\"24px\">\n",
              "    <path d=\"M7,19H8.4L18.45,9,17,7.55,7,17.6ZM5,21V16.75L18.45,3.32a2,2,0,0,1,2.83,0l1.4,1.43a1.91,1.91,0,0,1,.58,1.4,1.91,1.91,0,0,1-.58,1.4L9.25,21ZM18.45,9,17,7.55Zm-12,3A5.31,5.31,0,0,0,4.9,8.1,5.31,5.31,0,0,0,1,6.5,5.31,5.31,0,0,0,4.9,4.9,5.31,5.31,0,0,0,6.5,1,5.31,5.31,0,0,0,8.1,4.9,5.31,5.31,0,0,0,12,6.5,5.46,5.46,0,0,0,6.5,12Z\"/>\n",
              "  </svg>\n",
              "    </button>\n",
              "    <script>\n",
              "      (() => {\n",
              "      const buttonEl =\n",
              "        document.querySelector('#id_7e1dced9-2c34-4ac3-a80c-85af0a54799e button.colab-df-generate');\n",
              "      buttonEl.style.display =\n",
              "        google.colab.kernel.accessAllowed ? 'block' : 'none';\n",
              "\n",
              "      buttonEl.onclick = () => {\n",
              "        google.colab.notebook.generateWithVariable('g3');\n",
              "      }\n",
              "      })();\n",
              "    </script>\n",
              "  </div>\n",
              "\n",
              "    </div>\n",
              "  </div>\n"
            ],
            "application/vnd.google.colaboratory.intrinsic+json": {
              "type": "dataframe",
              "variable_name": "g3",
              "summary": "{\n  \"name\": \"g3\",\n  \"rows\": 19,\n  \"fields\": [\n    {\n      \"column\": \"color\",\n      \"properties\": {\n        \"dtype\": \"string\",\n        \"num_unique_values\": 19,\n        \"samples\": [\n          \"charcoal\",\n          \"gray\",\n          \"burgundy\"\n        ],\n        \"semantic_type\": \"\",\n        \"description\": \"\"\n      }\n    },\n    {\n      \"column\": \"mmr\",\n      \"properties\": {\n        \"dtype\": \"number\",\n        \"std\": 2396.3430957752043,\n        \"min\": 8637.091038406828,\n        \"max\": 16408.294930875578,\n        \"num_unique_values\": 19,\n        \"samples\": [\n          16408.294930875578,\n          14064.019076039212,\n          12142.637228435531\n        ],\n        \"semantic_type\": \"\",\n        \"description\": \"\"\n      }\n    }\n  ]\n}"
            }
          },
          "metadata": {},
          "execution_count": 61
        }
      ]
    },
    {
      "cell_type": "code",
      "source": [
        "sns.barplot(x='color', y='mmr', data=g3)\n",
        "plt.ylabel(\"Promedio de valorización\")\n",
        "plt.xlabel(\"Color\")\n",
        "plt.title(\"Promedio de valorización según color\")\n",
        "plt.xticks(rotation=90)\n",
        "plt.grid()\n",
        "plt.show()"
      ],
      "metadata": {
        "colab": {
          "base_uri": "https://localhost:8080/",
          "height": 525
        },
        "id": "0PZ1oWRHN9An",
        "outputId": "fc162b17-bcdc-4207-f093-2c1114497c41"
      },
      "execution_count": 62,
      "outputs": [
        {
          "output_type": "display_data",
          "data": {
            "text/plain": [
              "<Figure size 640x480 with 1 Axes>"
            ],
            "image/png": "[encoded data removed]"
          },
          "metadata": {}
        }
      ]
    },
    {
      "cell_type": "markdown",
      "source": [
        "**Vemos como en promedio hay colores de carro que estan mejor valorados en el mercado, siendo el color carbón y el negro los mejores valorados, mientras que el verde y el dorado tienen menos valor en promedio. Por ello se concluye que el color es importante para determinar el precio de venta de un carro.**"
      ],
      "metadata": {
        "id": "Z4Ss4TeLPXLt"
      }
    },
    {
      "cell_type": "markdown",
      "source": [
        "## Estandarización de base"
      ],
      "metadata": {
        "id": "v2gbkjb3341_"
      }
    },
    {
      "cell_type": "markdown",
      "source": [
        "**Columna make**"
      ],
      "metadata": {
        "id": "RCO121QmAfwv"
      }
    },
    {
      "cell_type": "code",
      "source": [
        "df[\"make\"].replace(\"Ford\",\"0\",inplace=True)\n",
        "df[\"make\"].replace(\"Chevrolet\",\"1\",inplace=True)\n",
        "df[\"make\"].replace(\"Nissan\",\"2\",inplace=True)\n",
        "df[\"make\"].replace(\"Toyota\",\"3\",inplace=True)\n",
        "df[\"make\"].replace(\"Honda\",\"4\",inplace=True)\n",
        "df[\"make\"].replace(\"Hyundai\",\"5\",inplace=True)\n",
        "df[\"make\"].replace(\"BMW\",\"6\",inplace=True)\n",
        "df[\"make\"].replace(\"Kia\",\"7\",inplace=True)\n",
        "df[\"make\"].replace(\"Chrysler\",\"8\",inplace=True)\n",
        "df[\"make\"].replace(\"Mercedes-Benz\",\"9\",inplace=True)\n",
        "df[\"make\"].replace(\"Infiniti\",\"10\",inplace=True)\n",
        "df[\"make\"].replace(\"Jeep\",\"11\",inplace=True)\n",
        "df[\"make\"].replace(\"Volkswagen\",\"12\",inplace=True)\n",
        "df[\"make\"].replace(\"Lexus\",\"13\",inplace=True)\n",
        "df[\"make\"].replace(\"GMC\",\"14\",inplace=True)\n",
        "df[\"make\"].replace(\"Mazda\",\"15\",inplace=True)\n",
        "df[\"make\"].replace(\"Cadillac\",\"16\",inplace=True)\n",
        "df[\"make\"].replace(\"Lincoln\",\"17\",inplace=True)\n",
        "df[\"make\"].replace(\"Audi\",\"18\",inplace=True)\n",
        "df[\"make\"].replace(\"Acura\",\"19\",inplace=True)\n",
        "df[\"make\"].replace(\"Buick\",\"20\",inplace=True)\n",
        "df[\"make\"].replace(\"Subaru\",\"21\",inplace=True)\n",
        "df[\"make\"].replace(\"Pontiac\",\"22\",inplace=True)\n",
        "df[\"make\"].replace(\"Ram\",\"23\",inplace=True)\n",
        "df[\"make\"].replace(\"Mitsubishi\",\"24\",inplace=True)\n",
        "df[\"make\"].replace(\"Volvo\",\"25\",inplace=True)\n",
        "df[\"make\"].replace(\"MINI\",\"26\",inplace=True)\n",
        "df[\"make\"].replace(\"Saturn\",\"27\",inplace=True)\n",
        "df[\"make\"].replace(\"Mercury\",\"28\",inplace=True)\n",
        "df[\"make\"].replace(\"Scion\",\"29\",inplace=True)\n",
        "df[\"make\"].replace(\"Land Rover\",\"30\",inplace=True)\n",
        "df[\"make\"].replace(\"Jaguar\",\"31\",inplace=True)\n",
        "df[\"make\"].replace(\"Porsche\",\"32\",inplace=True)\n",
        "df[\"make\"].replace(\"Suzuki\",\"33\",inplace=True)\n",
        "df[\"make\"].replace(\"HUMMER\",\"34\",inplace=True)\n",
        "df[\"make\"].replace(\"FIAT\",\"35\",inplace=True)\n",
        "df[\"make\"].replace(\"Saab\",\"36\",inplace=True)\n",
        "df[\"make\"].replace(\"Smart\",\"37\",inplace=True)\n",
        "df[\"make\"].replace(\"Oldsmobile\",\"38\",inplace=True)\n",
        "df[\"make\"].replace(\"Isuzu\",\"39\",inplace=True)\n",
        "df[\"make\"].replace(\"Maserati\",\"40\",inplace=True)\n",
        "df[\"make\"].replace(\"Bentley\",\"41\",inplace=True)\n",
        "df[\"make\"].replace(\"Aston Martin\",\"42\",inplace=True)\n",
        "df[\"make\"].replace(\"Tesla\",\"43\",inplace=True)\n",
        "df[\"make\"].replace(\"Ferrari\",\"44\",inplace=True)\n",
        "df[\"make\"].replace(\"Plymouth\",\"45\",inplace=True)\n",
        "df[\"make\"].replace(\"Rolls-Royce\",\"46\",inplace=True)\n",
        "df[\"make\"].replace(\"Geo\",\"47\",inplace=True)\n",
        "df[\"make\"].replace(\"Dodge\",\"48\",inplace=True)\n",
        "df[\"make\"] = df[\"make\"].astype(\"int64\")"
      ],
      "metadata": {
        "id": "ygmiPZp-OhlO"
      },
      "execution_count": 66,
      "outputs": []
    },
    {
      "cell_type": "markdown",
      "source": [
        "**Columna body**"
      ],
      "metadata": {
        "id": "cEA_LyR8AjTm"
      }
    },
    {
      "cell_type": "code",
      "source": [
        "df[\"body\"].replace(\"Sedan\",\"0\",inplace=True)\n",
        "df[\"body\"].replace(\"SUV\",\"1\",inplace=True)\n",
        "df[\"body\"].replace(\"Hatchback\",\"2\",inplace=True)\n",
        "df[\"body\"].replace(\"Minivan\",\"3\",inplace=True)\n",
        "df[\"body\"].replace(\"Coupe\",\"4\",inplace=True)\n",
        "df[\"body\"].replace(\"Crew Cab\",\"5\",inplace=True)\n",
        "df[\"body\"].replace(\"Wagon\",\"6\",inplace=True)\n",
        "df[\"body\"].replace(\"Convertible\",\"7\",inplace=True)\n",
        "df[\"body\"].replace(\"SuperCrew\",\"8\",inplace=True)\n",
        "df[\"body\"].replace(\"G Sedan\",\"9\",inplace=True)\n",
        "df[\"body\"].replace(\"SuperCab\",\"10\",inplace=True)\n",
        "df[\"body\"].replace(\"Regular Cab\",\"11\",inplace=True)\n",
        "df[\"body\"].replace(\"Extended Cab\",\"12\",inplace=True)\n",
        "df[\"body\"].replace(\"Quad Cab\",\"13\",inplace=True)\n",
        "df[\"body\"].replace(\"Van\",\"14\",inplace=True)\n",
        "df[\"body\"].replace(\"G Coupe\",\"15\",inplace=True)\n",
        "df[\"body\"].replace(\"Double Cab\",\"16\",inplace=True)\n",
        "df[\"body\"].replace(\"E-Series Van\",\"17\",inplace=True)\n",
        "df[\"body\"].replace(\"CrewMax Cab\",\"18\",inplace=True)\n",
        "df[\"body\"].replace(\"King Cab\",\"19\",inplace=True)\n",
        "df[\"body\"].replace(\"G Convertible\",\"20\",inplace=True)\n",
        "df[\"body\"].replace(\"Access Cab\",\"21\",inplace=True)\n",
        "df[\"body\"].replace(\"Genesis Coupe\",\"22\",inplace=True)\n",
        "df[\"body\"].replace(\"Koup\",\"23\",inplace=True)\n",
        "df[\"body\"].replace(\"Club Cab\",\"24\",inplace=True)\n",
        "df[\"body\"].replace(\"CTS Coupe\",\"25\",inplace=True)\n",
        "df[\"body\"].replace(\"Mega Cab\",\"26\",inplace=True)\n",
        "df[\"body\"].replace(\"Elantra Coupe\",\"27\",inplace=True)\n",
        "df[\"body\"].replace(\"Promaster Cargo Van\",\"28\",inplace=True)\n",
        "df[\"body\"].replace(\"Beetle Convertible\",\"29\",inplace=True)\n",
        "df[\"body\"].replace(\"Q60 Convertible\",\"30\",inplace=True)\n",
        "df[\"body\"].replace(\"Q60 Coupe\",\"31\",inplace=True)\n",
        "df[\"body\"].replace(\"Xtracab\",\"32\",inplace=True)\n",
        "df[\"body\"].replace(\"TSX Sport Wagon\",\"33\",inplace=True)\n",
        "df[\"body\"].replace(\"CTS-V Coupe\",\"34\",inplace=True)\n",
        "df[\"body\"].replace(\"G37 Convertible\",\"35\",inplace=True)\n",
        "df[\"body\"].replace(\"Transit Van\",\"36\",inplace=True)\n",
        "df[\"body\"].replace(\"Regular Coupe\",\"37\",inplace=True)\n",
        "df[\"body\"].replace(\"CTS Wagon\",\"38\",inplace=True)\n",
        "df[\"body\"].replace(\"G37 Coupe\",\"39\",inplace=True)\n",
        "df[\"body\"].replace(\"GranTurismo Convertible\",\"40\",inplace=True)\n",
        "df[\"body\"] = df[\"body\"].astype(\"int64\")"
      ],
      "metadata": {
        "id": "rfQHpz4IA4P9"
      },
      "execution_count": 70,
      "outputs": []
    },
    {
      "cell_type": "markdown",
      "source": [
        "**Columna transmission**"
      ],
      "metadata": {
        "id": "QMEvVVAdF7cU"
      }
    },
    {
      "cell_type": "code",
      "source": [
        "df[\"transmission\"].replace(\"automatic\",\"0\",inplace=True)\n",
        "df[\"transmission\"].replace(\"manual\",\"0\",inplace=True)\n",
        "df[\"transmission\"] = df[\"transmission\"].astype(\"int64\")"
      ],
      "metadata": {
        "id": "qfHcpSY4GBOr"
      },
      "execution_count": 73,
      "outputs": []
    },
    {
      "cell_type": "markdown",
      "source": [
        "**Columna color**"
      ],
      "metadata": {
        "id": "XHlfPuH5GR61"
      }
    },
    {
      "cell_type": "code",
      "source": [
        "df[\"color\"].replace(\"black\",\"0\",inplace=True)\n",
        "df[\"color\"].replace(\"white\",\"1\",inplace=True)\n",
        "df[\"color\"].replace(\"silver\",\"2\",inplace=True)\n",
        "df[\"color\"].replace(\"gray\",\"3\",inplace=True)\n",
        "df[\"color\"].replace(\"blue\",\"4\",inplace=True)\n",
        "df[\"color\"].replace(\"red\",\"5\",inplace=True)\n",
        "df[\"color\"].replace(\"gold\",\"6\",inplace=True)\n",
        "df[\"color\"].replace(\"green\",\"7\",inplace=True)\n",
        "df[\"color\"].replace(\"burgundy\",\"8\",inplace=True)\n",
        "df[\"color\"].replace(\"beige\",\"9\",inplace=True)\n",
        "df[\"color\"].replace(\"brown\",\"10\",inplace=True)\n",
        "df[\"color\"].replace(\"orange\",\"11\",inplace=True)\n",
        "df[\"color\"].replace(\"purple\",\"12\",inplace=True)\n",
        "df[\"color\"].replace(\"off-white\",\"13\",inplace=True)\n",
        "df[\"color\"].replace(\"yellow\",\"14\",inplace=True)\n",
        "df[\"color\"].replace(\"charcoal\",\"15\",inplace=True)\n",
        "df[\"color\"].replace(\"turquoise\",\"16\",inplace=True)\n",
        "df[\"color\"].replace(\"pink\",\"17\",inplace=True)\n",
        "df[\"color\"].replace(\"lime\",\"18\",inplace=True)\n",
        "df[\"color\"] = df[\"color\"].astype(\"int64\")"
      ],
      "metadata": {
        "id": "LN3csGJKGazt"
      },
      "execution_count": 75,
      "outputs": []
    },
    {
      "cell_type": "markdown",
      "source": [
        "**Columna interior**"
      ],
      "metadata": {
        "id": "EGkZgxczHTH-"
      }
    },
    {
      "cell_type": "code",
      "source": [
        "df[\"interior\"].replace(\"black\",\"0\",inplace=True)\n",
        "df[\"interior\"].replace(\"gray\",\"1\",inplace=True)\n",
        "df[\"interior\"].replace(\"beige\",\"2\",inplace=True)\n",
        "df[\"interior\"].replace(\"tan\",\"3\",inplace=True)\n",
        "df[\"interior\"].replace(\"brown\",\"4\",inplace=True)\n",
        "df[\"interior\"].replace(\"red\",\"5\",inplace=True)\n",
        "df[\"interior\"].replace(\"silver\",\"6\",inplace=True)\n",
        "df[\"interior\"].replace(\"blue\",\"7\",inplace=True)\n",
        "df[\"interior\"].replace(\"off-white\",\"8\",inplace=True)\n",
        "df[\"interior\"].replace(\"gold\",\"9\",inplace=True)\n",
        "df[\"interior\"].replace(\"purple\",\"10\",inplace=True)\n",
        "df[\"interior\"].replace(\"white\",\"11\",inplace=True)\n",
        "df[\"interior\"].replace(\"green\",\"12\",inplace=True)\n",
        "df[\"interior\"].replace(\"burgundy\",\"13\",inplace=True)\n",
        "df[\"interior\"].replace(\"orange\",\"14\",inplace=True)\n",
        "df[\"interior\"].replace(\"yellow\",\"15\",inplace=True)\n",
        "df[\"interior\"] = df[\"interior\"].astype(\"int64\")"
      ],
      "metadata": {
        "id": "m_gy4ZDIHZcy"
      },
      "execution_count": 77,
      "outputs": []
    },
    {
      "cell_type": "code",
      "source": [
        "df.head()"
      ],
      "metadata": {
        "colab": {
          "base_uri": "https://localhost:8080/",
          "height": 206
        },
        "id": "07-E2ooGIFwl",
        "outputId": "9864c701-b6f1-4f52-cc54-02690b739622"
      },
      "execution_count": 78,
      "outputs": [
        {
          "output_type": "execute_result",
          "data": {
            "text/plain": [
              "   year  make  body  transmission  condition  odometer  color  interior  \\\n",
              "0  2015     7     1             0          5     16639      1         0   \n",
              "1  2015     7     1             0          5      9393      1         2   \n",
              "2  2014     6     0             0         45      1331      3         0   \n",
              "3  2015    25     0             0         41     14282      1         0   \n",
              "4  2014     6     0             0         43      2641      3         0   \n",
              "\n",
              "     mmr  sellingprice  \n",
              "0  20500         21500  \n",
              "1  20800         21500  \n",
              "2  31900         30000  \n",
              "3  27500         27750  \n",
              "4  66000         67000  "
            ],
            "text/html": [
              "\n",
              "  <div id=\"df-31178654-6aed-4eb4-84b2-d18dcaba60c6\" class=\"colab-df-container\">\n",
              "    <div>\n",
              "<style scoped>\n",
              "    .dataframe tbody tr th:only-of-type {\n",
              "        vertical-align: middle;\n",
              "    }\n",
              "\n",
              "    .dataframe tbody tr th {\n",
              "        vertical-align: top;\n",
              "    }\n",
              "\n",
              "    .dataframe thead th {\n",
              "        text-align: right;\n",
              "    }\n",
              "</style>\n",
              "<table border=\"1\" class=\"dataframe\">\n",
              "  <thead>\n",
              "    <tr style=\"text-align: right;\">\n",
              "      <th></th>\n",
              "      <th>year</th>\n",
              "      <th>make</th>\n",
              "      <th>body</th>\n",
              "      <th>transmission</th>\n",
              "      <th>condition</th>\n",
              "      <th>odometer</th>\n",
              "      <th>color</th>\n",
              "      <th>interior</th>\n",
              "      <th>mmr</th>\n",
              "      <th>sellingprice</th>\n",
              "    </tr>\n",
              "  </thead>\n",
              "  <tbody>\n",
              "    <tr>\n",
              "      <th>0</th>\n",
              "      <td>2015</td>\n",
              "      <td>7</td>\n",
              "      <td>1</td>\n",
              "      <td>0</td>\n",
              "      <td>5</td>\n",
              "      <td>16639</td>\n",
              "      <td>1</td>\n",
              "      <td>0</td>\n",
              "      <td>20500</td>\n",
              "      <td>21500</td>\n",
              "    </tr>\n",
              "    <tr>\n",
              "      <th>1</th>\n",
              "      <td>2015</td>\n",
              "      <td>7</td>\n",
              "      <td>1</td>\n",
              "      <td>0</td>\n",
              "      <td>5</td>\n",
              "      <td>9393</td>\n",
              "      <td>1</td>\n",
              "      <td>2</td>\n",
              "      <td>20800</td>\n",
              "      <td>21500</td>\n",
              "    </tr>\n",
              "    <tr>\n",
              "      <th>2</th>\n",
              "      <td>2014</td>\n",
              "      <td>6</td>\n",
              "      <td>0</td>\n",
              "      <td>0</td>\n",
              "      <td>45</td>\n",
              "      <td>1331</td>\n",
              "      <td>3</td>\n",
              "      <td>0</td>\n",
              "      <td>31900</td>\n",
              "      <td>30000</td>\n",
              "    </tr>\n",
              "    <tr>\n",
              "      <th>3</th>\n",
              "      <td>2015</td>\n",
              "      <td>25</td>\n",
              "      <td>0</td>\n",
              "      <td>0</td>\n",
              "      <td>41</td>\n",
              "      <td>14282</td>\n",
              "      <td>1</td>\n",
              "      <td>0</td>\n",
              "      <td>27500</td>\n",
              "      <td>27750</td>\n",
              "    </tr>\n",
              "    <tr>\n",
              "      <th>4</th>\n",
              "      <td>2014</td>\n",
              "      <td>6</td>\n",
              "      <td>0</td>\n",
              "      <td>0</td>\n",
              "      <td>43</td>\n",
              "      <td>2641</td>\n",
              "      <td>3</td>\n",
              "      <td>0</td>\n",
              "      <td>66000</td>\n",
              "      <td>67000</td>\n",
              "    </tr>\n",
              "  </tbody>\n",
              "</table>\n",
              "</div>\n",
              "    <div class=\"colab-df-buttons\">\n",
              "\n",
              "  <div class=\"colab-df-container\">\n",
              "    <button class=\"colab-df-convert\" onclick=\"convertToInteractive('df-31178654-6aed-4eb4-84b2-d18dcaba60c6')\"\n",
              "            title=\"Convert this dataframe to an interactive table.\"\n",
              "            style=\"display:none;\">\n",
              "\n",
              "  <svg xmlns=\"http://www.w3.org/2000/svg\" height=\"24px\" viewBox=\"0 -960 960 960\">\n",
              "    <path d=\"M120-120v-720h720v720H120Zm60-500h600v-160H180v160Zm220 220h160v-160H400v160Zm0 220h160v-160H400v160ZM180-400h160v-160H180v160Zm440 0h160v-160H620v160ZM180-180h160v-160H180v160Zm440 0h160v-160H620v160Z\"/>\n",
              "  </svg>\n",
              "    </button>\n",
              "\n",
              "  <style>\n",
              "    .colab-df-container {\n",
              "      display:flex;\n",
              "      gap: 12px;\n",
              "    }\n",
              "\n",
              "    .colab-df-convert {\n",
              "      background-color: #E8F0FE;\n",
              "      border: none;\n",
              "      border-radius: 50%;\n",
              "      cursor: pointer;\n",
              "      display: none;\n",
              "      fill: #1967D2;\n",
              "      height: 32px;\n",
              "      padding: 0 0 0 0;\n",
              "      width: 32px;\n",
              "    }\n",
              "\n",
              "    .colab-df-convert:hover {\n",
              "      background-color: #E2EBFA;\n",
              "      box-shadow: 0px 1px 2px rgba(60, 64, 67, 0.3), 0px 1px 3px 1px rgba(60, 64, 67, 0.15);\n",
              "      fill: #174EA6;\n",
              "    }\n",
              "\n",
              "    .colab-df-buttons div {\n",
              "      margin-bottom: 4px;\n",
              "    }\n",
              "\n",
              "    [theme=dark] .colab-df-convert {\n",
              "      background-color: #3B4455;\n",
              "      fill: #D2E3FC;\n",
              "    }\n",
              "\n",
              "    [theme=dark] .colab-df-convert:hover {\n",
              "      background-color: #434B5C;\n",
              "      box-shadow: 0px 1px 3px 1px rgba(0, 0, 0, 0.15);\n",
              "      filter: drop-shadow(0px 1px 2px rgba(0, 0, 0, 0.3));\n",
              "      fill: #FFFFFF;\n",
              "    }\n",
              "  </style>\n",
              "\n",
              "    <script>\n",
              "      const buttonEl =\n",
              "        document.querySelector('#df-31178654-6aed-4eb4-84b2-d18dcaba60c6 button.colab-df-convert');\n",
              "      buttonEl.style.display =\n",
              "        google.colab.kernel.accessAllowed ? 'block' : 'none';\n",
              "\n",
              "      async function convertToInteractive(key) {\n",
              "        const element = document.querySelector('#df-31178654-6aed-4eb4-84b2-d18dcaba60c6');\n",
              "        const dataTable =\n",
              "          await google.colab.kernel.invokeFunction('convertToInteractive',\n",
              "                                                    [key], {});\n",
              "        if (!dataTable) return;\n",
              "\n",
              "        const docLinkHtml = 'Like what you see? Visit the ' +\n",
              "          '<a target=\"_blank\" href=https://colab.research.google.com/notebooks/data_table.ipynb>data table notebook</a>'\n",
              "          + ' to learn more about interactive tables.';\n",
              "        element.innerHTML = '';\n",
              "        dataTable['output_type'] = 'display_data';\n",
              "        await google.colab.output.renderOutput(dataTable, element);\n",
              "        const docLink = document.createElement('div');\n",
              "        docLink.innerHTML = docLinkHtml;\n",
              "        element.appendChild(docLink);\n",
              "      }\n",
              "    </script>\n",
              "  </div>\n",
              "\n",
              "\n",
              "<div id=\"df-02bc935c-00be-470a-92be-bf8b44c26846\">\n",
              "  <button class=\"colab-df-quickchart\" onclick=\"quickchart('df-02bc935c-00be-470a-92be-bf8b44c26846')\"\n",
              "            title=\"Suggest charts\"\n",
              "            style=\"display:none;\">\n",
              "\n",
              "<svg xmlns=\"http://www.w3.org/2000/svg\" height=\"24px\"viewBox=\"0 0 24 24\"\n",
              "     width=\"24px\">\n",
              "    <g>\n",
              "        <path d=\"M19 3H5c-1.1 0-2 .9-2 2v14c0 1.1.9 2 2 2h14c1.1 0 2-.9 2-2V5c0-1.1-.9-2-2-2zM9 17H7v-7h2v7zm4 0h-2V7h2v10zm4 0h-2v-4h2v4z\"/>\n",
              "    </g>\n",
              "</svg>\n",
              "  </button>\n",
              "\n",
              "<style>\n",
              "  .colab-df-quickchart {\n",
              "      --bg-color: #E8F0FE;\n",
              "      --fill-color: #1967D2;\n",
              "      --hover-bg-color: #E2EBFA;\n",
              "      --hover-fill-color: #174EA6;\n",
              "      --disabled-fill-color: #AAA;\n",
              "      --disabled-bg-color: #DDD;\n",
              "  }\n",
              "\n",
              "  [theme=dark] .colab-df-quickchart {\n",
              "      --bg-color: #3B4455;\n",
              "      --fill-color: #D2E3FC;\n",
              "      --hover-bg-color: #434B5C;\n",
              "      --hover-fill-color: #FFFFFF;\n",
              "      --disabled-bg-color: #3B4455;\n",
              "      --disabled-fill-color: #666;\n",
              "  }\n",
              "\n",
              "  .colab-df-quickchart {\n",
              "    background-color: var(--bg-color);\n",
              "    border: none;\n",
              "    border-radius: 50%;\n",
              "    cursor: pointer;\n",
              "    display: none;\n",
              "    fill: var(--fill-color);\n",
              "    height: 32px;\n",
              "    padding: 0;\n",
              "    width: 32px;\n",
              "  }\n",
              "\n",
              "  .colab-df-quickchart:hover {\n",
              "    background-color: var(--hover-bg-color);\n",
              "    box-shadow: 0 1px 2px rgba(60, 64, 67, 0.3), 0 1px 3px 1px rgba(60, 64, 67, 0.15);\n",
              "    fill: var(--button-hover-fill-color);\n",
              "  }\n",
              "\n",
              "  .colab-df-quickchart-complete:disabled,\n",
              "  .colab-df-quickchart-complete:disabled:hover {\n",
              "    background-color: var(--disabled-bg-color);\n",
              "    fill: var(--disabled-fill-color);\n",
              "    box-shadow: none;\n",
              "  }\n",
              "\n",
              "  .colab-df-spinner {\n",
              "    border: 2px solid var(--fill-color);\n",
              "    border-color: transparent;\n",
              "    border-bottom-color: var(--fill-color);\n",
              "    animation:\n",
              "      spin 1s steps(1) infinite;\n",
              "  }\n",
              "\n",
              "  @keyframes spin {\n",
              "    0% {\n",
              "      border-color: transparent;\n",
              "      border-bottom-color: var(--fill-color);\n",
              "      border-left-color: var(--fill-color);\n",
              "    }\n",
              "    20% {\n",
              "      border-color: transparent;\n",
              "      border-left-color: var(--fill-color);\n",
              "      border-top-color: var(--fill-color);\n",
              "    }\n",
              "    30% {\n",
              "      border-color: transparent;\n",
              "      border-left-color: var(--fill-color);\n",
              "      border-top-color: var(--fill-color);\n",
              "      border-right-color: var(--fill-color);\n",
              "    }\n",
              "    40% {\n",
              "      border-color: transparent;\n",
              "      border-right-color: var(--fill-color);\n",
              "      border-top-color: var(--fill-color);\n",
              "    }\n",
              "    60% {\n",
              "      border-color: transparent;\n",
              "      border-right-color: var(--fill-color);\n",
              "    }\n",
              "    80% {\n",
              "      border-color: transparent;\n",
              "      border-right-color: var(--fill-color);\n",
              "      border-bottom-color: var(--fill-color);\n",
              "    }\n",
              "    90% {\n",
              "      border-color: transparent;\n",
              "      border-bottom-color: var(--fill-color);\n",
              "    }\n",
              "  }\n",
              "</style>\n",
              "\n",
              "  <script>\n",
              "    async function quickchart(key) {\n",
              "      const quickchartButtonEl =\n",
              "        document.querySelector('#' + key + ' button');\n",
              "      quickchartButtonEl.disabled = true;  // To prevent multiple clicks.\n",
              "      quickchartButtonEl.classList.add('colab-df-spinner');\n",
              "      try {\n",
              "        const charts = await google.colab.kernel.invokeFunction(\n",
              "            'suggestCharts', [key], {});\n",
              "      } catch (error) {\n",
              "        console.error('Error during call to suggestCharts:', error);\n",
              "      }\n",
              "      quickchartButtonEl.classList.remove('colab-df-spinner');\n",
              "      quickchartButtonEl.classList.add('colab-df-quickchart-complete');\n",
              "    }\n",
              "    (() => {\n",
              "      let quickchartButtonEl =\n",
              "        document.querySelector('#df-02bc935c-00be-470a-92be-bf8b44c26846 button');\n",
              "      quickchartButtonEl.style.display =\n",
              "        google.colab.kernel.accessAllowed ? 'block' : 'none';\n",
              "    })();\n",
              "  </script>\n",
              "</div>\n",
              "\n",
              "    </div>\n",
              "  </div>\n"
            ],
            "application/vnd.google.colaboratory.intrinsic+json": {
              "type": "dataframe",
              "variable_name": "df"
            }
          },
          "metadata": {},
          "execution_count": 78
        }
      ]
    },
    {
      "cell_type": "markdown",
      "source": [
        "**Ahora tenemos nuestra base estandarizada y lista para realizar la predicción**"
      ],
      "metadata": {
        "id": "1MDHy-5ZIMMY"
      }
    },
    {
      "cell_type": "markdown",
      "source": [
        "## Agrupación"
      ],
      "metadata": {
        "id": "IHlj7GgTTxdK"
      }
    },
    {
      "cell_type": "code",
      "source": [
        "from sklearn.preprocessing import StandardScaler\n",
        "from sklearn.cluster import KMeans, AgglomerativeClustering, DBSCAN\n",
        "from sklearn.metrics import silhouette_score"
      ],
      "metadata": {
        "id": "xqkznTydII7b"
      },
      "execution_count": 79,
      "outputs": []
    },
    {
      "cell_type": "markdown",
      "source": [
        "**Primero modelamos los datos**"
      ],
      "metadata": {
        "id": "DGci-tUhUB_Q"
      }
    },
    {
      "cell_type": "code",
      "source": [
        "scaler = StandardScaler()\n",
        "scaler.fit(df)\n",
        "df_scaled = scaler.transform(df)"
      ],
      "metadata": {
        "id": "b_8ZISL4T-TH"
      },
      "execution_count": 80,
      "outputs": []
    },
    {
      "cell_type": "markdown",
      "source": [
        "**Utilizamos Kmeans y un gráfico de codos para obtener la cantidad adecuada de grupos a usar**"
      ],
      "metadata": {
        "id": "1t4pDRyzUIwS"
      }
    },
    {
      "cell_type": "code",
      "source": [
        "score = []\n",
        "k_clusters = range(2,11)\n",
        "for k in k_clusters:\n",
        "    kmeans = KMeans(n_clusters=k)\n",
        "    kmeans.fit(df_scaled)\n",
        "    score.append(-kmeans.score(df_scaled))\n",
        "\n",
        "plt.plot(k_clusters, score,'b.-')"
      ],
      "metadata": {
        "colab": {
          "base_uri": "https://localhost:8080/",
          "height": 775
        },
        "id": "j-rFizoRUGur",
        "outputId": "30c3b4c6-4da8-4002-8a1e-1910e57f9084"
      },
      "execution_count": 81,
      "outputs": [
        {
          "output_type": "stream",
          "name": "stderr",
          "text": [
            "/usr/local/lib/python3.10/dist-packages/sklearn/cluster/_kmeans.py:870: FutureWarning: The default value of `n_init` will change from 10 to 'auto' in 1.4. Set the value of `n_init` explicitly to suppress the warning\n",
            "  warnings.warn(\n",
            "/usr/local/lib/python3.10/dist-packages/sklearn/cluster/_kmeans.py:870: FutureWarning: The default value of `n_init` will change from 10 to 'auto' in 1.4. Set the value of `n_init` explicitly to suppress the warning\n",
            "  warnings.warn(\n",
            "/usr/local/lib/python3.10/dist-packages/sklearn/cluster/_kmeans.py:870: FutureWarning: The default value of `n_init` will change from 10 to 'auto' in 1.4. Set the value of `n_init` explicitly to suppress the warning\n",
            "  warnings.warn(\n",
            "/usr/local/lib/python3.10/dist-packages/sklearn/cluster/_kmeans.py:870: FutureWarning: The default value of `n_init` will change from 10 to 'auto' in 1.4. Set the value of `n_init` explicitly to suppress the warning\n",
            "  warnings.warn(\n",
            "/usr/local/lib/python3.10/dist-packages/sklearn/cluster/_kmeans.py:870: FutureWarning: The default value of `n_init` will change from 10 to 'auto' in 1.4. Set the value of `n_init` explicitly to suppress the warning\n",
            "  warnings.warn(\n",
            "/usr/local/lib/python3.10/dist-packages/sklearn/cluster/_kmeans.py:870: FutureWarning: The default value of `n_init` will change from 10 to 'auto' in 1.4. Set the value of `n_init` explicitly to suppress the warning\n",
            "  warnings.warn(\n",
            "/usr/local/lib/python3.10/dist-packages/sklearn/cluster/_kmeans.py:870: FutureWarning: The default value of `n_init` will change from 10 to 'auto' in 1.4. Set the value of `n_init` explicitly to suppress the warning\n",
            "  warnings.warn(\n",
            "/usr/local/lib/python3.10/dist-packages/sklearn/cluster/_kmeans.py:870: FutureWarning: The default value of `n_init` will change from 10 to 'auto' in 1.4. Set the value of `n_init` explicitly to suppress the warning\n",
            "  warnings.warn(\n",
            "/usr/local/lib/python3.10/dist-packages/sklearn/cluster/_kmeans.py:870: FutureWarning: The default value of `n_init` will change from 10 to 'auto' in 1.4. Set the value of `n_init` explicitly to suppress the warning\n",
            "  warnings.warn(\n"
          ]
        },
        {
          "output_type": "execute_result",
          "data": {
            "text/plain": [
              "[<matplotlib.lines.Line2D at 0x7e9005e7d180>]"
            ]
          },
          "metadata": {},
          "execution_count": 81
        },
        {
          "output_type": "display_data",
          "data": {
            "text/plain": [
              "<Figure size 640x480 with 1 Axes>"
            ],
            "image/png": "[encoded data removed]"
          },
          "metadata": {}
        }
      ]
    },
    {
      "cell_type": "markdown",
      "source": [
        "**Utilizamos el score silueta para obtener la cantidad óptima de grupos**"
      ],
      "metadata": {
        "id": "OWNwZWuFaRj_"
      }
    },
    {
      "cell_type": "code",
      "source": [
        "silhouette_scores = []\n",
        "for i in range(2, 11):\n",
        "  kmeans = KMeans(n_clusters = i)\n",
        "  kmeans.fit(df_scaled)\n",
        "  silhouette_scores.append(silhouette_score(df_scaled, kmeans.labels_))\n",
        "\n",
        "plt.plot(range(2, 11), silhouette_scores, marker = '.')\n",
        "plt.xlabel('Number of Clusters')\n",
        "plt.ylabel('Silhouette Score');"
      ],
      "metadata": {
        "id": "ZUoo1yX0jnzs"
      },
      "execution_count": null,
      "outputs": []
    },
    {
      "cell_type": "code",
      "source": [
        "kmeans = KMeans(n_clusters = 3)\n",
        "kmeans.fit(df_scaled)\n",
        "silhouette_score(df_scaled, kmeans.labels_)"
      ],
      "metadata": {
        "id": "VOXnN-eZjqCx"
      },
      "execution_count": null,
      "outputs": []
    },
    {
      "cell_type": "markdown",
      "source": [
        "**Vemos que el número óptimo de grupos es 2.**"
      ],
      "metadata": {
        "id": "3b0-YX6YjsKa"
      }
    },
    {
      "cell_type": "markdown",
      "source": [
        "## PCA"
      ],
      "metadata": {
        "id": "2HsvDSqPjzFO"
      }
    },
    {
      "cell_type": "markdown",
      "source": [
        "**Primero dividimos nuestra base en train y test.**"
      ],
      "metadata": {
        "id": "q1UR6F_ij244"
      }
    },
    {
      "cell_type": "code",
      "source": [
        "from sklearn.model_selection import train_test_split\n",
        "from tensorflow.keras.models import Sequential\n",
        "from tensorflow.keras.layers import Dense\n",
        "from sklearn.decomposition import PCA\n",
        "from sklearn.linear_model import LogisticRegression"
      ],
      "metadata": {
        "id": "LE-g6EJYiVZY"
      },
      "execution_count": 87,
      "outputs": []
    },
    {
      "cell_type": "code",
      "source": [
        "from sklearn.neighbors import KNeighborsClassifier\n",
        "from tensorflow.keras.layers import Dropout\n",
        "from tensorflow.keras.callbacks import EarlyStopping"
      ],
      "metadata": {
        "id": "VGKJHu3yjAdp"
      },
      "execution_count": 95,
      "outputs": []
    },
    {
      "cell_type": "code",
      "source": [
        "X = df.drop([\"sellingprice\"], axis=1)\n",
        "y = df[\"sellingprice\"]\n",
        "X.head()"
      ],
      "metadata": {
        "colab": {
          "base_uri": "https://localhost:8080/",
          "height": 206
        },
        "id": "RGA2x5qJhQFg",
        "outputId": "b760b6da-929d-48db-ee56-3d11d3016818"
      },
      "execution_count": 85,
      "outputs": [
        {
          "output_type": "execute_result",
          "data": {
            "text/plain": [
              "   year  make  body  transmission  condition  odometer  color  interior    mmr\n",
              "0  2015     7     1             0          5     16639      1         0  20500\n",
              "1  2015     7     1             0          5      9393      1         2  20800\n",
              "2  2014     6     0             0         45      1331      3         0  31900\n",
              "3  2015    25     0             0         41     14282      1         0  27500\n",
              "4  2014     6     0             0         43      2641      3         0  66000"
            ],
            "text/html": [
              "\n",
              "  <div id=\"df-c44d45f7-44a6-42c0-94e5-22f5ad00dbf4\" class=\"colab-df-container\">\n",
              "    <div>\n",
              "<style scoped>\n",
              "    .dataframe tbody tr th:only-of-type {\n",
              "        vertical-align: middle;\n",
              "    }\n",
              "\n",
              "    .dataframe tbody tr th {\n",
              "        vertical-align: top;\n",
              "    }\n",
              "\n",
              "    .dataframe thead th {\n",
              "        text-align: right;\n",
              "    }\n",
              "</style>\n",
              "<table border=\"1\" class=\"dataframe\">\n",
              "  <thead>\n",
              "    <tr style=\"text-align: right;\">\n",
              "      <th></th>\n",
              "      <th>year</th>\n",
              "      <th>make</th>\n",
              "      <th>body</th>\n",
              "      <th>transmission</th>\n",
              "      <th>condition</th>\n",
              "      <th>odometer</th>\n",
              "      <th>color</th>\n",
              "      <th>interior</th>\n",
              "      <th>mmr</th>\n",
              "    </tr>\n",
              "  </thead>\n",
              "  <tbody>\n",
              "    <tr>\n",
              "      <th>0</th>\n",
              "      <td>2015</td>\n",
              "      <td>7</td>\n",
              "      <td>1</td>\n",
              "      <td>0</td>\n",
              "      <td>5</td>\n",
              "      <td>16639</td>\n",
              "      <td>1</td>\n",
              "      <td>0</td>\n",
              "      <td>20500</td>\n",
              "    </tr>\n",
              "    <tr>\n",
              "      <th>1</th>\n",
              "      <td>2015</td>\n",
              "      <td>7</td>\n",
              "      <td>1</td>\n",
              "      <td>0</td>\n",
              "      <td>5</td>\n",
              "      <td>9393</td>\n",
              "      <td>1</td>\n",
              "      <td>2</td>\n",
              "      <td>20800</td>\n",
              "    </tr>\n",
              "    <tr>\n",
              "      <th>2</th>\n",
              "      <td>2014</td>\n",
              "      <td>6</td>\n",
              "      <td>0</td>\n",
              "      <td>0</td>\n",
              "      <td>45</td>\n",
              "      <td>1331</td>\n",
              "      <td>3</td>\n",
              "      <td>0</td>\n",
              "      <td>31900</td>\n",
              "    </tr>\n",
              "    <tr>\n",
              "      <th>3</th>\n",
              "      <td>2015</td>\n",
              "      <td>25</td>\n",
              "      <td>0</td>\n",
              "      <td>0</td>\n",
              "      <td>41</td>\n",
              "      <td>14282</td>\n",
              "      <td>1</td>\n",
              "      <td>0</td>\n",
              "      <td>27500</td>\n",
              "    </tr>\n",
              "    <tr>\n",
              "      <th>4</th>\n",
              "      <td>2014</td>\n",
              "      <td>6</td>\n",
              "      <td>0</td>\n",
              "      <td>0</td>\n",
              "      <td>43</td>\n",
              "      <td>2641</td>\n",
              "      <td>3</td>\n",
              "      <td>0</td>\n",
              "      <td>66000</td>\n",
              "    </tr>\n",
              "  </tbody>\n",
              "</table>\n",
              "</div>\n",
              "    <div class=\"colab-df-buttons\">\n",
              "\n",
              "  <div class=\"colab-df-container\">\n",
              "    <button class=\"colab-df-convert\" onclick=\"convertToInteractive('df-c44d45f7-44a6-42c0-94e5-22f5ad00dbf4')\"\n",
              "            title=\"Convert this dataframe to an interactive table.\"\n",
              "            style=\"display:none;\">\n",
              "\n",
              "  <svg xmlns=\"http://www.w3.org/2000/svg\" height=\"24px\" viewBox=\"0 -960 960 960\">\n",
              "    <path d=\"M120-120v-720h720v720H120Zm60-500h600v-160H180v160Zm220 220h160v-160H400v160Zm0 220h160v-160H400v160ZM180-400h160v-160H180v160Zm440 0h160v-160H620v160ZM180-180h160v-160H180v160Zm440 0h160v-160H620v160Z\"/>\n",
              "  </svg>\n",
              "    </button>\n",
              "\n",
              "  <style>\n",
              "    .colab-df-container {\n",
              "      display:flex;\n",
              "      gap: 12px;\n",
              "    }\n",
              "\n",
              "    .colab-df-convert {\n",
              "      background-color: #E8F0FE;\n",
              "      border: none;\n",
              "      border-radius: 50%;\n",
              "      cursor: pointer;\n",
              "      display: none;\n",
              "      fill: #1967D2;\n",
              "      height: 32px;\n",
              "      padding: 0 0 0 0;\n",
              "      width: 32px;\n",
              "    }\n",
              "\n",
              "    .colab-df-convert:hover {\n",
              "      background-color: #E2EBFA;\n",
              "      box-shadow: 0px 1px 2px rgba(60, 64, 67, 0.3), 0px 1px 3px 1px rgba(60, 64, 67, 0.15);\n",
              "      fill: #174EA6;\n",
              "    }\n",
              "\n",
              "    .colab-df-buttons div {\n",
              "      margin-bottom: 4px;\n",
              "    }\n",
              "\n",
              "    [theme=dark] .colab-df-convert {\n",
              "      background-color: #3B4455;\n",
              "      fill: #D2E3FC;\n",
              "    }\n",
              "\n",
              "    [theme=dark] .colab-df-convert:hover {\n",
              "      background-color: #434B5C;\n",
              "      box-shadow: 0px 1px 3px 1px rgba(0, 0, 0, 0.15);\n",
              "      filter: drop-shadow(0px 1px 2px rgba(0, 0, 0, 0.3));\n",
              "      fill: #FFFFFF;\n",
              "    }\n",
              "  </style>\n",
              "\n",
              "    <script>\n",
              "      const buttonEl =\n",
              "        document.querySelector('#df-c44d45f7-44a6-42c0-94e5-22f5ad00dbf4 button.colab-df-convert');\n",
              "      buttonEl.style.display =\n",
              "        google.colab.kernel.accessAllowed ? 'block' : 'none';\n",
              "\n",
              "      async function convertToInteractive(key) {\n",
              "        const element = document.querySelector('#df-c44d45f7-44a6-42c0-94e5-22f5ad00dbf4');\n",
              "        const dataTable =\n",
              "          await google.colab.kernel.invokeFunction('convertToInteractive',\n",
              "                                                    [key], {});\n",
              "        if (!dataTable) return;\n",
              "\n",
              "        const docLinkHtml = 'Like what you see? Visit the ' +\n",
              "          '<a target=\"_blank\" href=https://colab.research.google.com/notebooks/data_table.ipynb>data table notebook</a>'\n",
              "          + ' to learn more about interactive tables.';\n",
              "        element.innerHTML = '';\n",
              "        dataTable['output_type'] = 'display_data';\n",
              "        await google.colab.output.renderOutput(dataTable, element);\n",
              "        const docLink = document.createElement('div');\n",
              "        docLink.innerHTML = docLinkHtml;\n",
              "        element.appendChild(docLink);\n",
              "      }\n",
              "    </script>\n",
              "  </div>\n",
              "\n",
              "\n",
              "<div id=\"df-5a35e472-0cd0-4f1e-b000-bf0a9af6cb73\">\n",
              "  <button class=\"colab-df-quickchart\" onclick=\"quickchart('df-5a35e472-0cd0-4f1e-b000-bf0a9af6cb73')\"\n",
              "            title=\"Suggest charts\"\n",
              "            style=\"display:none;\">\n",
              "\n",
              "<svg xmlns=\"http://www.w3.org/2000/svg\" height=\"24px\"viewBox=\"0 0 24 24\"\n",
              "     width=\"24px\">\n",
              "    <g>\n",
              "        <path d=\"M19 3H5c-1.1 0-2 .9-2 2v14c0 1.1.9 2 2 2h14c1.1 0 2-.9 2-2V5c0-1.1-.9-2-2-2zM9 17H7v-7h2v7zm4 0h-2V7h2v10zm4 0h-2v-4h2v4z\"/>\n",
              "    </g>\n",
              "</svg>\n",
              "  </button>\n",
              "\n",
              "<style>\n",
              "  .colab-df-quickchart {\n",
              "      --bg-color: #E8F0FE;\n",
              "      --fill-color: #1967D2;\n",
              "      --hover-bg-color: #E2EBFA;\n",
              "      --hover-fill-color: #174EA6;\n",
              "      --disabled-fill-color: #AAA;\n",
              "      --disabled-bg-color: #DDD;\n",
              "  }\n",
              "\n",
              "  [theme=dark] .colab-df-quickchart {\n",
              "      --bg-color: #3B4455;\n",
              "      --fill-color: #D2E3FC;\n",
              "      --hover-bg-color: #434B5C;\n",
              "      --hover-fill-color: #FFFFFF;\n",
              "      --disabled-bg-color: #3B4455;\n",
              "      --disabled-fill-color: #666;\n",
              "  }\n",
              "\n",
              "  .colab-df-quickchart {\n",
              "    background-color: var(--bg-color);\n",
              "    border: none;\n",
              "    border-radius: 50%;\n",
              "    cursor: pointer;\n",
              "    display: none;\n",
              "    fill: var(--fill-color);\n",
              "    height: 32px;\n",
              "    padding: 0;\n",
              "    width: 32px;\n",
              "  }\n",
              "\n",
              "  .colab-df-quickchart:hover {\n",
              "    background-color: var(--hover-bg-color);\n",
              "    box-shadow: 0 1px 2px rgba(60, 64, 67, 0.3), 0 1px 3px 1px rgba(60, 64, 67, 0.15);\n",
              "    fill: var(--button-hover-fill-color);\n",
              "  }\n",
              "\n",
              "  .colab-df-quickchart-complete:disabled,\n",
              "  .colab-df-quickchart-complete:disabled:hover {\n",
              "    background-color: var(--disabled-bg-color);\n",
              "    fill: var(--disabled-fill-color);\n",
              "    box-shadow: none;\n",
              "  }\n",
              "\n",
              "  .colab-df-spinner {\n",
              "    border: 2px solid var(--fill-color);\n",
              "    border-color: transparent;\n",
              "    border-bottom-color: var(--fill-color);\n",
              "    animation:\n",
              "      spin 1s steps(1) infinite;\n",
              "  }\n",
              "\n",
              "  @keyframes spin {\n",
              "    0% {\n",
              "      border-color: transparent;\n",
              "      border-bottom-color: var(--fill-color);\n",
              "      border-left-color: var(--fill-color);\n",
              "    }\n",
              "    20% {\n",
              "      border-color: transparent;\n",
              "      border-left-color: var(--fill-color);\n",
              "      border-top-color: var(--fill-color);\n",
              "    }\n",
              "    30% {\n",
              "      border-color: transparent;\n",
              "      border-left-color: var(--fill-color);\n",
              "      border-top-color: var(--fill-color);\n",
              "      border-right-color: var(--fill-color);\n",
              "    }\n",
              "    40% {\n",
              "      border-color: transparent;\n",
              "      border-right-color: var(--fill-color);\n",
              "      border-top-color: var(--fill-color);\n",
              "    }\n",
              "    60% {\n",
              "      border-color: transparent;\n",
              "      border-right-color: var(--fill-color);\n",
              "    }\n",
              "    80% {\n",
              "      border-color: transparent;\n",
              "      border-right-color: var(--fill-color);\n",
              "      border-bottom-color: var(--fill-color);\n",
              "    }\n",
              "    90% {\n",
              "      border-color: transparent;\n",
              "      border-bottom-color: var(--fill-color);\n",
              "    }\n",
              "  }\n",
              "</style>\n",
              "\n",
              "  <script>\n",
              "    async function quickchart(key) {\n",
              "      const quickchartButtonEl =\n",
              "        document.querySelector('#' + key + ' button');\n",
              "      quickchartButtonEl.disabled = true;  // To prevent multiple clicks.\n",
              "      quickchartButtonEl.classList.add('colab-df-spinner');\n",
              "      try {\n",
              "        const charts = await google.colab.kernel.invokeFunction(\n",
              "            'suggestCharts', [key], {});\n",
              "      } catch (error) {\n",
              "        console.error('Error during call to suggestCharts:', error);\n",
              "      }\n",
              "      quickchartButtonEl.classList.remove('colab-df-spinner');\n",
              "      quickchartButtonEl.classList.add('colab-df-quickchart-complete');\n",
              "    }\n",
              "    (() => {\n",
              "      let quickchartButtonEl =\n",
              "        document.querySelector('#df-5a35e472-0cd0-4f1e-b000-bf0a9af6cb73 button');\n",
              "      quickchartButtonEl.style.display =\n",
              "        google.colab.kernel.accessAllowed ? 'block' : 'none';\n",
              "    })();\n",
              "  </script>\n",
              "</div>\n",
              "\n",
              "    </div>\n",
              "  </div>\n"
            ],
            "application/vnd.google.colaboratory.intrinsic+json": {
              "type": "dataframe",
              "variable_name": "X"
            }
          },
          "metadata": {},
          "execution_count": 85
        }
      ]
    },
    {
      "cell_type": "code",
      "source": [
        "X_train, X_test, y_train, y_test = train_test_split(X, y, random_state=42, test_size=0.3)\n",
        "\n",
        "scaler = StandardScaler()\n",
        "\n",
        "X_train = scaler.fit_transform(X_train)\n",
        "X_test = scaler.transform(X_test)"
      ],
      "metadata": {
        "id": "K5DJMEwthaQv"
      },
      "execution_count": 88,
      "outputs": []
    },
    {
      "cell_type": "markdown",
      "source": [
        "**Vemos con cuantas columnas nuestro modelo podria seguir funcionando a un porcentaje óptimo.**"
      ],
      "metadata": {
        "id": "fpi5e2KLj7FL"
      }
    },
    {
      "cell_type": "code",
      "source": [
        "pca = PCA()\n",
        "X_train_pca = pca.fit_transform(X_train)\n",
        "\n",
        "plt.figure(figsize=(10,6))\n",
        "plt.plot(pca.explained_variance_ratio_,'bo-')\n",
        "plt.show()"
      ],
      "metadata": {
        "colab": {
          "base_uri": "https://localhost:8080/",
          "height": 522
        },
        "id": "ItgXHBM1iQv6",
        "outputId": "83e0a1cf-d351-412e-a009-a0893af1d22a"
      },
      "execution_count": 90,
      "outputs": [
        {
          "output_type": "display_data",
          "data": {
            "text/plain": [
              "<Figure size 1000x600 with 1 Axes>"
            ],
            "image/png": "[encoded data removed]"
          },
          "metadata": {}
        }
      ]
    },
    {
      "cell_type": "code",
      "source": [
        "pca = PCA(n_components=.95)"
      ],
      "metadata": {
        "id": "RgNndVQjiiP4"
      },
      "execution_count": 91,
      "outputs": []
    },
    {
      "cell_type": "code",
      "source": [
        "pca = PCA()\n",
        "pcs = pca.fit_transform(X)\n",
        "print(pcs.shape)\n",
        "print(X.shape)"
      ],
      "metadata": {
        "colab": {
          "base_uri": "https://localhost:8080/"
        },
        "id": "PCOpxh4Jizne",
        "outputId": "46671259-83d3-4e93-eb8e-0f96437fa48f"
      },
      "execution_count": 92,
      "outputs": [
        {
          "output_type": "stream",
          "name": "stdout",
          "text": [
            "(480063, 9)\n",
            "(480063, 9)\n"
          ]
        }
      ]
    },
    {
      "cell_type": "code",
      "source": [
        "pca = PCA(n_components=0.95)\n",
        "X_train_pca = pca.fit_transform(X_train)\n",
        "X_train_pca_df = pd.DataFrame(X_train_pca)\n",
        "X_test_pca = pca.transform(X_test)\n",
        "X_test_pca_df = pd.DataFrame(X_test_pca)\n",
        "\n",
        "X_train_pca_df\n",
        "\n",
        "print(\"El número de componentes es\", pca.n_components_, \"de\", pca.n_features_)"
      ],
      "metadata": {
        "colab": {
          "base_uri": "https://localhost:8080/"
        },
        "id": "n9Mxop6_i1R_",
        "outputId": "b001c206-3c6c-4381-ec5e-c89bdb0d22ab"
      },
      "execution_count": 93,
      "outputs": [
        {
          "output_type": "stream",
          "name": "stdout",
          "text": [
            "El número de componentes es 7 de 9\n"
          ]
        },
        {
          "output_type": "stream",
          "name": "stderr",
          "text": [
            "/usr/local/lib/python3.10/dist-packages/sklearn/utils/deprecation.py:101: FutureWarning: Attribute `n_features_` was deprecated in version 1.2 and will be removed in 1.4. Use `n_features_in_` instead.\n",
            "  warnings.warn(msg, category=FutureWarning)\n"
          ]
        }
      ]
    },
    {
      "cell_type": "markdown",
      "source": [
        "**Con 7 columnas nuestro modelo seguiria funcionando a un 95%.**"
      ],
      "metadata": {
        "id": "WURXQOq8kEJl"
      }
    },
    {
      "cell_type": "code",
      "source": [
        "knn_pca = KNeighborsClassifier(n_neighbors=3)\n",
        "knn_pca.fit(X_train_pca, y_train)\n",
        "score = knn_pca.score(X_test_pca, y_test)\n",
        "score"
      ],
      "metadata": {
        "colab": {
          "base_uri": "https://localhost:8080/"
        },
        "id": "S2QvoXLGi5Qe",
        "outputId": "3701e262-e5e1-418e-acd3-46c5a6de1f07"
      },
      "execution_count": 98,
      "outputs": [
        {
          "output_type": "execute_result",
          "data": {
            "text/plain": [
              "0.026309028669828288"
            ]
          },
          "metadata": {},
          "execution_count": 98
        }
      ]
    },
    {
      "cell_type": "code",
      "source": [
        "%%time\n",
        "preds_knn_pca = knn_pca.predict(X_test_pca)"
      ],
      "metadata": {
        "colab": {
          "base_uri": "https://localhost:8080/"
        },
        "id": "o08x60bGi9xq",
        "outputId": "2b48825b-dd5b-4dcf-9960-7df523dc7e10"
      },
      "execution_count": 97,
      "outputs": [
        {
          "output_type": "stream",
          "name": "stdout",
          "text": [
            "CPU times: user 17.9 s, sys: 356 ms, total: 18.3 s\n",
            "Wall time: 24.8 s\n"
          ]
        }
      ]
    },
    {
      "cell_type": "markdown",
      "source": [
        "**El porcentaje de eficiencia es bajo pero el tiempo de trabajo tambien es bajo.**"
      ],
      "metadata": {
        "id": "xvuXwakFkJZc"
      }
    },
    {
      "cell_type": "markdown",
      "source": [
        "## Deep Learning"
      ],
      "metadata": {
        "id": "OeUNtC6_kRCf"
      }
    },
    {
      "cell_type": "markdown",
      "source": [
        "**Primero utilizaremos una red neuronal simple**"
      ],
      "metadata": {
        "id": "FxPHaQDcnAcb"
      }
    },
    {
      "cell_type": "markdown",
      "source": [
        "**Definimos un modelo secuencial**"
      ],
      "metadata": {
        "id": "fvnp_MKqmCN2"
      }
    },
    {
      "cell_type": "code",
      "source": [
        "model = Sequential()"
      ],
      "metadata": {
        "id": "bLOTnQljjPsz"
      },
      "execution_count": 99,
      "outputs": []
    },
    {
      "cell_type": "markdown",
      "source": [
        "**Colocamos las capas de entrada**"
      ],
      "metadata": {
        "id": "CIySgzt1mHW4"
      }
    },
    {
      "cell_type": "code",
      "source": [
        "X_train.shape"
      ],
      "metadata": {
        "colab": {
          "base_uri": "https://localhost:8080/"
        },
        "id": "-0juzSiWkaW-",
        "outputId": "1f34875d-2498-44c0-c1fc-5b0371ba8af2"
      },
      "execution_count": 100,
      "outputs": [
        {
          "output_type": "execute_result",
          "data": {
            "text/plain": [
              "(336044, 9)"
            ]
          },
          "metadata": {},
          "execution_count": 100
        }
      ]
    },
    {
      "cell_type": "code",
      "source": [
        "input_shape = X_train.shape[1]\n",
        "input_shape"
      ],
      "metadata": {
        "colab": {
          "base_uri": "https://localhost:8080/"
        },
        "id": "AYJ1jxzHkc7K",
        "outputId": "bef908a3-e54e-4123-8e4e-d91dd2d7c8ec"
      },
      "execution_count": 101,
      "outputs": [
        {
          "output_type": "execute_result",
          "data": {
            "text/plain": [
              "9"
            ]
          },
          "metadata": {},
          "execution_count": 101
        }
      ]
    },
    {
      "cell_type": "markdown",
      "source": [
        "**Definimos la función de activación**"
      ],
      "metadata": {
        "id": "YnjTEtKMmLjM"
      }
    },
    {
      "cell_type": "code",
      "source": [
        "model.add(Dense(19,\n",
        "                input_dim = input_shape, #\n",
        "                activation = 'relu'))\n",
        "model.add(Dense(10,\n",
        "                activation = 'relu'))\n",
        "model.add(Dense(1, activation = 'sigmoid'))"
      ],
      "metadata": {
        "id": "JMPhPNQskfWy"
      },
      "execution_count": 102,
      "outputs": []
    },
    {
      "cell_type": "markdown",
      "source": [
        "**Compilamos el modelo, para ello utilizamos un optimizador adam**"
      ],
      "metadata": {
        "id": "rrIdelx-mQeD"
      }
    },
    {
      "cell_type": "code",
      "source": [
        "model.compile(loss = 'bce', optimizer = 'adam')"
      ],
      "metadata": {
        "id": "SlkgQTREkhMN"
      },
      "execution_count": 103,
      "outputs": []
    },
    {
      "cell_type": "code",
      "source": [
        "history = model.fit(X_train, y_train,\n",
        "                    validation_data = (X_test, y_test),\n",
        "                    epochs=10)"
      ],
      "metadata": {
        "colab": {
          "base_uri": "https://localhost:8080/"
        },
        "id": "dCkNZdUfkjEd",
        "outputId": "8e79c9e0-ff19-4ab2-cc01-ac03620ee9ae"
      },
      "execution_count": 105,
      "outputs": [
        {
          "output_type": "stream",
          "name": "stdout",
          "text": [
            "Epoch 1/10\n",
            "10502/10502 [==============================] - 37s 3ms/step - loss: -914783797248.0000 - val_loss: -1155114205184.0000\n",
            "Epoch 2/10\n",
            "10502/10502 [==============================] - 30s 3ms/step - loss: -1456112009216.0000 - val_loss: -1778192744448.0000\n",
            "Epoch 3/10\n",
            "10502/10502 [==============================] - 29s 3ms/step - loss: -2173056843776.0000 - val_loss: -2588980805632.0000\n",
            "Epoch 4/10\n",
            "10502/10502 [==============================] - 25s 2ms/step - loss: -3091312148480.0000 - val_loss: -3614574641152.0000\n",
            "Epoch 5/10\n",
            "10502/10502 [==============================] - 31s 3ms/step - loss: -4234758586368.0000 - val_loss: -4875079909376.0000\n",
            "Epoch 6/10\n",
            "10502/10502 [==============================] - 32s 3ms/step - loss: -5628511125504.0000 - val_loss: -6397452353536.0000\n",
            "Epoch 7/10\n",
            "10502/10502 [==============================] - 41s 4ms/step - loss: -7292058075136.0000 - val_loss: -8201636413440.0000\n",
            "Epoch 8/10\n",
            "10502/10502 [==============================] - 37s 3ms/step - loss: -9249756282880.0000 - val_loss: -10311461502976.0000\n",
            "Epoch 9/10\n",
            "10502/10502 [==============================] - 37s 4ms/step - loss: -11535251406848.0000 - val_loss: -12759554064384.0000\n",
            "Epoch 10/10\n",
            "10502/10502 [==============================] - 40s 4ms/step - loss: -14166185213952.0000 - val_loss: -15563822727168.0000\n"
          ]
        }
      ]
    },
    {
      "cell_type": "markdown",
      "source": [
        "**Visualizamos el historial de perdida**"
      ],
      "metadata": {
        "id": "tO-Sb4EkmVVu"
      }
    },
    {
      "cell_type": "code",
      "source": [
        "plt.plot(history.history['loss'], label='Train loss')\n",
        "plt.plot(history.history['val_loss'], label='Test Loss')\n",
        "plt.legend();"
      ],
      "metadata": {
        "colab": {
          "base_uri": "https://localhost:8080/",
          "height": 445
        },
        "id": "MSbJtAr3kk-x",
        "outputId": "f5fc6232-33b9-44f6-8483-89bd2634e3c0"
      },
      "execution_count": 106,
      "outputs": [
        {
          "output_type": "display_data",
          "data": {
            "text/plain": [
              "<Figure size 640x480 with 1 Axes>"
            ],
            "image/png": "[encoded data removed]"
          },
          "metadata": {}
        }
      ]
    },
    {
      "cell_type": "markdown",
      "source": [
        "**Evaluamos el entrenamiento**"
      ],
      "metadata": {
        "id": "W4-3PlOQmgEs"
      }
    },
    {
      "cell_type": "code",
      "source": [
        "model.summary()"
      ],
      "metadata": {
        "colab": {
          "base_uri": "https://localhost:8080/"
        },
        "id": "XfWjFIwAmpSP",
        "outputId": "7ed50251-3a9b-4e18-aac6-94d01ba9fa59"
      },
      "execution_count": 107,
      "outputs": [
        {
          "output_type": "stream",
          "name": "stdout",
          "text": [
            "Model: \"sequential\"\n",
            "_________________________________________________________________\n",
            " Layer (type)                Output Shape              Param #   \n",
            "=================================================================\n",
            " dense (Dense)               (None, 19)                190       \n",
            "                                                                 \n",
            " dense_1 (Dense)             (None, 10)                200       \n",
            "                                                                 \n",
            " dense_2 (Dense)             (None, 1)                 11        \n",
            "                                                                 \n",
            "=================================================================\n",
            "Total params: 401 (1.57 KB)\n",
            "Trainable params: 401 (1.57 KB)\n",
            "Non-trainable params: 0 (0.00 Byte)\n",
            "_________________________________________________________________\n"
          ]
        }
      ]
    },
    {
      "cell_type": "markdown",
      "source": [
        "**En este modelo vemos que no hay overfit, pero que el train y el test tienden mucho a la baja.**"
      ],
      "metadata": {
        "id": "WO-XwYY5qMLZ"
      }
    },
    {
      "cell_type": "markdown",
      "source": [
        "**Ahora utilizaremos una red neuronal con dropout**"
      ],
      "metadata": {
        "id": "8pStVRsrnIfh"
      }
    },
    {
      "cell_type": "markdown",
      "source": [
        "**Compilamos el modelo con dropout**"
      ],
      "metadata": {
        "id": "ypyZscwLnier"
      }
    },
    {
      "cell_type": "code",
      "source": [
        "model.add(Dense(19,\n",
        "                input_dim = input_shape,\n",
        "                activation = 'relu'))\n",
        "model.add(Dropout(.2))\n",
        "model.add(Dense(10,\n",
        "                activation = 'relu'))\n",
        "model.add(Dropout(0.2))\n",
        "model.add(Dense(1, activation = 'sigmoid'))\n",
        "model.compile(loss = 'bce', optimizer = 'adam')\n",
        "history = model.fit(X_train, y_train,\n",
        "                    validation_data = (X_test, y_test),\n",
        "                    epochs=10)"
      ],
      "metadata": {
        "colab": {
          "base_uri": "https://localhost:8080/"
        },
        "id": "LIxsBOvAm8GC",
        "outputId": "d2e2f3d6-8274-47ad-e628-d75bab3c5955"
      },
      "execution_count": 109,
      "outputs": [
        {
          "output_type": "stream",
          "name": "stdout",
          "text": [
            "Epoch 1/10\n",
            "10502/10502 [==============================] - 44s 4ms/step - loss: -2097607680.0000 - val_loss: -7343782400.0000\n",
            "Epoch 2/10\n",
            "10502/10502 [==============================] - 40s 4ms/step - loss: -22384070656.0000 - val_loss: -43607277568.0000\n",
            "Epoch 3/10\n",
            "10502/10502 [==============================] - 58s 5ms/step - loss: -81256579072.0000 - val_loss: -127644975104.0000\n",
            "Epoch 4/10\n",
            "10502/10502 [==============================] - 38s 4ms/step - loss: -197419040768.0000 - val_loss: -277700771840.0000\n",
            "Epoch 5/10\n",
            "10502/10502 [==============================] - 38s 4ms/step - loss: -389012258816.0000 - val_loss: -512009895936.0000\n",
            "Epoch 6/10\n",
            "10502/10502 [==============================] - 35s 3ms/step - loss: -673698349056.0000 - val_loss: -848072409088.0000\n",
            "Epoch 7/10\n",
            "10502/10502 [==============================] - 38s 4ms/step - loss: -1070633189376.0000 - val_loss: -1304096931840.0000\n",
            "Epoch 8/10\n",
            "10502/10502 [==============================] - 34s 3ms/step - loss: -1596940353536.0000 - val_loss: -1897259204608.0000\n",
            "Epoch 9/10\n",
            "10502/10502 [==============================] - 34s 3ms/step - loss: -2265790021632.0000 - val_loss: -2644938326016.0000\n",
            "Epoch 10/10\n",
            "10502/10502 [==============================] - 34s 3ms/step - loss: -3105866645504.0000 - val_loss: -3566074855424.0000\n"
          ]
        }
      ]
    },
    {
      "cell_type": "markdown",
      "source": [
        "**Visualizamos la pérdida**"
      ],
      "metadata": {
        "id": "PMlDkKcLnoN4"
      }
    },
    {
      "cell_type": "code",
      "source": [
        "plt.plot(history.history['loss'], label='Train loss')\n",
        "plt.plot(history.history['val_loss'], label='Test Loss')\n",
        "plt.legend();"
      ],
      "metadata": {
        "colab": {
          "base_uri": "https://localhost:8080/",
          "height": 445
        },
        "id": "5d9a7T7snMCy",
        "outputId": "f2d28c20-193a-4dde-e44d-bbe62911de3f"
      },
      "execution_count": 110,
      "outputs": [
        {
          "output_type": "display_data",
          "data": {
            "text/plain": [
              "<Figure size 640x480 with 1 Axes>"
            ],
            "image/png": "[encoded data removed]"
          },
          "metadata": {}
        }
      ]
    },
    {
      "cell_type": "markdown",
      "source": [
        "**En este segundo modelo vemos algo muy parecido al modelo anterior, que tanto el train como el test tienden a la baja, aunque el overfitting es menor en este modelo.**"
      ],
      "metadata": {
        "id": "Qde19hdCqV4k"
      }
    },
    {
      "cell_type": "markdown",
      "source": [
        "**Ahora utilizaremos un modelo con detención anticipada**"
      ],
      "metadata": {
        "id": "KFnJ8ttMpToD"
      }
    },
    {
      "cell_type": "markdown",
      "source": [
        "**Compilamos el modelo con detención anticipada**"
      ],
      "metadata": {
        "id": "XekIW8IXpjo5"
      }
    },
    {
      "cell_type": "code",
      "source": [
        "model.add(Dense(10,\n",
        "                input_dim = input_shape,\n",
        "                activation = 'relu'))\n",
        "model.add(Dense(10,\n",
        "                activation = 'relu'))\n",
        "model.add(Dense(1, activation = 'sigmoid'))\n",
        "model.compile(loss = 'bce', optimizer = 'adam')\n",
        "early_stopping = EarlyStopping(patience = 5)\n",
        "history = model.fit(X_train, y_train,\n",
        "                    validation_data = (X_test, y_test),\n",
        "                    epochs=100,\n",
        "                    callbacks = [early_stopping])"
      ],
      "metadata": {
        "colab": {
          "base_uri": "https://localhost:8080/"
        },
        "id": "WyvP6IpHpBIJ",
        "outputId": "ab02be44-74a8-42f6-e9c7-f23730be0d1b"
      },
      "execution_count": 111,
      "outputs": [
        {
          "output_type": "stream",
          "name": "stdout",
          "text": [
            "Epoch 1/100\n",
            "10502/10502 [==============================] - 45s 4ms/step - loss: -397361504.0000 - val_loss: -1364616960.0000\n",
            "Epoch 2/100\n",
            "10502/10502 [==============================] - 51s 5ms/step - loss: -4048375040.0000 - val_loss: -7816828928.0000\n",
            "Epoch 3/100\n",
            "10502/10502 [==============================] - 38s 4ms/step - loss: -14444448768.0000 - val_loss: -22578694144.0000\n",
            "Epoch 4/100\n",
            "10502/10502 [==============================] - 43s 4ms/step - loss: -34763980800.0000 - val_loss: -48769708032.0000\n",
            "Epoch 5/100\n",
            "10502/10502 [==============================] - 53s 5ms/step - loss: -68070559744.0000 - val_loss: -89448841216.0000\n",
            "Epoch 6/100\n",
            "10502/10502 [==============================] - 57s 5ms/step - loss: -117515255808.0000 - val_loss: -147709673472.0000\n",
            "Epoch 7/100\n",
            "10502/10502 [==============================] - 56s 5ms/step - loss: -186129514496.0000 - val_loss: -226519580672.0000\n",
            "Epoch 8/100\n",
            "10502/10502 [==============================] - 47s 5ms/step - loss: -276998488064.0000 - val_loss: -328996749312.0000\n",
            "Epoch 9/100\n",
            "10502/10502 [==============================] - 57s 5ms/step - loss: -393091383296.0000 - val_loss: -458092085248.0000\n",
            "Epoch 10/100\n",
            "10502/10502 [==============================] - 57s 5ms/step - loss: -537380978688.0000 - val_loss: -616832892928.0000\n",
            "Epoch 11/100\n",
            "10502/10502 [==============================] - 61s 6ms/step - loss: -712923807744.0000 - val_loss: -808151023616.0000\n",
            "Epoch 12/100\n",
            "10502/10502 [==============================] - 52s 5ms/step - loss: -922789216256.0000 - val_loss: -1035020599296.0000\n",
            "Epoch 13/100\n",
            "10502/10502 [==============================] - 49s 5ms/step - loss: -1170080661504.0000 - val_loss: -1300711211008.0000\n",
            "Epoch 14/100\n",
            "10502/10502 [==============================] - 60s 6ms/step - loss: -1457350115328.0000 - val_loss: -1607630192640.0000\n",
            "Epoch 15/100\n",
            "10502/10502 [==============================] - 36s 3ms/step - loss: -1788389359616.0000 - val_loss: -1959560478720.0000\n",
            "Epoch 16/100\n",
            "10502/10502 [==============================] - 38s 4ms/step - loss: -2164980842496.0000 - val_loss: -2358682320896.0000\n",
            "Epoch 17/100\n",
            "10502/10502 [==============================] - 38s 4ms/step - loss: -2591754813440.0000 - val_loss: -2808657215488.0000\n",
            "Epoch 18/100\n",
            "10502/10502 [==============================] - 39s 4ms/step - loss: -3070200381440.0000 - val_loss: -3312064135168.0000\n",
            "Epoch 19/100\n",
            "10502/10502 [==============================] - 42s 4ms/step - loss: -3603922681856.0000 - val_loss: -3871692029952.0000\n",
            "Epoch 20/100\n",
            "10502/10502 [==============================] - 41s 4ms/step - loss: -4196283449344.0000 - val_loss: -4491302666240.0000\n",
            "Epoch 21/100\n",
            "10502/10502 [==============================] - 39s 4ms/step - loss: -4850254348288.0000 - val_loss: -5173277097984.0000\n",
            "Epoch 22/100\n",
            "10502/10502 [==============================] - 42s 4ms/step - loss: -5567058804736.0000 - val_loss: -5920055623680.0000\n",
            "Epoch 23/100\n",
            "10502/10502 [==============================] - 37s 4ms/step - loss: -6351995011072.0000 - val_loss: -6735810002944.0000\n",
            "Epoch 24/100\n",
            "10502/10502 [==============================] - 41s 4ms/step - loss: -7207409156096.0000 - val_loss: -7622735953920.0000\n",
            "Epoch 25/100\n",
            "10502/10502 [==============================] - 44s 4ms/step - loss: -8135711916032.0000 - val_loss: -8584122335232.0000\n",
            "Epoch 26/100\n",
            "10502/10502 [==============================] - 42s 4ms/step - loss: -9140305920000.0000 - val_loss: -9622918266880.0000\n",
            "Epoch 27/100\n",
            "10502/10502 [==============================] - 42s 4ms/step - loss: -10223283601408.0000 - val_loss: -10741030584320.0000\n",
            "Epoch 28/100\n",
            "10502/10502 [==============================] - 38s 4ms/step - loss: -11389745758208.0000 - val_loss: -11943896154112.0000\n",
            "Epoch 29/100\n",
            "10502/10502 [==============================] - 44s 4ms/step - loss: -12640200949760.0000 - val_loss: -13231849472000.0000\n",
            "Epoch 30/100\n",
            "10502/10502 [==============================] - 37s 4ms/step - loss: -13978990280704.0000 - val_loss: -14608968450048.0000\n",
            "Epoch 31/100\n",
            "10502/10502 [==============================] - 41s 4ms/step - loss: -15408396500992.0000 - val_loss: -16078101020672.0000\n",
            "Epoch 32/100\n",
            "10502/10502 [==============================] - 39s 4ms/step - loss: -16932045586432.0000 - val_loss: -17642221993984.0000\n",
            "Epoch 33/100\n",
            "10502/10502 [==============================] - 38s 4ms/step - loss: -18552719409152.0000 - val_loss: -19304649064448.0000\n",
            "Epoch 34/100\n",
            "10502/10502 [==============================] - 37s 3ms/step - loss: -20274552504320.0000 - val_loss: -21068754452480.0000\n",
            "Epoch 35/100\n",
            "10502/10502 [==============================] - 41s 4ms/step - loss: -22098527387648.0000 - val_loss: -22935953735680.0000\n",
            "Epoch 36/100\n",
            "10502/10502 [==============================] - 37s 4ms/step - loss: -24027968045056.0000 - val_loss: -24910963408896.0000\n",
            "Epoch 37/100\n",
            "10502/10502 [==============================] - 38s 4ms/step - loss: -26066596921344.0000 - val_loss: -26994678956032.0000\n",
            "Epoch 38/100\n",
            "10502/10502 [==============================] - 37s 4ms/step - loss: -28216664260608.0000 - val_loss: -29191110131712.0000\n",
            "Epoch 39/100\n",
            "10502/10502 [==============================] - 44s 4ms/step - loss: -30481038966784.0000 - val_loss: -31503176171520.0000\n",
            "Epoch 40/100\n",
            "10502/10502 [==============================] - 36s 3ms/step - loss: -32864378814464.0000 - val_loss: -33935560015872.0000\n",
            "Epoch 41/100\n",
            "10502/10502 [==============================] - 41s 4ms/step - loss: -35368908881920.0000 - val_loss: -36489845014528.0000\n",
            "Epoch 42/100\n",
            "10502/10502 [==============================] - 42s 4ms/step - loss: -37997550501888.0000 - val_loss: -39167543214080.0000\n",
            "Epoch 43/100\n",
            "10502/10502 [==============================] - 43s 4ms/step - loss: -40750205108224.0000 - val_loss: -41971959726080.0000\n",
            "Epoch 44/100\n",
            "10502/10502 [==============================] - 42s 4ms/step - loss: -43634703466496.0000 - val_loss: -44909172097024.0000\n",
            "Epoch 45/100\n",
            "10502/10502 [==============================] - 41s 4ms/step - loss: -46653209837568.0000 - val_loss: -47978110779392.0000\n",
            "Epoch 46/100\n",
            "10502/10502 [==============================] - 40s 4ms/step - loss: -49805732610048.0000 - val_loss: -51184207396864.0000\n",
            "Epoch 47/100\n",
            "10502/10502 [==============================] - 41s 4ms/step - loss: -53097095233536.0000 - val_loss: -54528791543808.0000\n",
            "Epoch 48/100\n",
            "10502/10502 [==============================] - 42s 4ms/step - loss: -56525024395264.0000 - val_loss: -58016019775488.0000\n",
            "Epoch 49/100\n",
            "10502/10502 [==============================] - 45s 4ms/step - loss: -60104745418752.0000 - val_loss: -61649411112960.0000\n",
            "Epoch 50/100\n",
            "10502/10502 [==============================] - 37s 4ms/step - loss: -63828540784640.0000 - val_loss: -65428223164416.0000\n",
            "Epoch 51/100\n",
            "10502/10502 [==============================] - 39s 4ms/step - loss: -67700592214016.0000 - val_loss: -69357455540224.0000\n",
            "Epoch 52/100\n",
            "10502/10502 [==============================] - 45s 4ms/step - loss: -71725551190016.0000 - val_loss: -73441071857664.0000\n",
            "Epoch 53/100\n",
            "10502/10502 [==============================] - 42s 4ms/step - loss: -75909394595840.0000 - val_loss: -77685036417024.0000\n",
            "Epoch 54/100\n",
            "10502/10502 [==============================] - 37s 3ms/step - loss: -80252697051136.0000 - val_loss: -82090766893056.0000\n",
            "Epoch 55/100\n",
            "10502/10502 [==============================] - 41s 4ms/step - loss: -84759392813056.0000 - val_loss: -86655461490688.0000\n",
            "Epoch 56/100\n",
            "10502/10502 [==============================] - 41s 4ms/step - loss: -89429448327168.0000 - val_loss: -91389018767360.0000\n",
            "Epoch 57/100\n",
            "10502/10502 [==============================] - 42s 4ms/step - loss: -94273559068672.0000 - val_loss: -96293737201664.0000\n",
            "Epoch 58/100\n",
            "10502/10502 [==============================] - 40s 4ms/step - loss: -99282430459904.0000 - val_loss: -101364139032576.0000\n",
            "Epoch 59/100\n",
            "10502/10502 [==============================] - 40s 4ms/step - loss: -104465256415232.0000 - val_loss: -106608377987072.0000\n",
            "Epoch 60/100\n",
            "10502/10502 [==============================] - 43s 4ms/step - loss: -109826306736128.0000 - val_loss: -112034993668096.0000\n",
            "Epoch 61/100\n",
            "10502/10502 [==============================] - 42s 4ms/step - loss: -115365824692224.0000 - val_loss: -117639112294400.0000\n",
            "Epoch 62/100\n",
            "10502/10502 [==============================] - 42s 4ms/step - loss: -121092349886464.0000 - val_loss: -123429734842368.0000\n",
            "Epoch 63/100\n",
            "10502/10502 [==============================] - 39s 4ms/step - loss: -127008113688576.0000 - val_loss: -129408731971584.0000\n",
            "Epoch 64/100\n",
            "10502/10502 [==============================] - 42s 4ms/step - loss: -133108821131264.0000 - val_loss: -135578309885952.0000\n",
            "Epoch 65/100\n",
            "10502/10502 [==============================] - 40s 4ms/step - loss: -139399849312256.0000 - val_loss: -141937965268992.0000\n",
            "Epoch 66/100\n",
            "10502/10502 [==============================] - 42s 4ms/step - loss: -145879705059328.0000 - val_loss: -148484351066112.0000\n",
            "Epoch 67/100\n",
            "10502/10502 [==============================] - 43s 4ms/step - loss: -152568193875968.0000 - val_loss: -155238589792256.0000\n",
            "Epoch 68/100\n",
            "10502/10502 [==============================] - 44s 4ms/step - loss: -159448614043648.0000 - val_loss: -162187779768320.0000\n",
            "Epoch 69/100\n",
            "10502/10502 [==============================] - 39s 4ms/step - loss: -166536081833984.0000 - val_loss: -169343614713856.0000\n",
            "Epoch 70/100\n",
            "10502/10502 [==============================] - 42s 4ms/step - loss: -173828013555712.0000 - val_loss: -176707235479552.0000\n",
            "Epoch 71/100\n",
            "10502/10502 [==============================] - 39s 4ms/step - loss: -181332831371264.0000 - val_loss: -184278189080576.0000\n",
            "Epoch 72/100\n",
            "10502/10502 [==============================] - 39s 4ms/step - loss: -189050837270528.0000 - val_loss: -192069393973248.0000\n",
            "Epoch 73/100\n",
            "10502/10502 [==============================] - 37s 4ms/step - loss: -196981628600320.0000 - val_loss: -200074743250944.0000\n",
            "Epoch 74/100\n",
            "10502/10502 [==============================] - 39s 4ms/step - loss: -205136949411840.0000 - val_loss: -208297005154304.0000\n",
            "Epoch 75/100\n",
            "10502/10502 [==============================] - 40s 4ms/step - loss: -213510961233920.0000 - val_loss: -216744501182464.0000\n",
            "Epoch 76/100\n",
            "10502/10502 [==============================] - 41s 4ms/step - loss: -222104066719744.0000 - val_loss: -225412248502272.0000\n",
            "Epoch 77/100\n",
            "10502/10502 [==============================] - 37s 4ms/step - loss: -230937539379200.0000 - val_loss: -234316504236032.0000\n",
            "Epoch 78/100\n",
            "10502/10502 [==============================] - 44s 4ms/step - loss: -239992823611392.0000 - val_loss: -243444702248960.0000\n",
            "Epoch 79/100\n",
            "10502/10502 [==============================] - 38s 4ms/step - loss: -249287585824768.0000 - val_loss: -252810448863232.0000\n",
            "Epoch 80/100\n",
            "10502/10502 [==============================] - 40s 4ms/step - loss: -258802683215872.0000 - val_loss: -262407049969664.0000\n",
            "Epoch 81/100\n",
            "10502/10502 [==============================] - 40s 4ms/step - loss: -268575176654848.0000 - val_loss: -272248363548672.0000\n",
            "Epoch 82/100\n",
            "10502/10502 [==============================] - 39s 4ms/step - loss: -278585084477440.0000 - val_loss: -282330379845632.0000\n",
            "Epoch 83/100\n",
            "10502/10502 [==============================] - 38s 4ms/step - loss: -288841046949888.0000 - val_loss: -292658031362048.0000\n",
            "Epoch 84/100\n",
            "10502/10502 [==============================] - 42s 4ms/step - loss: -299337980575744.0000 - val_loss: -303230395351040.0000\n",
            "Epoch 85/100\n",
            "10502/10502 [==============================] - 44s 4ms/step - loss: -310096034791424.0000 - val_loss: -314065020780544.0000\n",
            "Epoch 86/100\n",
            "10502/10502 [==============================] - 41s 4ms/step - loss: -321099506122752.0000 - val_loss: -325147512799232.0000\n",
            "Epoch 87/100\n",
            "10502/10502 [==============================] - 37s 4ms/step - loss: -332361648570368.0000 - val_loss: -336483072344064.0000\n",
            "Epoch 88/100\n",
            "10502/10502 [==============================] - 44s 4ms/step - loss: -343886958428160.0000 - val_loss: -348079819587584.0000\n",
            "Epoch 89/100\n",
            "10502/10502 [==============================] - 44s 4ms/step - loss: -355672516460544.0000 - val_loss: -359944868069376.0000\n",
            "Epoch 90/100\n",
            "10502/10502 [==============================] - 38s 4ms/step - loss: -367734596567040.0000 - val_loss: -372087076159488.0000\n",
            "Epoch 91/100\n",
            "10502/10502 [==============================] - 41s 4ms/step - loss: -380058300579840.0000 - val_loss: -384482989309952.0000\n",
            "Epoch 92/100\n",
            "10502/10502 [==============================] - 38s 4ms/step - loss: -392656244965376.0000 - val_loss: -397157672681472.0000\n",
            "Epoch 93/100\n",
            "10502/10502 [==============================] - 42s 4ms/step - loss: -405519336472576.0000 - val_loss: -410102368567296.0000\n",
            "Epoch 94/100\n",
            "10502/10502 [==============================] - 40s 4ms/step - loss: -418677572763648.0000 - val_loss: -423331371155456.0000\n",
            "Epoch 95/100\n",
            "10502/10502 [==============================] - 42s 4ms/step - loss: -432108740804608.0000 - val_loss: -436840284815360.0000\n",
            "Epoch 96/100\n",
            "10502/10502 [==============================] - 42s 4ms/step - loss: -445812001734656.0000 - val_loss: -450628404903936.0000\n",
            "Epoch 97/100\n",
            "10502/10502 [==============================] - 40s 4ms/step - loss: -459814937296896.0000 - val_loss: -464698684211200.0000\n",
            "Epoch 98/100\n",
            "10502/10502 [==============================] - 42s 4ms/step - loss: -474037352398848.0000 - val_loss: -478933615116288.0000\n",
            "Epoch 99/100\n",
            "10502/10502 [==============================] - 38s 4ms/step - loss: -488469717581824.0000 - val_loss: -493438088773632.0000\n",
            "Epoch 100/100\n",
            "10502/10502 [==============================] - 44s 4ms/step - loss: -503181255639040.0000 - val_loss: -508236096602112.0000\n"
          ]
        }
      ]
    },
    {
      "cell_type": "markdown",
      "source": [
        "**Visualizamos la pérdida**"
      ],
      "metadata": {
        "id": "SivHTX-PqFVn"
      }
    },
    {
      "cell_type": "code",
      "source": [
        "plt.plot(history.history['loss'], label='Train loss')\n",
        "plt.plot(history.history['val_loss'], label='Test Loss')\n",
        "plt.legend();"
      ],
      "metadata": {
        "colab": {
          "base_uri": "https://localhost:8080/",
          "height": 445
        },
        "id": "kbmgVT9UqGTY",
        "outputId": "444a30e3-2be6-4b2f-af57-aff238f0b847"
      },
      "execution_count": 112,
      "outputs": [
        {
          "output_type": "display_data",
          "data": {
            "text/plain": [
              "<Figure size 640x480 with 1 Axes>"
            ],
            "image/png": "[encoded data removed]"
          },
          "metadata": {}
        }
      ]
    },
    {
      "cell_type": "code",
      "source": [
        "model.summary()"
      ],
      "metadata": {
        "colab": {
          "base_uri": "https://localhost:8080/"
        },
        "id": "83gnNyU477j0",
        "outputId": "a14117c9-a365-40c8-c346-4337a80256c9"
      },
      "execution_count": 113,
      "outputs": [
        {
          "output_type": "stream",
          "name": "stdout",
          "text": [
            "Model: \"sequential\"\n",
            "_________________________________________________________________\n",
            " Layer (type)                Output Shape              Param #   \n",
            "=================================================================\n",
            " dense (Dense)               (None, 19)                190       \n",
            "                                                                 \n",
            " dense_1 (Dense)             (None, 10)                200       \n",
            "                                                                 \n",
            " dense_2 (Dense)             (None, 1)                 11        \n",
            "                                                                 \n",
            " dense_3 (Dense)             (None, 19)                38        \n",
            "                                                                 \n",
            " dropout (Dropout)           (None, 19)                0         \n",
            "                                                                 \n",
            " dense_4 (Dense)             (None, 10)                200       \n",
            "                                                                 \n",
            " dropout_1 (Dropout)         (None, 10)                0         \n",
            "                                                                 \n",
            " dense_5 (Dense)             (None, 1)                 11        \n",
            "                                                                 \n",
            " dense_6 (Dense)             (None, 19)                38        \n",
            "                                                                 \n",
            " dropout_2 (Dropout)         (None, 19)                0         \n",
            "                                                                 \n",
            " dense_7 (Dense)             (None, 10)                200       \n",
            "                                                                 \n",
            " dropout_3 (Dropout)         (None, 10)                0         \n",
            "                                                                 \n",
            " dense_8 (Dense)             (None, 1)                 11        \n",
            "                                                                 \n",
            " dense_9 (Dense)             (None, 10)                20        \n",
            "                                                                 \n",
            " dense_10 (Dense)            (None, 10)                110       \n",
            "                                                                 \n",
            " dense_11 (Dense)            (None, 1)                 11        \n",
            "                                                                 \n",
            "=================================================================\n",
            "Total params: 1040 (4.06 KB)\n",
            "Trainable params: 1040 (4.06 KB)\n",
            "Non-trainable params: 0 (0.00 Byte)\n",
            "_________________________________________________________________\n"
          ]
        }
      ]
    },
    {
      "cell_type": "markdown",
      "source": [
        "## Conclusiones"
      ],
      "metadata": {
        "id": "DY-CqklxqkzU"
      }
    },
    {
      "cell_type": "markdown",
      "source": [
        "**El modelo que se elegiría para este modelo en particular es el de detención anticipada, ya que presenta el menor porcentaje de overfit y no tiende tanto a la baja como los demás modelos.**\n",
        "\n",
        "\n",
        "**Sin embargo, no se logró predecir el precio de venta de los carros de forma eficiente, dado que ningún modelo obtuvo un porcentaje alto, esto se puede deber a que los datos no son suficientes para predecir el precio de venta y existen otros factores no visualizados en este Dataframe.**\n",
        "\n",
        "**A pesar de esto se ha obtenido información importante que nos permite ver tendencias importantes en la marca de los carros, en los colores de los carros y las tendencias que predominaran en el futuro sobre el rubro automotriz.**"
      ],
      "metadata": {
        "id": "IcMY908IqrAi"
      }
    },
    {
      "cell_type": "markdown",
      "source": [
        "## Bibliografía\n",
        "\n",
        "\n",
        "\n",
        "*   https://colab.research.google.com/drive/12cDxZ_muSSaHpaBhxYKlvyzFK1agfF2j#scrollTo=5kfPO0Ua-ItB\n",
        "*   https://github.com/jeedorsa/Data-Analytics-CD/blob/main/12-NeuralNetworks/12-NeuralNetworks.ipynb\n",
        "\n",
        "*   https://colab.research.google.com/drive/1sotVux9RSAZt4d925gXAq8eVFcAXl2tk\n",
        "*   https://colab.research.google.com/drive/18M_aYdjhl_Doz8vZlH9uY40iL0cxyM0P\n",
        "\n",
        "\n",
        "*   https://colab.research.google.com/drive/1gdyiL9t2ZHh4yAUVkzAtzrKJMzK8dRys#scrollTo=u2sfEF2NEUzA\n",
        "*   https://colab.research.google.com/drive/16fVfPfS5Qu8XUW5cGXPaUlaEbKH-AqL6#scrollTo=MyQH7Dds6e7P\n",
        "\n"
      ],
      "metadata": {
        "id": "m7gmqdGgr6ns"
      }
    },
    {
      "cell_type": "code",
      "source": [],
      "metadata": {
        "id": "-Vbkpiu6rAXf"
      },
      "execution_count": null,
      "outputs": []
    }
  ]
}